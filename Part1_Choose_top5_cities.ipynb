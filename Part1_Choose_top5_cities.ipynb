{
 "cells": [
  {
   "attachments": {},
   "cell_type": "markdown",
   "metadata": {},
   "source": [
    "# Necessary libraries"
   ]
  },
  {
   "cell_type": "code",
   "execution_count": 2,
   "metadata": {},
   "outputs": [],
   "source": [
    "import pandas as pd\n",
    "import json\n",
    "import requests\n",
    "import matplotlib.pyplot as plt\n",
    "import numpy as np\n",
    "import plotly.express as px\n",
    "from PIL import Image"
   ]
  },
  {
   "cell_type": "code",
   "execution_count": 2,
   "metadata": {},
   "outputs": [],
   "source": [
    "cities = [\"Mont Saint Michel\",\n",
    "\"St Malo\",\n",
    "\"Bayeux\",\n",
    "\"Le Havre\",\n",
    "\"Rouen\",\n",
    "\"Paris\",\n",
    "\"Amiens\",\n",
    "\"Lille\",\n",
    "\"Strasbourg\",\n",
    "\"Chateau du Haut Koenigsbourg\",\n",
    "\"Colmar\",\n",
    "\"Eguisheim\",\n",
    "\"Besancon\",\n",
    "\"Dijon\",\n",
    "\"Annecy\",\n",
    "\"Grenoble\",\n",
    "\"Lyon\",\n",
    "\"Verdon Gorge\",\n",
    "\"Bormes les Mimosas\",\n",
    "\"Cassis\",\n",
    "\"Marseille\",\n",
    "\"Aix en Provence\",\n",
    "\"Avignon\",\n",
    "\"Uzes\",\n",
    "\"Nimes\",\n",
    "\"Aigues Mortes\",\n",
    "\"Saintes Maries de la mer\",\n",
    "\"Collioure\",\n",
    "\"Carcassonne\",\n",
    "\"Ariège\",\n",
    "\"Toulouse\",\n",
    "\"Montauban\",\n",
    "\"Biarritz\",\n",
    "\"Bayonne\",\n",
    "\"La Rochelle\"]"
   ]
  },
  {
   "attachments": {},
   "cell_type": "markdown",
   "metadata": {},
   "source": [
    "# Get GPS coordinates"
   ]
  },
  {
   "attachments": {},
   "cell_type": "markdown",
   "metadata": {},
   "source": [
    "##### https://nominatim.org/"
   ]
  },
  {
   "attachments": {},
   "cell_type": "markdown",
   "metadata": {},
   "source": [
    "### Test one city"
   ]
  },
  {
   "cell_type": "code",
   "execution_count": 3,
   "metadata": {},
   "outputs": [
    {
     "name": "stdout",
     "output_type": "stream",
     "text": [
      "Response is good : <Response [200]>\n",
      "Content is a JSON in bytes : b'[{\"place_id\":298162682,\"licence\":\"Data \\xc2\\xa9 OpenStreetMap contributors, ODbL 1.0. https://osm.org/copyright\",\"osm_type\":\"relation\",\"osm_id\":162431,\"boundingbox\":[\"43.2857792\",\"43.3580393\",\"-0.3925513\",\"-0.2943049\"],\"lat\":\"43.2957547\",\"lon\":\"-0.3685668\",\"display_name\":\"Pau, Pyr\\xc3\\xa9n\\xc3\\xa9es-Atlantiques, Nouvelle-Aquitaine, France m\\xc3\\xa9tropolitaine, 64000, France\",\"class\":\"boundary\",\"type\":\"administrative\",\"importance\":0.7156972095985377,\"icon\":\"https://nominatim.openstreetmap.org/ui/mapicons/poi_boundary_administrative.p.20.png\"},{\"place_id\":297806926,\"licence\":\"Data \\xc2\\xa9 OpenStreetMap contributors, ODbL 1.0. https://osm.org/copyright\",\"osm_type\":\"relation\",\"osm_id\":40092,\"boundingbox\":[\"39.7801496\",\"39.8212268\",\"8.7463439\",\"8.8131899\"],\"lat\":\"39.791546\",\"lon\":\"8.802331\",\"display_name\":\"Pau, Aristanis/Oristano, Sardigna/Sardegna, 09090, Italia\",\"class\":\"boundary\",\"type\":\"administrative\",\"importance\":0.5904390323466011,\"icon\":\"https://nominatim.openstreetmap.org/ui/mapicons/poi_boundary_administrative.p.20.png\"},{\"place_id\":297977244,\"licence\":\"Data \\xc2\\xa9 OpenStreetMap contributors, ODbL 1.0. https://osm.org/copyright\",\"osm_type\":\"relation\",\"osm_id\":340865,\"boundingbox\":[\"42.285864\",\"42.3292942\",\"3.090976\",\"3.1478031\"],\"lat\":\"42.3161009\",\"lon\":\"3.1161931\",\"display_name\":\"Pau, Alt Empord\\xc3\\xa0, Girona, Catalunya, 17494, Espa\\xc3\\xb1a\",\"class\":\"boundary\",\"type\":\"administrative\",\"importance\":0.5817909046562262,\"icon\":\"https://nominatim.openstreetmap.org/ui/mapicons/poi_boundary_administrative.p.20.png\"},{\"place_id\":298190108,\"licence\":\"Data \\xc2\\xa9 OpenStreetMap contributors, ODbL 1.0. https://osm.org/copyright\",\"osm_type\":\"relation\",\"osm_id\":2753623,\"boundingbox\":[\"43.0337485\",\"43.5967976\",\"-0.9485947\",\"0.0302752\"],\"lat\":\"43.315241900000004\",\"lon\":\"-0.3920623623567031\",\"display_name\":\"Pau, Pyr\\xc3\\xa9n\\xc3\\xa9es-Atlantiques, Nouvelle-Aquitaine, France m\\xc3\\xa9tropolitaine, France\",\"class\":\"boundary\",\"type\":\"administrative\",\"importance\":0.5074605266490374,\"icon\":\"https://nominatim.openstreetmap.org/ui/mapicons/poi_boundary_administrative.p.20.png\"},{\"place_id\":36528237,\"licence\":\"Data \\xc2\\xa9 OpenStreetMap contributors, ODbL 1.0. https://osm.org/copyright\",\"osm_type\":\"node\",\"osm_id\":2971298376,\"boundingbox\":[\"3.9600463\",\"4.0000463\",\"18.7028948\",\"18.7428948\"],\"lat\":\"3.9800463\",\"lon\":\"18.7228948\",\"display_name\":\"Pau, Libenge, Sud-Ubangi, R\\xc3\\xa9publique d\\xc3\\xa9mocratique du Congo\",\"class\":\"place\",\"type\":\"village\",\"importance\":0.385,\"icon\":\"https://nominatim.openstreetmap.org/ui/mapicons/poi_place_village.p.20.png\"},{\"place_id\":60939218,\"licence\":\"Data \\xc2\\xa9 OpenStreetMap contributors, ODbL 1.0. https://osm.org/copyright\",\"osm_type\":\"node\",\"osm_id\":5550201108,\"boundingbox\":[\"47.8842913\",\"47.9042913\",\"1.7730118\",\"1.7930118\"],\"lat\":\"47.8942913\",\"lon\":\"1.7830118\",\"display_name\":\"Pau, La Coll\\xc3\\xa9e, Chaingy, Orl\\xc3\\xa9ans, Loiret, Centre-Val de Loire, France m\\xc3\\xa9tropolitaine, 45380, France\",\"class\":\"place\",\"type\":\"neighbourhood\",\"importance\":0.36000999999999994},{\"place_id\":43165326,\"licence\":\"Data \\xc2\\xa9 OpenStreetMap contributors, ODbL 1.0. https://osm.org/copyright\",\"osm_type\":\"node\",\"osm_id\":3500083672,\"boundingbox\":[\"44.260049\",\"44.300049\",\"0.9121605\",\"0.9521605\"],\"lat\":\"44.280049\",\"lon\":\"0.9321605\",\"display_name\":\"Pau, Beauville, Agen, Lot-et-Garonne, Nouvelle-Aquitaine, France m\\xc3\\xa9tropolitaine, 47470, France\",\"class\":\"place\",\"type\":\"hamlet\",\"importance\":0.36,\"icon\":\"https://nominatim.openstreetmap.org/ui/mapicons/poi_place_village.p.20.png\"},{\"place_id\":53431848,\"licence\":\"Data \\xc2\\xa9 OpenStreetMap contributors, ODbL 1.0. https://osm.org/copyright\",\"osm_type\":\"node\",\"osm_id\":4693477820,\"boundingbox\":[\"45.5412131\",\"45.5812131\",\"6.1516104\",\"6.1916104\"],\"lat\":\"45.5612131\",\"lon\":\"6.1716104\",\"display_name\":\"Pau, Saint-Pierre-d\\'Albigny, Chamb\\xc3\\xa9ry, Savoie, Auvergne-Rh\\xc3\\xb4ne-Alpes, France m\\xc3\\xa9tropolitaine, 73250, France\",\"class\":\"place\",\"type\":\"hamlet\",\"importance\":0.36,\"icon\":\"https://nominatim.openstreetmap.org/ui/mapicons/poi_place_village.p.20.png\"},{\"place_id\":83604538,\"licence\":\"Data \\xc2\\xa9 OpenStreetMap contributors, ODbL 1.0. https://osm.org/copyright\",\"osm_type\":\"node\",\"osm_id\":8306692526,\"boundingbox\":[\"39.8237014\",\"39.8637014\",\"-8.3703367\",\"-8.3303367\"],\"lat\":\"39.8437014\",\"lon\":\"-8.3503367\",\"display_name\":\"Pau, Alvai\\xc3\\xa1zere, Leiria, 3250-185, Portugal\",\"class\":\"place\",\"type\":\"hamlet\",\"importance\":0.36,\"icon\":\"https://nominatim.openstreetmap.org/ui/mapicons/poi_place_village.p.20.png\"},{\"place_id\":81484759,\"licence\":\"Data \\xc2\\xa9 OpenStreetMap contributors, ODbL 1.0. https://osm.org/copyright\",\"osm_type\":\"node\",\"osm_id\":8025850559,\"boundingbox\":[\"31.3856085\",\"31.4256085\",\"77.6644227\",\"77.7044227\"],\"lat\":\"31.4056085\",\"lon\":\"77.6844227\",\"display_name\":\"Pau, Larsa, Rampur, Shimla District, Himachal Pradesh, 172022, India\",\"class\":\"place\",\"type\":\"hamlet\",\"importance\":0.36,\"icon\":\"https://nominatim.openstreetmap.org/ui/mapicons/poi_place_village.p.20.png\"}]'\n",
      "Pau coordinates are : 43.2957547 -0.3685668\n"
     ]
    }
   ],
   "source": [
    "# d'abord on va essayer juste sur Paris\n",
    "city = \"Pau\"\n",
    "# Request Nominatim (ne pas oublier le format JSON)\n",
    "r =  requests.get(f\"https://nominatim.openstreetmap.org/search?city={city}&format=json\")\n",
    "print(\"Response is good :\",r)\n",
    "print(\"Content is a JSON in bytes :\",r.content)\n",
    "\n",
    "latitude = r.json()[0][\"lat\"]\n",
    "longitude = r.json()[0][\"lon\"]\n",
    "print(city,\"coordinates are :\",latitude,longitude)"
   ]
  },
  {
   "attachments": {},
   "cell_type": "markdown",
   "metadata": {},
   "source": [
    "### Loop over all cities"
   ]
  },
  {
   "cell_type": "code",
   "execution_count": 4,
   "metadata": {},
   "outputs": [
    {
     "name": "stdout",
     "output_type": "stream",
     "text": [
      "Verdon Gorge not found, removed from analysis\n",
      "Ariège not found, removed from analysis\n",
      "Two cities were not found, indeed they are cities, one is a region, the other a place.\n"
     ]
    }
   ],
   "source": [
    "# List of cities not found:\n",
    "not_found_cities = []\n",
    "\n",
    "# List to retrieve a dictionnary for each city, containing the coordinates\n",
    "coordinates = []\n",
    "\n",
    "for city in cities:\n",
    "    r =  requests.get(f\"https://nominatim.openstreetmap.org/search?city={city}&format=json\")\n",
    "    # if the city is found, take coordinates\n",
    "    if len(r.json())>0:\n",
    "        latitude = r.json()[0][\"lat\"]\n",
    "        longitude = r.json()[0][\"lon\"]\n",
    "        GPS = {\"city\":city, \"latitude\":latitude, \"longitude\":longitude}\n",
    "        coordinates.append(GPS)\n",
    "    # if the city is not found, print a message\n",
    "    else:\n",
    "        print(f\"{city} not found, removed from analysis\")\n",
    "        not_found_cities.append(city)\n",
    "\n",
    "\n",
    "print(\"Two cities were not found, indeed they are cities, one is a region, the other a place.\")\n",
    "# print(coordinates)\n",
    "\n",
    "# Update our list of cities:\n",
    "cities = [city for city in cities if city not in not_found_cities]\n"
   ]
  },
  {
   "cell_type": "code",
   "execution_count": 5,
   "metadata": {},
   "outputs": [
    {
     "name": "stdout",
     "output_type": "stream",
     "text": [
      "                            city    latitude           longitude\n",
      "0              Mont Saint Michel  48.6359541  -1.511459954959514\n",
      "1                        St Malo   48.649518          -2.0260409\n",
      "2                         Bayeux  49.2764624          -0.7024738\n",
      "3                       Le Havre  49.4938975           0.1079732\n",
      "4                          Rouen  49.4404591           1.0939658\n",
      "5                          Paris  48.8534951           2.3483915\n",
      "6                         Amiens  49.8941708           2.2956951\n",
      "7                          Lille  50.6365654           3.0635282\n",
      "8                     Strasbourg   48.584614           7.7507127\n",
      "9   Chateau du Haut Koenigsbourg  48.2495226           7.3454923\n",
      "10                        Colmar  48.0777517           7.3579641\n",
      "11                     Eguisheim  48.0447968           7.3079618\n",
      "12                      Besancon  47.2380222           6.0243622\n",
      "13                         Dijon  47.3215806           5.0414701\n",
      "14                        Annecy  45.8992348           6.1288847\n",
      "15                      Grenoble  45.1875602           5.7357819\n",
      "16                          Lyon  45.7578137           4.8320114\n",
      "17            Bormes les Mimosas  43.1506968           6.3419285\n",
      "18                        Cassis  43.2140359           5.5396318\n",
      "19                     Marseille  43.2961743           5.3699525\n",
      "20               Aix en Provence  43.5298424           5.4474738\n",
      "21                       Avignon  43.9492493           4.8059012\n",
      "22                          Uzes  44.0121279           4.4196718\n",
      "23                         Nimes  43.8374249           4.3600687\n",
      "24                 Aigues Mortes  43.5658225           4.1912837\n",
      "25      Saintes Maries de la mer  43.4522771           4.4287172\n",
      "26                     Collioure    42.52505           3.0831554\n",
      "27                   Carcassonne  43.2130358           2.3491069\n",
      "28                      Toulouse  43.6044622           1.4442469\n",
      "29                     Montauban  44.0175835           1.3549991\n",
      "30                      Biarritz  43.4832523          -1.5592776\n",
      "31                       Bayonne  43.4945144          -1.4736657\n",
      "32                   La Rochelle  46.1591126          -1.1520434\n"
     ]
    }
   ],
   "source": [
    "coordinates_df = pd.DataFrame(coordinates)\n",
    "print(coordinates_df)"
   ]
  },
  {
   "attachments": {},
   "cell_type": "markdown",
   "metadata": {},
   "source": [
    "# Get weather - Part 1"
   ]
  },
  {
   "attachments": {},
   "cell_type": "markdown",
   "metadata": {},
   "source": [
    "##### https://openweathermap.org/appid (subscribe to get a free apikey)\n",
    "##### This API gives you CURRENT weather\n",
    "\n",
    "Output :\n",
    "\n",
    "{\n",
    "  \"coord\": {\n",
    "    \"lon\": 10.99,\n",
    "    \"lat\": 44.34\n",
    "  },\n",
    "  \"weather\": [\n",
    "    {\n",
    "      \"id\": 501,\n",
    "      \"main\": \"Rain\",\n",
    "      \"description\": \"moderate rain\",\n",
    "      \"icon\": \"10d\"\n",
    "    }\n",
    "  ],\n",
    "  \"base\": \"stations\",\n",
    "  \"main\": {\n",
    "    \"temp\": 298.48,\n",
    "    \"feels_like\": 298.74,\n",
    "    \"temp_min\": 297.56,\n",
    "    \"temp_max\": 300.05,\n",
    "    \"pressure\": 1015,\n",
    "    \"humidity\": 64,\n",
    "    \"sea_level\": 1015,\n",
    "    \"grnd_level\": 933\n",
    "  },\n",
    "  \"visibility\": 10000,\n",
    "  \"wind\": {\n",
    "    \"speed\": 0.62,\n",
    "    \"deg\": 349,\n",
    "    \"gust\": 1.18\n",
    "  },\n",
    "  \"rain\": {\n",
    "    \"1h\": 3.16\n",
    "  },\n",
    "  \"clouds\": {\n",
    "    \"all\": 100\n",
    "  },\n",
    "  \"dt\": 1661870592,\n",
    "  \"sys\": {\n",
    "    \"type\": 2,\n",
    "    \"id\": 2075663,\n",
    "    \"country\": \"IT\",\n",
    "    \"sunrise\": 1661834187,\n",
    "    \"sunset\": 1661882248\n",
    "  },\n",
    "  \"timezone\": 7200,\n",
    "  \"id\": 3163858,\n",
    "  \"name\": \"Zocca\",\n",
    "  \"cod\": 200\n",
    "}   "
   ]
  },
  {
   "attachments": {},
   "cell_type": "markdown",
   "metadata": {},
   "source": [
    "### Test one city"
   ]
  },
  {
   "cell_type": "code",
   "execution_count": 6,
   "metadata": {},
   "outputs": [
    {
     "name": "stdout",
     "output_type": "stream",
     "text": [
      "Paris weather is : {'city': 'Paris', 'latitude': '48.8534951', 'longitude': '2.3483915', 'main_weather': 'overcast clouds', 'feels_like': 22.44, 'humidity': 50, 'wind': 6.17}\n"
     ]
    }
   ],
   "source": [
    "API_key = '9aa4c755017865068ac661a22fc34f2a'\n",
    "# Use URL received by email for our suscription\n",
    "\n",
    "city = \"Paris\"\n",
    "# Retrieve coordinates from the previous list made\n",
    "lat, lon = [(dico['latitude'], dico['longitude']) for dico in coordinates if dico['city'] == city][0]\n",
    "# Call API\n",
    "r =  requests.get(f\"https://api.openweathermap.org/data/2.5/weather?lat={lat}&lon={lon}&APPID={API_key}&units=metric\")\n",
    "\n",
    "if r.status_code == 200:\n",
    "    r_json = r.json()\n",
    "    weather = {\"city\":city,\n",
    "            'latitude':lat, \n",
    "            'longitude':lon, \n",
    "            \"main_weather\": r_json[\"weather\"][0][\"description\"],\n",
    "            \"feels_like\": r_json[\"main\"][\"feels_like\"],\n",
    "            \"humidity\": r_json[\"main\"][\"humidity\"],\n",
    "            \"wind\": r_json[\"wind\"][\"speed\"]}\n",
    "\n",
    "print(city,\"weather is :\",weather)"
   ]
  },
  {
   "attachments": {},
   "cell_type": "markdown",
   "metadata": {},
   "source": [
    "### Loop over all cities"
   ]
  },
  {
   "cell_type": "code",
   "execution_count": 7,
   "metadata": {},
   "outputs": [],
   "source": [
    "API_key = '9aa4c755017865068ac661a22fc34f2a'\n",
    "\n",
    "# Create new list\n",
    "liste_weathers = []\n",
    "\n",
    "# Use URL received by email for our suscription\n",
    "\n",
    "for city in cities:\n",
    "        # Retrieve coordinates from the previous list made\n",
    "        lat, lon = [(dico['latitude'], dico['longitude']) for dico in coordinates if dico['city'] == city][0]\n",
    "        # Call API\n",
    "        r =  requests.get(f\"https://api.openweathermap.org/data/2.5/weather?lat={lat}&lon={lon}&APPID={API_key}&units=metric\")\n",
    "        if r.status_code == 200:\n",
    "                r_json = r.json()\n",
    "                weather = {\"city\":city,\n",
    "                        'latitude':lat, \n",
    "                        'longitude':lon, \n",
    "                        \"main_weather\": r_json[\"weather\"][0][\"description\"],\n",
    "                        \"feels_like\": r_json[\"main\"][\"feels_like\"],\n",
    "                        \"humidity\": r_json[\"main\"][\"humidity\"],\n",
    "                        \"wind\": r_json[\"wind\"][\"speed\"]}\n",
    "                liste_weathers.append(weather)\n",
    "        else:\n",
    "                print(f\"{city} not found, skipped\")\n",
    "\n",
    "\n",
    "# print(liste_weathers)"
   ]
  },
  {
   "cell_type": "code",
   "execution_count": 8,
   "metadata": {},
   "outputs": [
    {
     "data": {
      "text/html": [
       "<div>\n",
       "<style scoped>\n",
       "    .dataframe tbody tr th:only-of-type {\n",
       "        vertical-align: middle;\n",
       "    }\n",
       "\n",
       "    .dataframe tbody tr th {\n",
       "        vertical-align: top;\n",
       "    }\n",
       "\n",
       "    .dataframe thead th {\n",
       "        text-align: right;\n",
       "    }\n",
       "</style>\n",
       "<table border=\"1\" class=\"dataframe\">\n",
       "  <thead>\n",
       "    <tr style=\"text-align: right;\">\n",
       "      <th></th>\n",
       "      <th>city</th>\n",
       "      <th>latitude</th>\n",
       "      <th>longitude</th>\n",
       "      <th>main_weather</th>\n",
       "      <th>feels_like</th>\n",
       "      <th>humidity</th>\n",
       "      <th>wind</th>\n",
       "    </tr>\n",
       "  </thead>\n",
       "  <tbody>\n",
       "    <tr>\n",
       "      <th>0</th>\n",
       "      <td>Mont Saint Michel</td>\n",
       "      <td>48.6359541</td>\n",
       "      <td>-1.511459954959514</td>\n",
       "      <td>broken clouds</td>\n",
       "      <td>18.43</td>\n",
       "      <td>80</td>\n",
       "      <td>5.81</td>\n",
       "    </tr>\n",
       "    <tr>\n",
       "      <th>1</th>\n",
       "      <td>St Malo</td>\n",
       "      <td>48.649518</td>\n",
       "      <td>-2.0260409</td>\n",
       "      <td>overcast clouds</td>\n",
       "      <td>18.92</td>\n",
       "      <td>63</td>\n",
       "      <td>5.66</td>\n",
       "    </tr>\n",
       "    <tr>\n",
       "      <th>2</th>\n",
       "      <td>Bayeux</td>\n",
       "      <td>49.2764624</td>\n",
       "      <td>-0.7024738</td>\n",
       "      <td>overcast clouds</td>\n",
       "      <td>18.57</td>\n",
       "      <td>56</td>\n",
       "      <td>6.89</td>\n",
       "    </tr>\n",
       "    <tr>\n",
       "      <th>3</th>\n",
       "      <td>Le Havre</td>\n",
       "      <td>49.4938975</td>\n",
       "      <td>0.1079732</td>\n",
       "      <td>overcast clouds</td>\n",
       "      <td>16.51</td>\n",
       "      <td>88</td>\n",
       "      <td>5.66</td>\n",
       "    </tr>\n",
       "    <tr>\n",
       "      <th>4</th>\n",
       "      <td>Rouen</td>\n",
       "      <td>49.4404591</td>\n",
       "      <td>1.0939658</td>\n",
       "      <td>overcast clouds</td>\n",
       "      <td>19.48</td>\n",
       "      <td>65</td>\n",
       "      <td>4.63</td>\n",
       "    </tr>\n",
       "  </tbody>\n",
       "</table>\n",
       "</div>"
      ],
      "text/plain": [
       "                city    latitude           longitude     main_weather  \\\n",
       "0  Mont Saint Michel  48.6359541  -1.511459954959514    broken clouds   \n",
       "1            St Malo   48.649518          -2.0260409  overcast clouds   \n",
       "2             Bayeux  49.2764624          -0.7024738  overcast clouds   \n",
       "3           Le Havre  49.4938975           0.1079732  overcast clouds   \n",
       "4              Rouen  49.4404591           1.0939658  overcast clouds   \n",
       "\n",
       "   feels_like  humidity  wind  \n",
       "0       18.43        80  5.81  \n",
       "1       18.92        63  5.66  \n",
       "2       18.57        56  6.89  \n",
       "3       16.51        88  5.66  \n",
       "4       19.48        65  4.63  "
      ]
     },
     "execution_count": 8,
     "metadata": {},
     "output_type": "execute_result"
    }
   ],
   "source": [
    "weather_df = pd.DataFrame(data = liste_weathers)\n",
    "weather_df.head()"
   ]
  },
  {
   "attachments": {},
   "cell_type": "markdown",
   "metadata": {},
   "source": [
    "# Get Weather - Part 2"
   ]
  },
  {
   "attachments": {},
   "cell_type": "markdown",
   "metadata": {},
   "source": [
    "##### https://openweathermap.org/api/one-call-api\n",
    "##### This API gives you FORECAST weather (5days forecast, many timepoints per day)\n",
    "\n",
    "Output:\n",
    "\n",
    "\n",
    "{\n",
    "  \"cod\": \"200\",\n",
    "  \"message\": 0,\n",
    "  \"cnt\": 40,\n",
    "  \"list\": [\n",
    "    {\n",
    "      \"dt\": 1661871600,\n",
    "      \"main\": {\n",
    "        \"temp\": 296.76,\n",
    "        \"feels_like\": 296.98,\n",
    "        \"temp_min\": 296.76,\n",
    "        \"temp_max\": 297.87,\n",
    "        \"pressure\": 1015,\n",
    "        \"sea_level\": 1015,\n",
    "        \"grnd_level\": 933,\n",
    "        \"humidity\": 69,\n",
    "        \"temp_kf\": -1.11\n",
    "      },\n",
    "      \"weather\": [\n",
    "        {\n",
    "          \"id\": 500,\n",
    "          \"main\": \"Rain\",\n",
    "          \"description\": \"light rain\",\n",
    "          \"icon\": \"10d\"\n",
    "        }\n",
    "      ],\n",
    "      \"clouds\": {\n",
    "        \"all\": 100\n",
    "      },\n",
    "      \"wind\": {\n",
    "        \"speed\": 0.62,\n",
    "        \"deg\": 349,\n",
    "        \"gust\": 1.18\n",
    "      },\n",
    "      \"visibility\": 10000,\n",
    "      \"pop\": 0.32,\n",
    "      \"rain\": {\n",
    "        \"3h\": 0.26\n",
    "      },\n",
    "      \"sys\": {\n",
    "        \"pod\": \"d\"\n",
    "      },\n",
    "      \"dt_txt\": \"2022-08-30 15:00:00\"\n",
    "    },\n",
    "    {\n",
    "      new dictionnary with another dt timepoint, etc etc .... "
   ]
  },
  {
   "attachments": {},
   "cell_type": "markdown",
   "metadata": {},
   "source": [
    "### Test one city"
   ]
  },
  {
   "cell_type": "code",
   "execution_count": 9,
   "metadata": {},
   "outputs": [
    {
     "data": {
      "text/html": [
       "<div>\n",
       "<style scoped>\n",
       "    .dataframe tbody tr th:only-of-type {\n",
       "        vertical-align: middle;\n",
       "    }\n",
       "\n",
       "    .dataframe tbody tr th {\n",
       "        vertical-align: top;\n",
       "    }\n",
       "\n",
       "    .dataframe thead th {\n",
       "        text-align: right;\n",
       "    }\n",
       "</style>\n",
       "<table border=\"1\" class=\"dataframe\">\n",
       "  <thead>\n",
       "    <tr style=\"text-align: right;\">\n",
       "      <th></th>\n",
       "      <th>city</th>\n",
       "      <th>latitude</th>\n",
       "      <th>longitude</th>\n",
       "      <th>timepoint</th>\n",
       "      <th>main_weather</th>\n",
       "      <th>feels_like</th>\n",
       "      <th>humidity</th>\n",
       "      <th>wind_speed</th>\n",
       "    </tr>\n",
       "  </thead>\n",
       "  <tbody>\n",
       "    <tr>\n",
       "      <th>0</th>\n",
       "      <td>Paris</td>\n",
       "      <td>48.8534951</td>\n",
       "      <td>2.3483915</td>\n",
       "      <td>1689768000</td>\n",
       "      <td>overcast clouds</td>\n",
       "      <td>22.46</td>\n",
       "      <td>50</td>\n",
       "      <td>4.92</td>\n",
       "    </tr>\n",
       "    <tr>\n",
       "      <th>1</th>\n",
       "      <td>Paris</td>\n",
       "      <td>48.8534951</td>\n",
       "      <td>2.3483915</td>\n",
       "      <td>1689778800</td>\n",
       "      <td>overcast clouds</td>\n",
       "      <td>23.66</td>\n",
       "      <td>43</td>\n",
       "      <td>5.48</td>\n",
       "    </tr>\n",
       "    <tr>\n",
       "      <th>2</th>\n",
       "      <td>Paris</td>\n",
       "      <td>48.8534951</td>\n",
       "      <td>2.3483915</td>\n",
       "      <td>1689789600</td>\n",
       "      <td>overcast clouds</td>\n",
       "      <td>23.11</td>\n",
       "      <td>44</td>\n",
       "      <td>4.89</td>\n",
       "    </tr>\n",
       "    <tr>\n",
       "      <th>3</th>\n",
       "      <td>Paris</td>\n",
       "      <td>48.8534951</td>\n",
       "      <td>2.3483915</td>\n",
       "      <td>1689800400</td>\n",
       "      <td>few clouds</td>\n",
       "      <td>19.26</td>\n",
       "      <td>60</td>\n",
       "      <td>3.40</td>\n",
       "    </tr>\n",
       "    <tr>\n",
       "      <th>4</th>\n",
       "      <td>Paris</td>\n",
       "      <td>48.8534951</td>\n",
       "      <td>2.3483915</td>\n",
       "      <td>1689811200</td>\n",
       "      <td>scattered clouds</td>\n",
       "      <td>16.80</td>\n",
       "      <td>69</td>\n",
       "      <td>2.40</td>\n",
       "    </tr>\n",
       "  </tbody>\n",
       "</table>\n",
       "</div>"
      ],
      "text/plain": [
       "    city    latitude  longitude   timepoint      main_weather  feels_like  \\\n",
       "0  Paris  48.8534951  2.3483915  1689768000   overcast clouds       22.46   \n",
       "1  Paris  48.8534951  2.3483915  1689778800   overcast clouds       23.66   \n",
       "2  Paris  48.8534951  2.3483915  1689789600   overcast clouds       23.11   \n",
       "3  Paris  48.8534951  2.3483915  1689800400        few clouds       19.26   \n",
       "4  Paris  48.8534951  2.3483915  1689811200  scattered clouds       16.80   \n",
       "\n",
       "   humidity  wind_speed  \n",
       "0        50        4.92  \n",
       "1        43        5.48  \n",
       "2        44        4.89  \n",
       "3        60        3.40  \n",
       "4        69        2.40  "
      ]
     },
     "execution_count": 9,
     "metadata": {},
     "output_type": "execute_result"
    }
   ],
   "source": [
    "# déjà on change d'API on utilise plus WEATHER (meteo actuelle) mais FORECAST (meteo 5jours)\n",
    "# on va demander la vitesse du vent en prévision sur 5 jours, données chaque 3h\n",
    "\n",
    "API_key = '9aa4c755017865068ac661a22fc34f2a'\n",
    "\n",
    "# Create a list for each weather criterium containing all timepoints\n",
    "forecast_weather = []\n",
    "\n",
    "city = \"Paris\" \n",
    "# Retrieve coordinates from the previous list made\n",
    "lat, lon = [(dico['latitude'], dico['longitude']) for dico in coordinates if dico['city'] == city][0]\n",
    "# Call API\n",
    "r = requests.get(f\"https://api.openweathermap.org/data/2.5/forecast?lat={lat}&lon={lon}&appid={API_key}&units=metric\")\n",
    "if r.status_code == 200:\n",
    "    # Retrieve the list containing all the timepoints (each timepoint in a dictionary):\n",
    "    r_json_criteria = r.json()['list']\n",
    "    # Retrieve for each timepoint the information needed:\n",
    "    for timepoint in r_json_criteria:\n",
    "        weather = {\n",
    "            \"city\": city,\n",
    "            'latitude': lat, \n",
    "            'longitude': lon, \n",
    "            \"timepoint\": timepoint[\"dt\"],\n",
    "            \"main_weather\": timepoint[\"weather\"][0][\"description\"],\n",
    "            \"feels_like\": timepoint[\"main\"][\"feels_like\"],\n",
    "            \"humidity\": timepoint[\"main\"][\"humidity\"],\n",
    "            \"wind_speed\": timepoint[\"wind\"][\"speed\"],\n",
    "        }\n",
    "        forecast_weather.append(weather)\n",
    "else:\n",
    "    print(f\"{city} not found, skipped\")\n",
    "\n",
    "forecast_weather_df = pd.DataFrame(data = forecast_weather)\n",
    "forecast_weather_df.head()"
   ]
  },
  {
   "cell_type": "markdown",
   "metadata": {},
   "source": [
    "### Loop over all cities"
   ]
  },
  {
   "cell_type": "code",
   "execution_count": 10,
   "metadata": {},
   "outputs": [],
   "source": [
    "API_key = '9aa4c755017865068ac661a22fc34f2a'\n",
    "\n",
    "# Create a list for each weather criterium containing all timepoints\n",
    "forecast_weather = []\n",
    "\n",
    "for city in cities:\n",
    "\n",
    "    # Retrieve coordinates from the previous list made\n",
    "    lat, lon = [(dico['latitude'], dico['longitude']) for dico in coordinates if dico['city'] == city][0]\n",
    "    # Call API\n",
    "    r = requests.get(f\"https://api.openweathermap.org/data/2.5/forecast?lat={lat}&lon={lon}&appid={API_key}&units=metric\")\n",
    "    if r.status_code == 200:\n",
    "        # Retrieve the list containing all the timepoints (each timepoint in a dictionary):\n",
    "        r_json_criteria = r.json()['list']\n",
    "        # Retrieve for each timepoint the information needed:\n",
    "        for timepoint in r_json_criteria:\n",
    "            weather = {\n",
    "                \"city\": city,\n",
    "                'latitude': lat, \n",
    "                'longitude': lon, \n",
    "                \"timepoint\": timepoint[\"dt\"],\n",
    "                \"main_weather\": timepoint[\"weather\"][0][\"description\"],\n",
    "                \"feels_like\": timepoint[\"main\"][\"feels_like\"],\n",
    "                \"humidity\": timepoint[\"main\"][\"humidity\"],\n",
    "                \"wind_speed\": timepoint[\"wind\"][\"speed\"],\n",
    "            }\n",
    "            forecast_weather.append(weather)\n",
    "    else:\n",
    "        print(f\"{city} not found, skipped\")"
   ]
  },
  {
   "cell_type": "code",
   "execution_count": 11,
   "metadata": {},
   "outputs": [
    {
     "data": {
      "text/html": [
       "<div>\n",
       "<style scoped>\n",
       "    .dataframe tbody tr th:only-of-type {\n",
       "        vertical-align: middle;\n",
       "    }\n",
       "\n",
       "    .dataframe tbody tr th {\n",
       "        vertical-align: top;\n",
       "    }\n",
       "\n",
       "    .dataframe thead th {\n",
       "        text-align: right;\n",
       "    }\n",
       "</style>\n",
       "<table border=\"1\" class=\"dataframe\">\n",
       "  <thead>\n",
       "    <tr style=\"text-align: right;\">\n",
       "      <th></th>\n",
       "      <th>city</th>\n",
       "      <th>latitude</th>\n",
       "      <th>longitude</th>\n",
       "      <th>timepoint</th>\n",
       "      <th>main_weather</th>\n",
       "      <th>feels_like</th>\n",
       "      <th>humidity</th>\n",
       "      <th>wind_speed</th>\n",
       "      <th>city_id</th>\n",
       "    </tr>\n",
       "  </thead>\n",
       "  <tbody>\n",
       "    <tr>\n",
       "      <th>0</th>\n",
       "      <td>Mont Saint Michel</td>\n",
       "      <td>48.6359541</td>\n",
       "      <td>-1.511459954959514</td>\n",
       "      <td>1689768000</td>\n",
       "      <td>overcast clouds</td>\n",
       "      <td>18.43</td>\n",
       "      <td>80</td>\n",
       "      <td>6.08</td>\n",
       "      <td>24</td>\n",
       "    </tr>\n",
       "    <tr>\n",
       "      <th>1</th>\n",
       "      <td>Mont Saint Michel</td>\n",
       "      <td>48.6359541</td>\n",
       "      <td>-1.511459954959514</td>\n",
       "      <td>1689778800</td>\n",
       "      <td>overcast clouds</td>\n",
       "      <td>19.15</td>\n",
       "      <td>72</td>\n",
       "      <td>6.20</td>\n",
       "      <td>24</td>\n",
       "    </tr>\n",
       "    <tr>\n",
       "      <th>2</th>\n",
       "      <td>Mont Saint Michel</td>\n",
       "      <td>48.6359541</td>\n",
       "      <td>-1.511459954959514</td>\n",
       "      <td>1689789600</td>\n",
       "      <td>broken clouds</td>\n",
       "      <td>18.40</td>\n",
       "      <td>71</td>\n",
       "      <td>6.03</td>\n",
       "      <td>24</td>\n",
       "    </tr>\n",
       "    <tr>\n",
       "      <th>3</th>\n",
       "      <td>Mont Saint Michel</td>\n",
       "      <td>48.6359541</td>\n",
       "      <td>-1.511459954959514</td>\n",
       "      <td>1689800400</td>\n",
       "      <td>scattered clouds</td>\n",
       "      <td>14.70</td>\n",
       "      <td>90</td>\n",
       "      <td>4.18</td>\n",
       "      <td>24</td>\n",
       "    </tr>\n",
       "    <tr>\n",
       "      <th>4</th>\n",
       "      <td>Mont Saint Michel</td>\n",
       "      <td>48.6359541</td>\n",
       "      <td>-1.511459954959514</td>\n",
       "      <td>1689811200</td>\n",
       "      <td>broken clouds</td>\n",
       "      <td>14.47</td>\n",
       "      <td>93</td>\n",
       "      <td>3.52</td>\n",
       "      <td>24</td>\n",
       "    </tr>\n",
       "  </tbody>\n",
       "</table>\n",
       "</div>"
      ],
      "text/plain": [
       "                city    latitude           longitude   timepoint  \\\n",
       "0  Mont Saint Michel  48.6359541  -1.511459954959514  1689768000   \n",
       "1  Mont Saint Michel  48.6359541  -1.511459954959514  1689778800   \n",
       "2  Mont Saint Michel  48.6359541  -1.511459954959514  1689789600   \n",
       "3  Mont Saint Michel  48.6359541  -1.511459954959514  1689800400   \n",
       "4  Mont Saint Michel  48.6359541  -1.511459954959514  1689811200   \n",
       "\n",
       "       main_weather  feels_like  humidity  wind_speed  city_id  \n",
       "0   overcast clouds       18.43        80        6.08       24  \n",
       "1   overcast clouds       19.15        72        6.20       24  \n",
       "2     broken clouds       18.40        71        6.03       24  \n",
       "3  scattered clouds       14.70        90        4.18       24  \n",
       "4     broken clouds       14.47        93        3.52       24  "
      ]
     },
     "metadata": {},
     "output_type": "display_data"
    }
   ],
   "source": [
    "# Create dataframe\n",
    "forecast_weather_df = pd.DataFrame(data = forecast_weather)\n",
    "\n",
    "# Create unique identifier for each city\n",
    "city_ids = forecast_weather_df.groupby('city').ngroup() + 1\n",
    "forecast_weather_df['city_id'] = city_ids\n",
    "display(forecast_weather_df.head())\n",
    "\n",
    "# Save this in a csv file\n",
    "forecast_weather_df.to_csv('scrap_results/forecast_weather_35cities.csv')"
   ]
  },
  {
   "cell_type": "code",
   "execution_count": 12,
   "metadata": {},
   "outputs": [
    {
     "data": {
      "text/html": [
       "<div>\n",
       "<style scoped>\n",
       "    .dataframe tbody tr th:only-of-type {\n",
       "        vertical-align: middle;\n",
       "    }\n",
       "\n",
       "    .dataframe tbody tr th {\n",
       "        vertical-align: top;\n",
       "    }\n",
       "\n",
       "    .dataframe thead th {\n",
       "        text-align: right;\n",
       "    }\n",
       "</style>\n",
       "<table border=\"1\" class=\"dataframe\">\n",
       "  <thead>\n",
       "    <tr style=\"text-align: right;\">\n",
       "      <th></th>\n",
       "      <th>feels_like</th>\n",
       "      <th>humidity</th>\n",
       "      <th>wind_speed</th>\n",
       "      <th>city_id</th>\n",
       "      <th>main_weather</th>\n",
       "    </tr>\n",
       "    <tr>\n",
       "      <th>city</th>\n",
       "      <th></th>\n",
       "      <th></th>\n",
       "      <th></th>\n",
       "      <th></th>\n",
       "      <th></th>\n",
       "    </tr>\n",
       "  </thead>\n",
       "  <tbody>\n",
       "    <tr>\n",
       "      <th>Aigues Mortes</th>\n",
       "      <td>27.21625</td>\n",
       "      <td>49.000</td>\n",
       "      <td>4.36500</td>\n",
       "      <td>1.0</td>\n",
       "      <td>clear sky</td>\n",
       "    </tr>\n",
       "    <tr>\n",
       "      <th>Aix en Provence</th>\n",
       "      <td>28.27925</td>\n",
       "      <td>36.400</td>\n",
       "      <td>2.96950</td>\n",
       "      <td>2.0</td>\n",
       "      <td>clear sky</td>\n",
       "    </tr>\n",
       "    <tr>\n",
       "      <th>Amiens</th>\n",
       "      <td>16.77650</td>\n",
       "      <td>73.125</td>\n",
       "      <td>4.66125</td>\n",
       "      <td>3.0</td>\n",
       "      <td>overcast clouds</td>\n",
       "    </tr>\n",
       "    <tr>\n",
       "      <th>Annecy</th>\n",
       "      <td>21.57675</td>\n",
       "      <td>63.225</td>\n",
       "      <td>1.44600</td>\n",
       "      <td>4.0</td>\n",
       "      <td>clear sky</td>\n",
       "    </tr>\n",
       "    <tr>\n",
       "      <th>Avignon</th>\n",
       "      <td>27.95925</td>\n",
       "      <td>36.450</td>\n",
       "      <td>4.33725</td>\n",
       "      <td>5.0</td>\n",
       "      <td>clear sky</td>\n",
       "    </tr>\n",
       "  </tbody>\n",
       "</table>\n",
       "</div>"
      ],
      "text/plain": [
       "                 feels_like  humidity  wind_speed  city_id     main_weather\n",
       "city                                                                       \n",
       "Aigues Mortes      27.21625    49.000     4.36500      1.0        clear sky\n",
       "Aix en Provence    28.27925    36.400     2.96950      2.0        clear sky\n",
       "Amiens             16.77650    73.125     4.66125      3.0  overcast clouds\n",
       "Annecy             21.57675    63.225     1.44600      4.0        clear sky\n",
       "Avignon            27.95925    36.450     4.33725      5.0        clear sky"
      ]
     },
     "execution_count": 12,
     "metadata": {},
     "output_type": "execute_result"
    }
   ],
   "source": [
    "# Create average forecast weather dataframe\n",
    "\n",
    "avg_numerical = forecast_weather_df.groupby('city').mean()\n",
    "avg_categorical = forecast_weather_df.groupby('city')['main_weather'].agg(lambda x: x.value_counts().index[0])\n",
    "avg_forecast_weather_df = pd.concat([avg_numerical,avg_categorical],axis=1)\n",
    "avg_forecast_weather_df = avg_forecast_weather_df.drop(columns=\"timepoint\")\n",
    "avg_forecast_weather_df.head()\n"
   ]
  },
  {
   "attachments": {},
   "cell_type": "markdown",
   "metadata": {},
   "source": [
    "### Choose top 5 cities"
   ]
  },
  {
   "attachments": {},
   "cell_type": "markdown",
   "metadata": {},
   "source": [
    "#### Overview for each criterium"
   ]
  },
  {
   "cell_type": "code",
   "execution_count": 13,
   "metadata": {},
   "outputs": [],
   "source": [
    "# Transform the categorical variable main_weather into numerical\n",
    "\n",
    "# We assign each value to a number (in a logical order)\n",
    "main_weather_importance = {'clear sky': 5, 'few clouds': 4, 'scattered clouds': 3, 'broken clouds': 2, 'light rain': 1}\n",
    "# Creation of an additionnal column to enter those scores\n",
    "avg_forecast_weather_df['main_weather_scores'] = avg_forecast_weather_df['main_weather'].map(main_weather_importance)\n",
    "# Conversion of this column into numerical\n",
    "avg_forecast_weather_df['main_weather_scores'] = pd.to_numeric(avg_forecast_weather_df['main_weather_scores'], errors='coerce')\n"
   ]
  },
  {
   "cell_type": "code",
   "execution_count": 17,
   "metadata": {},
   "outputs": [
    {
     "name": "stdout",
     "output_type": "stream",
     "text": [
      "We want the highest feels_like temperature and the lowest humidity, high wind_speed for doing some kitesurfing, and nice main_weather\n"
     ]
    },
    {
     "data": {
      "image/png": "[encoded data removed]",
      "text/plain": [
       "<Figure size 2000x600 with 4 Axes>"
      ]
     },
     "metadata": {},
     "output_type": "display_data"
    }
   ],
   "source": [
    "print(\"We want the highest feels_like temperature and the lowest humidity, high wind_speed for doing some kitesurfing, and nice main_weather\")\n",
    "\n",
    "# Creation of one dataframe by variable (sorted)\n",
    "top_temperature = avg_forecast_weather_df.sort_values(by='feels_like', ascending=True)['feels_like']\n",
    "top_humidity = avg_forecast_weather_df.sort_values(by='humidity', ascending=False)['humidity']\n",
    "top_wind = avg_forecast_weather_df.sort_values(by='wind_speed', ascending=True)['wind_speed']\n",
    "top_main_weather = avg_forecast_weather_df.sort_values(by='main_weather_scores', ascending=False)['main_weather_scores']\n",
    "\n",
    "# Figure with subplots\n",
    "fig, axs = plt.subplots(1, 4, figsize=(20, 6))\n",
    "\n",
    "# Subplot 1: Temperature\n",
    "axs[0].barh(top_temperature.index, top_temperature)\n",
    "axs[0].set_title('Temperature feels like (°C)')\n",
    "\n",
    "# Subplot 2: Humidity\n",
    "axs[1].barh(top_humidity.index, top_humidity)\n",
    "axs[1].set_title('Humidity')\n",
    "\n",
    "# Subplot 3: Wind Speed\n",
    "axs[2].barh(top_wind.index, top_wind)\n",
    "axs[2].set_title('Wind Speed')\n",
    "\n",
    "# # Subplot 4: Main Weather\n",
    "axs[3].scatter(top_main_weather, top_main_weather.index)\n",
    "axs[3].set_xticks(range(1, 6))  # Assuming main_weather_scores range from 1 to 6\n",
    "axs[3].set_xticklabels(avg_forecast_weather_df['main_weather'].unique(), rotation=45)\n",
    "axs[3].set_title('Main Weather by City')\n",
    "\n",
    "plt.tight_layout()\n",
    "plt.show()\n"
   ]
  },
  {
   "attachments": {},
   "cell_type": "markdown",
   "metadata": {},
   "source": [
    "#### Top5 cities calculator"
   ]
  },
  {
   "cell_type": "code",
   "execution_count": 18,
   "metadata": {},
   "outputs": [
    {
     "data": {
      "text/html": [
       "<div>\n",
       "<style scoped>\n",
       "    .dataframe tbody tr th:only-of-type {\n",
       "        vertical-align: middle;\n",
       "    }\n",
       "\n",
       "    .dataframe tbody tr th {\n",
       "        vertical-align: top;\n",
       "    }\n",
       "\n",
       "    .dataframe thead th {\n",
       "        text-align: right;\n",
       "    }\n",
       "</style>\n",
       "<table border=\"1\" class=\"dataframe\">\n",
       "  <thead>\n",
       "    <tr style=\"text-align: right;\">\n",
       "      <th></th>\n",
       "      <th>feels_like</th>\n",
       "      <th>humidity</th>\n",
       "      <th>wind_speed</th>\n",
       "      <th>city_id</th>\n",
       "      <th>main_weather</th>\n",
       "      <th>main_weather_scores</th>\n",
       "      <th>final_score</th>\n",
       "      <th>lon</th>\n",
       "      <th>lat</th>\n",
       "    </tr>\n",
       "    <tr>\n",
       "      <th>city</th>\n",
       "      <th></th>\n",
       "      <th></th>\n",
       "      <th></th>\n",
       "      <th></th>\n",
       "      <th></th>\n",
       "      <th></th>\n",
       "      <th></th>\n",
       "      <th></th>\n",
       "      <th></th>\n",
       "    </tr>\n",
       "  </thead>\n",
       "  <tbody>\n",
       "    <tr>\n",
       "      <th>La Rochelle</th>\n",
       "      <td>18.32250</td>\n",
       "      <td>72.675</td>\n",
       "      <td>5.35650</td>\n",
       "      <td>19.0</td>\n",
       "      <td>clear sky</td>\n",
       "      <td>5.0</td>\n",
       "      <td>604.0</td>\n",
       "      <td>-1.152043</td>\n",
       "      <td>46.159113</td>\n",
       "    </tr>\n",
       "    <tr>\n",
       "      <th>Le Havre</th>\n",
       "      <td>16.97875</td>\n",
       "      <td>79.250</td>\n",
       "      <td>5.77875</td>\n",
       "      <td>20.0</td>\n",
       "      <td>light rain</td>\n",
       "      <td>1.0</td>\n",
       "      <td>598.0</td>\n",
       "      <td>0.107973</td>\n",
       "      <td>49.493898</td>\n",
       "    </tr>\n",
       "    <tr>\n",
       "      <th>Saintes Maries de la mer</th>\n",
       "      <td>26.88300</td>\n",
       "      <td>55.700</td>\n",
       "      <td>5.29325</td>\n",
       "      <td>29.0</td>\n",
       "      <td>clear sky</td>\n",
       "      <td>5.0</td>\n",
       "      <td>586.0</td>\n",
       "      <td>4.428717</td>\n",
       "      <td>43.452277</td>\n",
       "    </tr>\n",
       "    <tr>\n",
       "      <th>Biarritz</th>\n",
       "      <td>19.65525</td>\n",
       "      <td>75.550</td>\n",
       "      <td>2.59600</td>\n",
       "      <td>9.0</td>\n",
       "      <td>scattered clouds</td>\n",
       "      <td>3.0</td>\n",
       "      <td>585.0</td>\n",
       "      <td>-1.559278</td>\n",
       "      <td>43.483252</td>\n",
       "    </tr>\n",
       "    <tr>\n",
       "      <th>Bayonne</th>\n",
       "      <td>19.65625</td>\n",
       "      <td>75.550</td>\n",
       "      <td>2.51275</td>\n",
       "      <td>7.0</td>\n",
       "      <td>scattered clouds</td>\n",
       "      <td>3.0</td>\n",
       "      <td>584.0</td>\n",
       "      <td>-1.473666</td>\n",
       "      <td>43.494514</td>\n",
       "    </tr>\n",
       "  </tbody>\n",
       "</table>\n",
       "</div>"
      ],
      "text/plain": [
       "                          feels_like  humidity  wind_speed  city_id  \\\n",
       "city                                                                  \n",
       "La Rochelle                 18.32250    72.675     5.35650     19.0   \n",
       "Le Havre                    16.97875    79.250     5.77875     20.0   \n",
       "Saintes Maries de la mer    26.88300    55.700     5.29325     29.0   \n",
       "Biarritz                    19.65525    75.550     2.59600      9.0   \n",
       "Bayonne                     19.65625    75.550     2.51275      7.0   \n",
       "\n",
       "                              main_weather  main_weather_scores  final_score  \\\n",
       "city                                                                           \n",
       "La Rochelle                      clear sky                  5.0        604.0   \n",
       "Le Havre                        light rain                  1.0        598.0   \n",
       "Saintes Maries de la mer         clear sky                  5.0        586.0   \n",
       "Biarritz                  scattered clouds                  3.0        585.0   \n",
       "Bayonne                   scattered clouds                  3.0        584.0   \n",
       "\n",
       "                               lon        lat  \n",
       "city                                           \n",
       "La Rochelle              -1.152043  46.159113  \n",
       "Le Havre                  0.107973  49.493898  \n",
       "Saintes Maries de la mer  4.428717  43.452277  \n",
       "Biarritz                 -1.559278  43.483252  \n",
       "Bayonne                  -1.473666  43.494514  "
      ]
     },
     "metadata": {},
     "output_type": "display_data"
    }
   ],
   "source": [
    "# Here we define weights for each criterion. Wind is the most important as we want to do kitesurfing.\n",
    "weights = {\n",
    "    'wind_speed': 10,\n",
    "    'main_weather_scores': 8,\n",
    "    'humidity': 5,\n",
    "    'feels_like': 8\n",
    "}\n",
    "\n",
    "\n",
    "# We calculate a score for each city\n",
    "avg_forecast_weather_df['final_score'] = round(\n",
    "    avg_forecast_weather_df['wind_speed'] * weights['wind_speed'] +\n",
    "    avg_forecast_weather_df['main_weather_scores'] * weights['main_weather_scores'] +\n",
    "    avg_forecast_weather_df['humidity'] * weights['humidity'] +\n",
    "    avg_forecast_weather_df['feels_like'] * weights['feels_like']\n",
    ")\n",
    "\n",
    "# We sort the dataframe and select top5 rows\n",
    "sorted_data = avg_forecast_weather_df.sort_values(by='final_score', ascending=False)\n",
    "top5_cities = sorted_data.head(5).copy()\n",
    "\n",
    "# Add longitude and latitude from our dictionnary 'coordinates'\n",
    "for city in top5_cities.index:\n",
    "    for i,dico in enumerate(coordinates):\n",
    "        if dico['city'] == city:\n",
    "            top5_cities.loc[city, 'lon'] = dico['longitude']\n",
    "            top5_cities.loc[city, 'lat'] = dico['latitude']\n",
    "            break\n",
    "# Convert 'lat' and 'lon' columns to float\n",
    "top5_cities['lat'] = top5_cities['lat'].astype(float)\n",
    "top5_cities['lon'] = top5_cities['lon'].astype(float)\n",
    "\n",
    "display(top5_cities)\n",
    "\n",
    "top5_cities.to_csv('scrap_results/forecast_weather_top5cities.csv')"
   ]
  },
  {
   "cell_type": "code",
   "execution_count": 5,
   "metadata": {},
   "outputs": [],
   "source": [
    "top5_cities = pd.read_csv('scrap_results/forecast_weather_top5cities.csv')"
   ]
  },
  {
   "attachments": {},
   "cell_type": "markdown",
   "metadata": {},
   "source": [
    "#### Top5 cities map"
   ]
  },
  {
   "cell_type": "code",
   "execution_count": 7,
   "metadata": {},
   "outputs": [
    {
     "data": {
      "application/vnd.plotly.v1+json": {
       "config": {
        "plotlyServerURL": "https://plot.ly"
       },
       "data": [
        {
         "customdata": [
          [
           5.3565,
           "clear sky",
           18.3225,
           72.675
          ],
          [
           5.7787500000000005,
           "light rain",
           16.978749999999998,
           79.25
          ],
          [
           5.29325,
           "clear sky",
           26.883,
           55.7
          ],
          [
           2.596,
           "scattered clouds",
           19.65525,
           75.55
          ],
          [
           2.51275,
           "scattered clouds",
           19.65625,
           75.55
          ]
         ],
         "hovertemplate": "<b>%{hovertext}</b><br><br>feels_like=%{customdata[2]}<br>lat=%{lat}<br>lon=%{lon}<br>wind_speed=%{marker.color}<br>main_weather=%{customdata[1]}<br>humidity=%{customdata[3]}<extra></extra>",
         "hovertext": [
          0,
          1,
          2,
          3,
          4
         ],
         "lat": [
          46.1591126,
          49.4938975,
          43.4522771,
          43.4832523,
          43.4945144
         ],
         "legendgroup": "",
         "lon": [
          -1.1520434,
          0.1079732,
          4.4287172,
          -1.5592776,
          -1.4736657
         ],
         "marker": {
          "color": [
           5.3565,
           5.7787500000000005,
           5.29325,
           2.596,
           2.51275
          ],
          "coloraxis": "coloraxis",
          "size": [
           18.3225,
           16.978749999999998,
           26.883,
           19.65525,
           19.65625
          ],
          "sizemode": "area",
          "sizeref": 0.0672075
         },
         "mode": "markers",
         "name": "",
         "showlegend": false,
         "subplot": "mapbox",
         "type": "scattermapbox"
        }
       ],
       "layout": {
        "coloraxis": {
         "colorbar": {
          "title": {
           "text": "wind_speed"
          }
         },
         "colorscale": [
          [
           0,
           "#0d0887"
          ],
          [
           0.1111111111111111,
           "#46039f"
          ],
          [
           0.2222222222222222,
           "#7201a8"
          ],
          [
           0.3333333333333333,
           "#9c179e"
          ],
          [
           0.4444444444444444,
           "#bd3786"
          ],
          [
           0.5555555555555556,
           "#d8576b"
          ],
          [
           0.6666666666666666,
           "#ed7953"
          ],
          [
           0.7777777777777778,
           "#fb9f3a"
          ],
          [
           0.8888888888888888,
           "#fdca26"
          ],
          [
           1,
           "#f0f921"
          ]
         ]
        },
        "legend": {
         "itemsizing": "constant",
         "tracegroupgap": 0
        },
        "mapbox": {
         "center": {
          "lat": 45.21661078000001,
          "lon": 0.07034074000000005
         },
         "domain": {
          "x": [
           0,
           1
          ],
          "y": [
           0,
           1
          ]
         },
         "style": "open-street-map",
         "zoom": 5
        },
        "template": {
         "data": {
          "bar": [
           {
            "error_x": {
             "color": "#2a3f5f"
            },
            "error_y": {
             "color": "#2a3f5f"
            },
            "marker": {
             "line": {
              "color": "#E5ECF6",
              "width": 0.5
             },
             "pattern": {
              "fillmode": "overlay",
              "size": 10,
              "solidity": 0.2
             }
            },
            "type": "bar"
           }
          ],
          "barpolar": [
           {
            "marker": {
             "line": {
              "color": "#E5ECF6",
              "width": 0.5
             },
             "pattern": {
              "fillmode": "overlay",
              "size": 10,
              "solidity": 0.2
             }
            },
            "type": "barpolar"
           }
          ],
          "carpet": [
           {
            "aaxis": {
             "endlinecolor": "#2a3f5f",
             "gridcolor": "white",
             "linecolor": "white",
             "minorgridcolor": "white",
             "startlinecolor": "#2a3f5f"
            },
            "baxis": {
             "endlinecolor": "#2a3f5f",
             "gridcolor": "white",
             "linecolor": "white",
             "minorgridcolor": "white",
             "startlinecolor": "#2a3f5f"
            },
            "type": "carpet"
           }
          ],
          "choropleth": [
           {
            "colorbar": {
             "outlinewidth": 0,
             "ticks": ""
            },
            "type": "choropleth"
           }
          ],
          "contour": [
           {
            "colorbar": {
             "outlinewidth": 0,
             "ticks": ""
            },
            "colorscale": [
             [
              0,
              "#0d0887"
             ],
             [
              0.1111111111111111,
              "#46039f"
             ],
             [
              0.2222222222222222,
              "#7201a8"
             ],
             [
              0.3333333333333333,
              "#9c179e"
             ],
             [
              0.4444444444444444,
              "#bd3786"
             ],
             [
              0.5555555555555556,
              "#d8576b"
             ],
             [
              0.6666666666666666,
              "#ed7953"
             ],
             [
              0.7777777777777778,
              "#fb9f3a"
             ],
             [
              0.8888888888888888,
              "#fdca26"
             ],
             [
              1,
              "#f0f921"
             ]
            ],
            "type": "contour"
           }
          ],
          "contourcarpet": [
           {
            "colorbar": {
             "outlinewidth": 0,
             "ticks": ""
            },
            "type": "contourcarpet"
           }
          ],
          "heatmap": [
           {
            "colorbar": {
             "outlinewidth": 0,
             "ticks": ""
            },
            "colorscale": [
             [
              0,
              "#0d0887"
             ],
             [
              0.1111111111111111,
              "#46039f"
             ],
             [
              0.2222222222222222,
              "#7201a8"
             ],
             [
              0.3333333333333333,
              "#9c179e"
             ],
             [
              0.4444444444444444,
              "#bd3786"
             ],
             [
              0.5555555555555556,
              "#d8576b"
             ],
             [
              0.6666666666666666,
              "#ed7953"
             ],
             [
              0.7777777777777778,
              "#fb9f3a"
             ],
             [
              0.8888888888888888,
              "#fdca26"
             ],
             [
              1,
              "#f0f921"
             ]
            ],
            "type": "heatmap"
           }
          ],
          "heatmapgl": [
           {
            "colorbar": {
             "outlinewidth": 0,
             "ticks": ""
            },
            "colorscale": [
             [
              0,
              "#0d0887"
             ],
             [
              0.1111111111111111,
              "#46039f"
             ],
             [
              0.2222222222222222,
              "#7201a8"
             ],
             [
              0.3333333333333333,
              "#9c179e"
             ],
             [
              0.4444444444444444,
              "#bd3786"
             ],
             [
              0.5555555555555556,
              "#d8576b"
             ],
             [
              0.6666666666666666,
              "#ed7953"
             ],
             [
              0.7777777777777778,
              "#fb9f3a"
             ],
             [
              0.8888888888888888,
              "#fdca26"
             ],
             [
              1,
              "#f0f921"
             ]
            ],
            "type": "heatmapgl"
           }
          ],
          "histogram": [
           {
            "marker": {
             "pattern": {
              "fillmode": "overlay",
              "size": 10,
              "solidity": 0.2
             }
            },
            "type": "histogram"
           }
          ],
          "histogram2d": [
           {
            "colorbar": {
             "outlinewidth": 0,
             "ticks": ""
            },
            "colorscale": [
             [
              0,
              "#0d0887"
             ],
             [
              0.1111111111111111,
              "#46039f"
             ],
             [
              0.2222222222222222,
              "#7201a8"
             ],
             [
              0.3333333333333333,
              "#9c179e"
             ],
             [
              0.4444444444444444,
              "#bd3786"
             ],
             [
              0.5555555555555556,
              "#d8576b"
             ],
             [
              0.6666666666666666,
              "#ed7953"
             ],
             [
              0.7777777777777778,
              "#fb9f3a"
             ],
             [
              0.8888888888888888,
              "#fdca26"
             ],
             [
              1,
              "#f0f921"
             ]
            ],
            "type": "histogram2d"
           }
          ],
          "histogram2dcontour": [
           {
            "colorbar": {
             "outlinewidth": 0,
             "ticks": ""
            },
            "colorscale": [
             [
              0,
              "#0d0887"
             ],
             [
              0.1111111111111111,
              "#46039f"
             ],
             [
              0.2222222222222222,
              "#7201a8"
             ],
             [
              0.3333333333333333,
              "#9c179e"
             ],
             [
              0.4444444444444444,
              "#bd3786"
             ],
             [
              0.5555555555555556,
              "#d8576b"
             ],
             [
              0.6666666666666666,
              "#ed7953"
             ],
             [
              0.7777777777777778,
              "#fb9f3a"
             ],
             [
              0.8888888888888888,
              "#fdca26"
             ],
             [
              1,
              "#f0f921"
             ]
            ],
            "type": "histogram2dcontour"
           }
          ],
          "mesh3d": [
           {
            "colorbar": {
             "outlinewidth": 0,
             "ticks": ""
            },
            "type": "mesh3d"
           }
          ],
          "parcoords": [
           {
            "line": {
             "colorbar": {
              "outlinewidth": 0,
              "ticks": ""
             }
            },
            "type": "parcoords"
           }
          ],
          "pie": [
           {
            "automargin": true,
            "type": "pie"
           }
          ],
          "scatter": [
           {
            "fillpattern": {
             "fillmode": "overlay",
             "size": 10,
             "solidity": 0.2
            },
            "type": "scatter"
           }
          ],
          "scatter3d": [
           {
            "line": {
             "colorbar": {
              "outlinewidth": 0,
              "ticks": ""
             }
            },
            "marker": {
             "colorbar": {
              "outlinewidth": 0,
              "ticks": ""
             }
            },
            "type": "scatter3d"
           }
          ],
          "scattercarpet": [
           {
            "marker": {
             "colorbar": {
              "outlinewidth": 0,
              "ticks": ""
             }
            },
            "type": "scattercarpet"
           }
          ],
          "scattergeo": [
           {
            "marker": {
             "colorbar": {
              "outlinewidth": 0,
              "ticks": ""
             }
            },
            "type": "scattergeo"
           }
          ],
          "scattergl": [
           {
            "marker": {
             "colorbar": {
              "outlinewidth": 0,
              "ticks": ""
             }
            },
            "type": "scattergl"
           }
          ],
          "scattermapbox": [
           {
            "marker": {
             "colorbar": {
              "outlinewidth": 0,
              "ticks": ""
             }
            },
            "type": "scattermapbox"
           }
          ],
          "scatterpolar": [
           {
            "marker": {
             "colorbar": {
              "outlinewidth": 0,
              "ticks": ""
             }
            },
            "type": "scatterpolar"
           }
          ],
          "scatterpolargl": [
           {
            "marker": {
             "colorbar": {
              "outlinewidth": 0,
              "ticks": ""
             }
            },
            "type": "scatterpolargl"
           }
          ],
          "scatterternary": [
           {
            "marker": {
             "colorbar": {
              "outlinewidth": 0,
              "ticks": ""
             }
            },
            "type": "scatterternary"
           }
          ],
          "surface": [
           {
            "colorbar": {
             "outlinewidth": 0,
             "ticks": ""
            },
            "colorscale": [
             [
              0,
              "#0d0887"
             ],
             [
              0.1111111111111111,
              "#46039f"
             ],
             [
              0.2222222222222222,
              "#7201a8"
             ],
             [
              0.3333333333333333,
              "#9c179e"
             ],
             [
              0.4444444444444444,
              "#bd3786"
             ],
             [
              0.5555555555555556,
              "#d8576b"
             ],
             [
              0.6666666666666666,
              "#ed7953"
             ],
             [
              0.7777777777777778,
              "#fb9f3a"
             ],
             [
              0.8888888888888888,
              "#fdca26"
             ],
             [
              1,
              "#f0f921"
             ]
            ],
            "type": "surface"
           }
          ],
          "table": [
           {
            "cells": {
             "fill": {
              "color": "#EBF0F8"
             },
             "line": {
              "color": "white"
             }
            },
            "header": {
             "fill": {
              "color": "#C8D4E3"
             },
             "line": {
              "color": "white"
             }
            },
            "type": "table"
           }
          ]
         },
         "layout": {
          "annotationdefaults": {
           "arrowcolor": "#2a3f5f",
           "arrowhead": 0,
           "arrowwidth": 1
          },
          "autotypenumbers": "strict",
          "coloraxis": {
           "colorbar": {
            "outlinewidth": 0,
            "ticks": ""
           }
          },
          "colorscale": {
           "diverging": [
            [
             0,
             "#8e0152"
            ],
            [
             0.1,
             "#c51b7d"
            ],
            [
             0.2,
             "#de77ae"
            ],
            [
             0.3,
             "#f1b6da"
            ],
            [
             0.4,
             "#fde0ef"
            ],
            [
             0.5,
             "#f7f7f7"
            ],
            [
             0.6,
             "#e6f5d0"
            ],
            [
             0.7,
             "#b8e186"
            ],
            [
             0.8,
             "#7fbc41"
            ],
            [
             0.9,
             "#4d9221"
            ],
            [
             1,
             "#276419"
            ]
           ],
           "sequential": [
            [
             0,
             "#0d0887"
            ],
            [
             0.1111111111111111,
             "#46039f"
            ],
            [
             0.2222222222222222,
             "#7201a8"
            ],
            [
             0.3333333333333333,
             "#9c179e"
            ],
            [
             0.4444444444444444,
             "#bd3786"
            ],
            [
             0.5555555555555556,
             "#d8576b"
            ],
            [
             0.6666666666666666,
             "#ed7953"
            ],
            [
             0.7777777777777778,
             "#fb9f3a"
            ],
            [
             0.8888888888888888,
             "#fdca26"
            ],
            [
             1,
             "#f0f921"
            ]
           ],
           "sequentialminus": [
            [
             0,
             "#0d0887"
            ],
            [
             0.1111111111111111,
             "#46039f"
            ],
            [
             0.2222222222222222,
             "#7201a8"
            ],
            [
             0.3333333333333333,
             "#9c179e"
            ],
            [
             0.4444444444444444,
             "#bd3786"
            ],
            [
             0.5555555555555556,
             "#d8576b"
            ],
            [
             0.6666666666666666,
             "#ed7953"
            ],
            [
             0.7777777777777778,
             "#fb9f3a"
            ],
            [
             0.8888888888888888,
             "#fdca26"
            ],
            [
             1,
             "#f0f921"
            ]
           ]
          },
          "colorway": [
           "#636efa",
           "#EF553B",
           "#00cc96",
           "#ab63fa",
           "#FFA15A",
           "#19d3f3",
           "#FF6692",
           "#B6E880",
           "#FF97FF",
           "#FECB52"
          ],
          "font": {
           "color": "#2a3f5f"
          },
          "geo": {
           "bgcolor": "white",
           "lakecolor": "white",
           "landcolor": "#E5ECF6",
           "showlakes": true,
           "showland": true,
           "subunitcolor": "white"
          },
          "hoverlabel": {
           "align": "left"
          },
          "hovermode": "closest",
          "mapbox": {
           "style": "light"
          },
          "paper_bgcolor": "white",
          "plot_bgcolor": "#E5ECF6",
          "polar": {
           "angularaxis": {
            "gridcolor": "white",
            "linecolor": "white",
            "ticks": ""
           },
           "bgcolor": "#E5ECF6",
           "radialaxis": {
            "gridcolor": "white",
            "linecolor": "white",
            "ticks": ""
           }
          },
          "scene": {
           "xaxis": {
            "backgroundcolor": "#E5ECF6",
            "gridcolor": "white",
            "gridwidth": 2,
            "linecolor": "white",
            "showbackground": true,
            "ticks": "",
            "zerolinecolor": "white"
           },
           "yaxis": {
            "backgroundcolor": "#E5ECF6",
            "gridcolor": "white",
            "gridwidth": 2,
            "linecolor": "white",
            "showbackground": true,
            "ticks": "",
            "zerolinecolor": "white"
           },
           "zaxis": {
            "backgroundcolor": "#E5ECF6",
            "gridcolor": "white",
            "gridwidth": 2,
            "linecolor": "white",
            "showbackground": true,
            "ticks": "",
            "zerolinecolor": "white"
           }
          },
          "shapedefaults": {
           "line": {
            "color": "#2a3f5f"
           }
          },
          "ternary": {
           "aaxis": {
            "gridcolor": "white",
            "linecolor": "white",
            "ticks": ""
           },
           "baxis": {
            "gridcolor": "white",
            "linecolor": "white",
            "ticks": ""
           },
           "bgcolor": "#E5ECF6",
           "caxis": {
            "gridcolor": "white",
            "linecolor": "white",
            "ticks": ""
           }
          },
          "title": {
           "x": 0.05
          },
          "xaxis": {
           "automargin": true,
           "gridcolor": "white",
           "linecolor": "white",
           "ticks": "",
           "title": {
            "standoff": 15
           },
           "zerolinecolor": "white",
           "zerolinewidth": 2
          },
          "yaxis": {
           "automargin": true,
           "gridcolor": "white",
           "linecolor": "white",
           "ticks": "",
           "title": {
            "standoff": 15
           },
           "zerolinecolor": "white",
           "zerolinewidth": 2
          }
         }
        },
        "title": {
         "text": "Top 5 cities for our kite surfing trip"
        }
       }
      }
     },
     "metadata": {},
     "output_type": "display_data"
    }
   ],
   "source": [
    "fig = px.scatter_mapbox(\n",
    "    top5_cities, \n",
    "    title=\"Top 5 cities for our kite surfing trip\", \n",
    "    lat=\"lat\", \n",
    "    lon=\"lon\", \n",
    "    color=\"wind_speed\",\n",
    "    size=\"feels_like\",\n",
    "    zoom=5, \n",
    "    mapbox_style=\"open-street-map\",\n",
    "    hover_name=top5_cities.index,\n",
    "    hover_data = ['wind_speed', 'main_weather','feels_like','humidity'],\n",
    ")\n",
    "\n",
    "fig.show()\n",
    "\n",
    "fig.write_html(\"final pictures/top_5_cities_interactive.html\")"
   ]
  },
  {
   "attachments": {},
   "cell_type": "markdown",
   "metadata": {},
   "source": [
    "#"
   ]
  },
  {
   "cell_type": "markdown",
   "metadata": {},
   "source": [
    "![alt text](https://raw.githubusercontent.com/elodiesune/PROJECT_Kayak/main/final%20pictures/top5_cities_picture.jpg)"
   ]
  },
  {
   "cell_type": "code",
   "execution_count": 22,
   "metadata": {},
   "outputs": [
    {
     "name": "stdout",
     "output_type": "stream",
     "text": [
      "Index(['La Rochelle', 'Le Havre', 'Saintes Maries de la mer', 'Biarritz',\n",
      "       'Bayonne'],\n",
      "      dtype='object', name='city')\n"
     ]
    }
   ],
   "source": [
    "best_cities = top5_cities.index.unique()\n",
    "print(best_cities)"
   ]
  }
 ],
 "metadata": {
  "kernelspec": {
   "display_name": "base",
   "language": "python",
   "name": "python3"
  },
  "language_info": {
   "codemirror_mode": {
    "name": "ipython",
    "version": 3
   },
   "file_extension": ".py",
   "mimetype": "text/x-python",
   "name": "python",
   "nbconvert_exporter": "python",
   "pygments_lexer": "ipython3",
   "version": "3.9.13"
  },
  "orig_nbformat": 4
 },
 "nbformat": 4,
 "nbformat_minor": 2
}
