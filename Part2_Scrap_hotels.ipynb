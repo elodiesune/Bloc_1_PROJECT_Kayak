{
 "cells": [
  {
   "cell_type": "markdown",
   "metadata": {},
   "source": [
    "# Necessary libraries and credentials"
   ]
  },
  {
   "cell_type": "code",
   "execution_count": 1,
   "metadata": {},
   "outputs": [],
   "source": [
    "import os \n",
    "import logging\n",
    "import scrapy\n",
    "from scrapy.crawler import CrawlerProcess\n",
    "from scrapy.selector import Selector\n",
    "import json\n",
    "import re\n",
    "\n",
    "import boto3\n",
    "import pandas as pd\n",
    "from sqlalchemy import create_engine, text, Column, Integer, String, Float\n",
    "from sqlalchemy.ext.declarative import declarative_base\n",
    "from sqlalchemy.orm import sessionmaker\n",
    "\n",
    "import matplotlib.pyplot as plt\n",
    "import plotly.express as px\n",
    "from PIL import Image\n",
    "\n",
    "import psycopg2"
   ]
  },
  {
   "cell_type": "code",
   "execution_count": 2,
   "metadata": {},
   "outputs": [],
   "source": [
    "# s3 credentials\n",
    "elo_s3_accessKeys = pd.read_csv(\"C:/Users/elodi/Documents/Documents/PYTHON/Jedha/data_science_full_stack/elo_s3_accessKeys.csv\",encoding='utf-8-sig')\n",
    "ACCESS_KEY_ID = elo_s3_accessKeys['Access key ID'].values[0]\n",
    "SECRET_ACCESS_KEY = elo_s3_accessKeys['Secret access key'].values[0]\n",
    "bucket_name = \"bucket-getaround\""
   ]
  },
  {
   "cell_type": "code",
   "execution_count": 3,
   "metadata": {},
   "outputs": [],
   "source": [
    "# RDS database credentials\n",
    "elo_rds_accessKeys = pd.read_csv(\"C:/Users/elodi/Documents/Documents/PYTHON/Jedha/data_science_full_stack/elo_rds_accessKeys.csv\",encoding='utf-8-sig')\n",
    "db_host = elo_rds_accessKeys['db_host'].values[0]\n",
    "db_port = elo_rds_accessKeys['db_port'].values[0]\n",
    "db_name = elo_rds_accessKeys['db_name'].values[0]\n",
    "db_user = elo_rds_accessKeys['db_user'].values[0]\n",
    "db_pass = elo_rds_accessKeys['db_pass'].values[0]"
   ]
  },
  {
   "cell_type": "markdown",
   "metadata": {},
   "source": [
    "# Scraping Booking.com"
   ]
  },
  {
   "cell_type": "code",
   "execution_count": null,
   "metadata": {},
   "outputs": [],
   "source": [
    "class booking_spider(scrapy.Spider):\n",
    "\n",
    "    name = \"booking\"\n",
    "    start_urls = ['https://www.booking.com']\n",
    "    best_cities = ['La Rochelle', 'Le Havre', 'Saintes Maries de la mer', 'Biarritz', 'Bayonne']\n",
    "\n",
    "    # Retrieve the page for each CITY\n",
    "    def start_requests(self):\n",
    "        checkin = \"2023-07-20\"\n",
    "        checkout = \"2023-07-25\"\n",
    "        # warning: url from GoogleChrome (doesnt work for Edge)\n",
    "        # city_url_template = 'https://www.booking.com/searchresults.fr.html?ss={}&label=gen173nr-1BCAEoggI46AdIM1gEaE2IAQGYAQm4ARfIAQzYAQHoAQGIAgGoAgO4AsHWlqIGwAIB0gIkZTU5NjhmNWEtMTk1Yi00OGEyLThmNWYtYzU2ZDNmMDU5MWZm2AIF4AIB&sid=4044a316139dbb224d418fbb7843881c&aid=304142&lang=fr&sb=1&src_elem=sb&src=index&dest_type=city&group_adults=2&no_rooms=1&group_children=0&sb_travel_purpose=leisure'\n",
    "        city_url_template = 'https://www.booking.com/searchresults.fr.html?ss={}&label=gen173nr-1BCAEoggI46AdIM1gEaE2IAQGYAQm4ARfIAQzYAQHoAQGIAgGoAgO4AsHWlqIGwAIB0gIkZTU5NjhmNWEtMTk1Yi00OGEyLThmNWYtYzU2ZDNmMDU5MWZm2AIF4AIB&sid=4044a316139dbb224d418fbb7843881c&aid=304142&lang=fr&sb=1&src_elem=sb&src=index&dest_type=city&checkin={}&checkout={}&group_adults=2&no_rooms=1&group_children=0&sb_travel_purpose=leisure'\n",
    "        headers = {'User-Agent': 'Mozilla/5.0 (Windows NT 10.0; Win64; x64) AppleWebKit/537.36 (KHTML, like Gecko) Chrome/58.0.3029.110 Safari/537.36'}\n",
    "    \n",
    "        for city in self.best_cities:\n",
    "            city_url = city_url_template.format(city,checkin,checkout)\n",
    "            yield scrapy.Request(city_url, headers=headers, callback=self.parse_hotels_with_urls, meta={'city':city, 'city_url': city_url})\n",
    "    \n",
    "    # Retrieve every HOTEL URL for a city\n",
    "    def parse_hotels_with_urls(self, response):\n",
    "        # Box corresponding to the hotel\n",
    "        hotels = response.xpath(\"//h3[@class='a4225678b2']\")\n",
    "        # Inside this box, retrieve name and url\n",
    "        for hotel in hotels:\n",
    "            hotel_name = hotel.xpath(\".//div[contains(@class, 'fcab3ed991 a23c043802')]/text()\").get()\n",
    "            hotel_url = hotel.xpath(\".//@href\").get()\n",
    "            yield response.follow(hotel_url, callback=self.parse_hotels_details, meta={'city': response.meta['city'], 'hotel_name': hotel_name, 'hotel_url': hotel_url})\n",
    "    \n",
    "        # Loop over pages to retrive more hotels (offset set to 25 hotels max per page)\n",
    "        hotel_ou_commencer = 25\n",
    "        while hotel_ou_commencer < 1000:\n",
    "            city_next_page_url = response.meta['city_url'] + f\"&offset={hotel_ou_commencer}\"\n",
    "            yield response.follow(city_next_page_url, callback=self.parse_hotels_with_urls, meta=response.meta)\n",
    "            hotel_ou_commencer += 25\n",
    "\n",
    "    # Retrieve HOTEL INFORMATION from each hotel page\n",
    "    def parse_hotels_details(self, response):\n",
    "         yield {\n",
    "              'city':response.meta['city'],\n",
    "              'hotel_name': response.meta['hotel_name'],\n",
    "              'hotel_url': response.meta['hotel_url'],\n",
    "              'hotel_GPS': response.xpath(\"//@data-atlas-latlng\").get(),\n",
    "              'hotel_score': response.xpath(\"//div[@class='b5cd09854e d10a6220b4']/text()\").get(),\n",
    "              'hotel_voters':response.xpath(\"//div[@class='d8eab2cf7f c90c0a70d3 db63693c62']/text()\").get(),\n",
    "              'hotel_description': Selector(response).css('div.hp_desc_main_content').xpath('string()').get().strip(),\n",
    "              'hotel_address': response.xpath(\"//span[contains(@class, 'hp_address_subtitle')]/text()\").get()\n",
    "\n",
    "         }\n",
    "         \n",
    "filename = \"booking_scrap.json\"\n",
    "\n",
    "# If file already exists, remove it before\n",
    "if filename in os.listdir('scrap_results/'):\n",
    "        os.remove('scrap_results/' + filename)\n",
    "\n",
    "process = CrawlerProcess(settings = {\n",
    "    'USER_AGENT': 'Chrome/97.0',\n",
    "    'LOG_LEVEL': logging.INFO,\n",
    "    \"FEEDS\": {\n",
    "        'scrap_results/' + filename : {\"format\": \"json\"},\n",
    "    }\n",
    "})\n",
    "\n",
    "process.crawl(booking_spider)\n",
    "process.start()"
   ]
  },
  {
   "cell_type": "code",
   "execution_count": 29,
   "metadata": {},
   "outputs": [
    {
     "data": {
      "text/plain": [
       "Saintes Maries de la mer    80\n",
       "La Rochelle                 71\n",
       "Biarritz                    50\n",
       "Le Havre                    37\n",
       "Bayonne                     27\n",
       "Name: city, dtype: int64"
      ]
     },
     "execution_count": 29,
     "metadata": {},
     "output_type": "execute_result"
    }
   ],
   "source": [
    "df_booking_scrap = pd.read_json('scrap_results/booking_scrap.json')\n",
    "df_booking_scrap.city.value_counts()"
   ]
  },
  {
   "cell_type": "code",
   "execution_count": 30,
   "metadata": {},
   "outputs": [],
   "source": [
    "# For some cities where there are only few hotels, booking propose more hotels in other close cities. \n",
    "# We want to remove them. From the address of the hotel, we can extract the city name, and remove all lines \n",
    "# which don't correlate with the city we were interested in.\n",
    "\n",
    "\n",
    "# Function which will extract the city name from the address using regex\n",
    "def extract_city_name(address):\n",
    "    pattern = r\"\\b\\d{5}\\b\\s+(.*?)(?:,|$)\"\n",
    "    match = re.search(pattern, address)\n",
    "    if match:\n",
    "        return match.group(1).strip()\n",
    "    else:\n",
    "        return \"City name not found.\"\n",
    "\n",
    "# Apply the function to the \"hotel_address\" column, create a new column \"hotel_city\", remove hotel_address\n",
    "df_booking_scrap['hotel_city'] = df_booking_scrap['hotel_address'].apply(extract_city_name)\n",
    "df_booking_scrap.drop(columns=['hotel_address'], inplace=True)\n",
    "# Remove from dataframe all hotels with other cities\n",
    "df_booking_scrap['hotel_city'] = df_booking_scrap['hotel_city'].replace(\"Les Saintes-Maries-de-la-Mer\", \"Saintes Maries de la mer\")\n",
    "df_booking_scrap = df_booking_scrap[df_booking_scrap['city'] == df_booking_scrap['hotel_city']]\n",
    "df_booking_scrap.reset_index(drop=True, inplace=True)\n",
    "# Check up\n",
    "cols = df_booking_scrap.columns.tolist()\n",
    "cols.insert(1, cols.pop(cols.index('hotel_city'))) # move hotel_city next to city\n",
    "df_booking_scrap = df_booking_scrap[cols]\n",
    "# pd.set_option('display.max_rows', None)\n",
    "# display(df_booking_scrap)\n",
    "# df_booking_scrap.city.value_counts()\n",
    "\n",
    "# Remove column and save again the csv\n",
    "df_booking_scrap.drop(columns=['hotel_city'], inplace=True)\n",
    "df_booking_scrap.to_json(\"scrap_results/booking_scrap.json\", orient=\"records\", lines=True)"
   ]
  },
  {
   "cell_type": "markdown",
   "metadata": {},
   "source": [
    "# Send to s3"
   ]
  },
  {
   "cell_type": "code",
   "execution_count": 33,
   "metadata": {},
   "outputs": [
    {
     "data": {
      "text/html": [
       "<div>\n",
       "<style scoped>\n",
       "    .dataframe tbody tr th:only-of-type {\n",
       "        vertical-align: middle;\n",
       "    }\n",
       "\n",
       "    .dataframe tbody tr th {\n",
       "        vertical-align: top;\n",
       "    }\n",
       "\n",
       "    .dataframe thead th {\n",
       "        text-align: right;\n",
       "    }\n",
       "</style>\n",
       "<table border=\"1\" class=\"dataframe\">\n",
       "  <thead>\n",
       "    <tr style=\"text-align: right;\">\n",
       "      <th></th>\n",
       "      <th>city</th>\n",
       "      <th>hotel_name</th>\n",
       "      <th>hotel_url</th>\n",
       "      <th>hotel_GPS</th>\n",
       "      <th>hotel_score</th>\n",
       "      <th>hotel_voters</th>\n",
       "      <th>hotel_description</th>\n",
       "      <th>feels_like</th>\n",
       "      <th>humidity</th>\n",
       "      <th>wind_speed</th>\n",
       "      <th>city_id</th>\n",
       "      <th>main_weather</th>\n",
       "      <th>main_weather_scores</th>\n",
       "      <th>final_score</th>\n",
       "      <th>lon</th>\n",
       "      <th>lat</th>\n",
       "    </tr>\n",
       "  </thead>\n",
       "  <tbody>\n",
       "    <tr>\n",
       "      <th>0</th>\n",
       "      <td>Biarritz</td>\n",
       "      <td>Le Petit Hôtel</td>\n",
       "      <td>https://www.booking.com/hotel/fr/le-petit-hote...</td>\n",
       "      <td>43.48286503,-1.55950472</td>\n",
       "      <td>7,4</td>\n",
       "      <td>335 expériences vécues</td>\n",
       "      <td>Le Petit Hôtel est situé au cœur de Biarritz, ...</td>\n",
       "      <td>19.65525</td>\n",
       "      <td>75.55</td>\n",
       "      <td>2.596</td>\n",
       "      <td>9.0</td>\n",
       "      <td>scattered clouds</td>\n",
       "      <td>3.0</td>\n",
       "      <td>585.0</td>\n",
       "      <td>-1.559278</td>\n",
       "      <td>43.483252</td>\n",
       "    </tr>\n",
       "    <tr>\n",
       "      <th>1</th>\n",
       "      <td>Biarritz</td>\n",
       "      <td>Osuna Txiki Btz</td>\n",
       "      <td>https://www.booking.com/hotel/fr/ulia.fr.html?...</td>\n",
       "      <td>43.48303130,-1.55653060</td>\n",
       "      <td>7,2</td>\n",
       "      <td>4 expériences vécues</td>\n",
       "      <td>Situé à Biarritz, à 600 mètres de la plage des...</td>\n",
       "      <td>19.65525</td>\n",
       "      <td>75.55</td>\n",
       "      <td>2.596</td>\n",
       "      <td>9.0</td>\n",
       "      <td>scattered clouds</td>\n",
       "      <td>3.0</td>\n",
       "      <td>585.0</td>\n",
       "      <td>-1.559278</td>\n",
       "      <td>43.483252</td>\n",
       "    </tr>\n",
       "    <tr>\n",
       "      <th>2</th>\n",
       "      <td>Biarritz</td>\n",
       "      <td>Atlantico - Arrosa</td>\n",
       "      <td>https://www.booking.com/hotel/fr/atlantico-arr...</td>\n",
       "      <td>43.47610700,-1.56114500</td>\n",
       "      <td>8,3</td>\n",
       "      <td>57 expériences vécues</td>\n",
       "      <td>Vous pouvez bénéficier d'une réduction Genius ...</td>\n",
       "      <td>19.65525</td>\n",
       "      <td>75.55</td>\n",
       "      <td>2.596</td>\n",
       "      <td>9.0</td>\n",
       "      <td>scattered clouds</td>\n",
       "      <td>3.0</td>\n",
       "      <td>585.0</td>\n",
       "      <td>-1.559278</td>\n",
       "      <td>43.483252</td>\n",
       "    </tr>\n",
       "    <tr>\n",
       "      <th>3</th>\n",
       "      <td>Biarritz</td>\n",
       "      <td>Biarritz Surf Lodge Maison d'hôtes</td>\n",
       "      <td>https://www.booking.com/hotel/fr/biarritz-surf...</td>\n",
       "      <td>43.46749490,-1.56837520</td>\n",
       "      <td>8,7</td>\n",
       "      <td>12 expériences vécues</td>\n",
       "      <td>Situé à 500 mètres de la plage de la Côte des ...</td>\n",
       "      <td>19.65525</td>\n",
       "      <td>75.55</td>\n",
       "      <td>2.596</td>\n",
       "      <td>9.0</td>\n",
       "      <td>scattered clouds</td>\n",
       "      <td>3.0</td>\n",
       "      <td>585.0</td>\n",
       "      <td>-1.559278</td>\n",
       "      <td>43.483252</td>\n",
       "    </tr>\n",
       "    <tr>\n",
       "      <th>4</th>\n",
       "      <td>Biarritz</td>\n",
       "      <td>Escale Oceania Biarritz</td>\n",
       "      <td>https://www.booking.com/hotel/fr/altess-hotel....</td>\n",
       "      <td>43.48534146,-1.55238748</td>\n",
       "      <td>7,9</td>\n",
       "      <td>529 expériences vécues</td>\n",
       "      <td>Vous pouvez bénéficier d'une réduction Genius ...</td>\n",
       "      <td>19.65525</td>\n",
       "      <td>75.55</td>\n",
       "      <td>2.596</td>\n",
       "      <td>9.0</td>\n",
       "      <td>scattered clouds</td>\n",
       "      <td>3.0</td>\n",
       "      <td>585.0</td>\n",
       "      <td>-1.559278</td>\n",
       "      <td>43.483252</td>\n",
       "    </tr>\n",
       "  </tbody>\n",
       "</table>\n",
       "</div>"
      ],
      "text/plain": [
       "       city                          hotel_name  \\\n",
       "0  Biarritz                      Le Petit Hôtel   \n",
       "1  Biarritz                     Osuna Txiki Btz   \n",
       "2  Biarritz                  Atlantico - Arrosa   \n",
       "3  Biarritz  Biarritz Surf Lodge Maison d'hôtes   \n",
       "4  Biarritz             Escale Oceania Biarritz   \n",
       "\n",
       "                                           hotel_url                hotel_GPS  \\\n",
       "0  https://www.booking.com/hotel/fr/le-petit-hote...  43.48286503,-1.55950472   \n",
       "1  https://www.booking.com/hotel/fr/ulia.fr.html?...  43.48303130,-1.55653060   \n",
       "2  https://www.booking.com/hotel/fr/atlantico-arr...  43.47610700,-1.56114500   \n",
       "3  https://www.booking.com/hotel/fr/biarritz-surf...  43.46749490,-1.56837520   \n",
       "4  https://www.booking.com/hotel/fr/altess-hotel....  43.48534146,-1.55238748   \n",
       "\n",
       "  hotel_score            hotel_voters  \\\n",
       "0         7,4  335 expériences vécues   \n",
       "1         7,2    4 expériences vécues   \n",
       "2         8,3   57 expériences vécues   \n",
       "3         8,7   12 expériences vécues   \n",
       "4         7,9  529 expériences vécues   \n",
       "\n",
       "                                   hotel_description  feels_like  humidity  \\\n",
       "0  Le Petit Hôtel est situé au cœur de Biarritz, ...    19.65525     75.55   \n",
       "1  Situé à Biarritz, à 600 mètres de la plage des...    19.65525     75.55   \n",
       "2  Vous pouvez bénéficier d'une réduction Genius ...    19.65525     75.55   \n",
       "3  Situé à 500 mètres de la plage de la Côte des ...    19.65525     75.55   \n",
       "4  Vous pouvez bénéficier d'une réduction Genius ...    19.65525     75.55   \n",
       "\n",
       "   wind_speed  city_id      main_weather  main_weather_scores  final_score  \\\n",
       "0       2.596      9.0  scattered clouds                  3.0        585.0   \n",
       "1       2.596      9.0  scattered clouds                  3.0        585.0   \n",
       "2       2.596      9.0  scattered clouds                  3.0        585.0   \n",
       "3       2.596      9.0  scattered clouds                  3.0        585.0   \n",
       "4       2.596      9.0  scattered clouds                  3.0        585.0   \n",
       "\n",
       "        lon        lat  \n",
       "0 -1.559278  43.483252  \n",
       "1 -1.559278  43.483252  \n",
       "2 -1.559278  43.483252  \n",
       "3 -1.559278  43.483252  \n",
       "4 -1.559278  43.483252  "
      ]
     },
     "execution_count": 33,
     "metadata": {},
     "output_type": "execute_result"
    }
   ],
   "source": [
    "# Merge API scraping of the weather (only the top5 cities) and hotels for those cities\n",
    "df_top5cities_weather = pd.read_csv('scrap_results/forecast_weather_top5cities.csv')\n",
    "df_merged = pd.merge(df_booking_scrap, df_top5cities_weather, on='city', how='left')\n",
    "\n",
    "# Into csv file\n",
    "df_merged.to_csv('scrap_results/forecast_weather_top5cities_and_hotels.csv', index=False)\n",
    "df_merged.head()"
   ]
  },
  {
   "cell_type": "code",
   "execution_count": 34,
   "metadata": {},
   "outputs": [],
   "source": [
    "# Create an instance of boto3.Session that connects with my aws account\n",
    "session = boto3.Session(aws_access_key_id=ACCESS_KEY_ID, aws_secret_access_key=SECRET_ACCESS_KEY)\n",
    "\n",
    "# Create a variable s3 that connects my session to the s3 ressource\n",
    "s3 = session.resource(\"s3\")\n",
    "\n",
    "# Create a variable that will connect to my existing bucket bucket-getaround\n",
    "bucket_getaround = s3.Bucket(bucket_name) \n",
    "\n",
    "# Upload file to the s3 bucket\n",
    "bucket_getaround.upload_file(\"scrap_results/forecast_weather_top5cities_and_hotels.csv\",\"forecast_weather_top5cities_and_hotels.csv\")"
   ]
  },
  {
   "cell_type": "markdown",
   "metadata": {},
   "source": [
    "# ETL"
   ]
  },
  {
   "cell_type": "markdown",
   "metadata": {},
   "source": [
    "### Extract"
   ]
  },
  {
   "cell_type": "code",
   "execution_count": 6,
   "metadata": {},
   "outputs": [],
   "source": [
    "# Connect to my s3\n",
    "s3_client = boto3.client('s3' , aws_access_key_id=ACCESS_KEY_ID , aws_secret_access_key=SECRET_ACCESS_KEY)\n",
    "\n",
    "# Retrieve file from s3\n",
    "s3_file_path = 'forecast_weather_top5cities_and_hotels.csv'\n",
    "local_destination = 'data_from_s3/forecast_weather_top5cities_and_hotels.csv'\n",
    "s3_client.download_file(bucket_name, s3_file_path, local_destination)"
   ]
  },
  {
   "cell_type": "markdown",
   "metadata": {},
   "source": [
    "### Transform"
   ]
  },
  {
   "cell_type": "code",
   "execution_count": 7,
   "metadata": {},
   "outputs": [
    {
     "data": {
      "text/html": [
       "<div>\n",
       "<style scoped>\n",
       "    .dataframe tbody tr th:only-of-type {\n",
       "        vertical-align: middle;\n",
       "    }\n",
       "\n",
       "    .dataframe tbody tr th {\n",
       "        vertical-align: top;\n",
       "    }\n",
       "\n",
       "    .dataframe thead th {\n",
       "        text-align: right;\n",
       "    }\n",
       "</style>\n",
       "<table border=\"1\" class=\"dataframe\">\n",
       "  <thead>\n",
       "    <tr style=\"text-align: right;\">\n",
       "      <th></th>\n",
       "      <th>city</th>\n",
       "      <th>hotel_name</th>\n",
       "      <th>hotel_url</th>\n",
       "      <th>hotel_GPS</th>\n",
       "      <th>hotel_score</th>\n",
       "      <th>hotel_voters</th>\n",
       "      <th>hotel_description</th>\n",
       "      <th>feels_like</th>\n",
       "      <th>humidity</th>\n",
       "      <th>wind_speed</th>\n",
       "      <th>city_id</th>\n",
       "      <th>main_weather</th>\n",
       "      <th>main_weather_scores</th>\n",
       "      <th>final_score</th>\n",
       "      <th>lon</th>\n",
       "      <th>lat</th>\n",
       "    </tr>\n",
       "  </thead>\n",
       "  <tbody>\n",
       "    <tr>\n",
       "      <th>count</th>\n",
       "      <td>204</td>\n",
       "      <td>204</td>\n",
       "      <td>204</td>\n",
       "      <td>204</td>\n",
       "      <td>185</td>\n",
       "      <td>186</td>\n",
       "      <td>204</td>\n",
       "      <td>204.000000</td>\n",
       "      <td>204.000000</td>\n",
       "      <td>204.000000</td>\n",
       "      <td>204.000000</td>\n",
       "      <td>204</td>\n",
       "      <td>204.000000</td>\n",
       "      <td>204.000000</td>\n",
       "      <td>204.000000</td>\n",
       "      <td>204.000000</td>\n",
       "    </tr>\n",
       "    <tr>\n",
       "      <th>unique</th>\n",
       "      <td>5</td>\n",
       "      <td>183</td>\n",
       "      <td>204</td>\n",
       "      <td>182</td>\n",
       "      <td>49</td>\n",
       "      <td>141</td>\n",
       "      <td>185</td>\n",
       "      <td>NaN</td>\n",
       "      <td>NaN</td>\n",
       "      <td>NaN</td>\n",
       "      <td>NaN</td>\n",
       "      <td>3</td>\n",
       "      <td>NaN</td>\n",
       "      <td>NaN</td>\n",
       "      <td>NaN</td>\n",
       "      <td>NaN</td>\n",
       "    </tr>\n",
       "    <tr>\n",
       "      <th>top</th>\n",
       "      <td>La Rochelle</td>\n",
       "      <td>The People Le Havre</td>\n",
       "      <td>https://www.booking.com/hotel/fr/le-petit-hote...</td>\n",
       "      <td>46.14560524,-1.16130704</td>\n",
       "      <td>8,3</td>\n",
       "      <td>1 expérience vécue</td>\n",
       "      <td>Vous pouvez bénéficier d'une réduction Genius ...</td>\n",
       "      <td>NaN</td>\n",
       "      <td>NaN</td>\n",
       "      <td>NaN</td>\n",
       "      <td>NaN</td>\n",
       "      <td>clear sky</td>\n",
       "      <td>NaN</td>\n",
       "      <td>NaN</td>\n",
       "      <td>NaN</td>\n",
       "      <td>NaN</td>\n",
       "    </tr>\n",
       "    <tr>\n",
       "      <th>freq</th>\n",
       "      <td>71</td>\n",
       "      <td>2</td>\n",
       "      <td>1</td>\n",
       "      <td>2</td>\n",
       "      <td>15</td>\n",
       "      <td>12</td>\n",
       "      <td>2</td>\n",
       "      <td>NaN</td>\n",
       "      <td>NaN</td>\n",
       "      <td>NaN</td>\n",
       "      <td>NaN</td>\n",
       "      <td>90</td>\n",
       "      <td>NaN</td>\n",
       "      <td>NaN</td>\n",
       "      <td>NaN</td>\n",
       "      <td>NaN</td>\n",
       "    </tr>\n",
       "    <tr>\n",
       "      <th>mean</th>\n",
       "      <td>NaN</td>\n",
       "      <td>NaN</td>\n",
       "      <td>NaN</td>\n",
       "      <td>NaN</td>\n",
       "      <td>NaN</td>\n",
       "      <td>NaN</td>\n",
       "      <td>NaN</td>\n",
       "      <td>19.379262</td>\n",
       "      <td>73.371691</td>\n",
       "      <td>4.374222</td>\n",
       "      <td>16.073529</td>\n",
       "      <td>NaN</td>\n",
       "      <td>3.519608</td>\n",
       "      <td>593.931373</td>\n",
       "      <td>-0.546114</td>\n",
       "      <td>45.503328</td>\n",
       "    </tr>\n",
       "    <tr>\n",
       "      <th>std</th>\n",
       "      <td>NaN</td>\n",
       "      <td>NaN</td>\n",
       "      <td>NaN</td>\n",
       "      <td>NaN</td>\n",
       "      <td>NaN</td>\n",
       "      <td>NaN</td>\n",
       "      <td>NaN</td>\n",
       "      <td>2.596128</td>\n",
       "      <td>6.123455</td>\n",
       "      <td>1.419783</td>\n",
       "      <td>6.687205</td>\n",
       "      <td>NaN</td>\n",
       "      <td>1.493700</td>\n",
       "      <td>8.782270</td>\n",
       "      <td>1.700017</td>\n",
       "      <td>2.233494</td>\n",
       "    </tr>\n",
       "    <tr>\n",
       "      <th>min</th>\n",
       "      <td>NaN</td>\n",
       "      <td>NaN</td>\n",
       "      <td>NaN</td>\n",
       "      <td>NaN</td>\n",
       "      <td>NaN</td>\n",
       "      <td>NaN</td>\n",
       "      <td>NaN</td>\n",
       "      <td>16.978750</td>\n",
       "      <td>55.700000</td>\n",
       "      <td>2.512750</td>\n",
       "      <td>7.000000</td>\n",
       "      <td>NaN</td>\n",
       "      <td>1.000000</td>\n",
       "      <td>584.000000</td>\n",
       "      <td>-1.559278</td>\n",
       "      <td>43.452277</td>\n",
       "    </tr>\n",
       "    <tr>\n",
       "      <th>25%</th>\n",
       "      <td>NaN</td>\n",
       "      <td>NaN</td>\n",
       "      <td>NaN</td>\n",
       "      <td>NaN</td>\n",
       "      <td>NaN</td>\n",
       "      <td>NaN</td>\n",
       "      <td>NaN</td>\n",
       "      <td>18.322500</td>\n",
       "      <td>72.675000</td>\n",
       "      <td>2.596000</td>\n",
       "      <td>9.000000</td>\n",
       "      <td>NaN</td>\n",
       "      <td>3.000000</td>\n",
       "      <td>585.000000</td>\n",
       "      <td>-1.473666</td>\n",
       "      <td>43.483252</td>\n",
       "    </tr>\n",
       "    <tr>\n",
       "      <th>50%</th>\n",
       "      <td>NaN</td>\n",
       "      <td>NaN</td>\n",
       "      <td>NaN</td>\n",
       "      <td>NaN</td>\n",
       "      <td>NaN</td>\n",
       "      <td>NaN</td>\n",
       "      <td>NaN</td>\n",
       "      <td>18.322500</td>\n",
       "      <td>75.550000</td>\n",
       "      <td>5.356500</td>\n",
       "      <td>19.000000</td>\n",
       "      <td>NaN</td>\n",
       "      <td>3.000000</td>\n",
       "      <td>598.000000</td>\n",
       "      <td>-1.152043</td>\n",
       "      <td>46.159113</td>\n",
       "    </tr>\n",
       "    <tr>\n",
       "      <th>75%</th>\n",
       "      <td>NaN</td>\n",
       "      <td>NaN</td>\n",
       "      <td>NaN</td>\n",
       "      <td>NaN</td>\n",
       "      <td>NaN</td>\n",
       "      <td>NaN</td>\n",
       "      <td>NaN</td>\n",
       "      <td>19.655250</td>\n",
       "      <td>75.550000</td>\n",
       "      <td>5.356500</td>\n",
       "      <td>20.000000</td>\n",
       "      <td>NaN</td>\n",
       "      <td>5.000000</td>\n",
       "      <td>604.000000</td>\n",
       "      <td>0.107973</td>\n",
       "      <td>46.159113</td>\n",
       "    </tr>\n",
       "    <tr>\n",
       "      <th>max</th>\n",
       "      <td>NaN</td>\n",
       "      <td>NaN</td>\n",
       "      <td>NaN</td>\n",
       "      <td>NaN</td>\n",
       "      <td>NaN</td>\n",
       "      <td>NaN</td>\n",
       "      <td>NaN</td>\n",
       "      <td>26.883000</td>\n",
       "      <td>79.250000</td>\n",
       "      <td>5.778750</td>\n",
       "      <td>29.000000</td>\n",
       "      <td>NaN</td>\n",
       "      <td>5.000000</td>\n",
       "      <td>604.000000</td>\n",
       "      <td>4.428717</td>\n",
       "      <td>49.493898</td>\n",
       "    </tr>\n",
       "  </tbody>\n",
       "</table>\n",
       "</div>"
      ],
      "text/plain": [
       "               city           hotel_name  \\\n",
       "count           204                  204   \n",
       "unique            5                  183   \n",
       "top     La Rochelle  The People Le Havre   \n",
       "freq             71                    2   \n",
       "mean            NaN                  NaN   \n",
       "std             NaN                  NaN   \n",
       "min             NaN                  NaN   \n",
       "25%             NaN                  NaN   \n",
       "50%             NaN                  NaN   \n",
       "75%             NaN                  NaN   \n",
       "max             NaN                  NaN   \n",
       "\n",
       "                                                hotel_url  \\\n",
       "count                                                 204   \n",
       "unique                                                204   \n",
       "top     https://www.booking.com/hotel/fr/le-petit-hote...   \n",
       "freq                                                    1   \n",
       "mean                                                  NaN   \n",
       "std                                                   NaN   \n",
       "min                                                   NaN   \n",
       "25%                                                   NaN   \n",
       "50%                                                   NaN   \n",
       "75%                                                   NaN   \n",
       "max                                                   NaN   \n",
       "\n",
       "                      hotel_GPS hotel_score        hotel_voters  \\\n",
       "count                       204         185                 186   \n",
       "unique                      182          49                 141   \n",
       "top     46.14560524,-1.16130704         8,3  1 expérience vécue   \n",
       "freq                          2          15                  12   \n",
       "mean                        NaN         NaN                 NaN   \n",
       "std                         NaN         NaN                 NaN   \n",
       "min                         NaN         NaN                 NaN   \n",
       "25%                         NaN         NaN                 NaN   \n",
       "50%                         NaN         NaN                 NaN   \n",
       "75%                         NaN         NaN                 NaN   \n",
       "max                         NaN         NaN                 NaN   \n",
       "\n",
       "                                        hotel_description  feels_like  \\\n",
       "count                                                 204  204.000000   \n",
       "unique                                                185         NaN   \n",
       "top     Vous pouvez bénéficier d'une réduction Genius ...         NaN   \n",
       "freq                                                    2         NaN   \n",
       "mean                                                  NaN   19.379262   \n",
       "std                                                   NaN    2.596128   \n",
       "min                                                   NaN   16.978750   \n",
       "25%                                                   NaN   18.322500   \n",
       "50%                                                   NaN   18.322500   \n",
       "75%                                                   NaN   19.655250   \n",
       "max                                                   NaN   26.883000   \n",
       "\n",
       "          humidity  wind_speed     city_id main_weather  main_weather_scores  \\\n",
       "count   204.000000  204.000000  204.000000          204           204.000000   \n",
       "unique         NaN         NaN         NaN            3                  NaN   \n",
       "top            NaN         NaN         NaN    clear sky                  NaN   \n",
       "freq           NaN         NaN         NaN           90                  NaN   \n",
       "mean     73.371691    4.374222   16.073529          NaN             3.519608   \n",
       "std       6.123455    1.419783    6.687205          NaN             1.493700   \n",
       "min      55.700000    2.512750    7.000000          NaN             1.000000   \n",
       "25%      72.675000    2.596000    9.000000          NaN             3.000000   \n",
       "50%      75.550000    5.356500   19.000000          NaN             3.000000   \n",
       "75%      75.550000    5.356500   20.000000          NaN             5.000000   \n",
       "max      79.250000    5.778750   29.000000          NaN             5.000000   \n",
       "\n",
       "        final_score         lon         lat  \n",
       "count    204.000000  204.000000  204.000000  \n",
       "unique          NaN         NaN         NaN  \n",
       "top             NaN         NaN         NaN  \n",
       "freq            NaN         NaN         NaN  \n",
       "mean     593.931373   -0.546114   45.503328  \n",
       "std        8.782270    1.700017    2.233494  \n",
       "min      584.000000   -1.559278   43.452277  \n",
       "25%      585.000000   -1.473666   43.483252  \n",
       "50%      598.000000   -1.152043   46.159113  \n",
       "75%      604.000000    0.107973   46.159113  \n",
       "max      604.000000    4.428717   49.493898  "
      ]
     },
     "execution_count": 7,
     "metadata": {},
     "output_type": "execute_result"
    }
   ],
   "source": [
    "# Clean data (drop lines etc)\n",
    "df_from_s3 = pd.read_csv(local_destination)\n",
    "df_from_s3.describe(include='all')"
   ]
  },
  {
   "cell_type": "code",
   "execution_count": null,
   "metadata": {},
   "outputs": [],
   "source": [
    "# Check duplicates\n",
    "duplicate_count = df_from_s3.duplicated(subset=['city', 'hotel_name']).sum()\n",
    "print(\"Number of duplicates:\", duplicate_count)\n",
    "duplicates_df = df_from_s3[df_from_s3.duplicated(subset=['city', 'hotel_name'], keep=False)]\n",
    "sorted_duplicates_df = duplicates_df.sort_values(by=['city', 'hotel_name'])\n",
    "# print(\"DataFrame with Duplicates:\")\n",
    "# print(sorted_duplicates_df)\n",
    "\n",
    "# Remove them (keep the first one)\n",
    "df_from_s3.drop_duplicates(subset=['city', 'hotel_name'], keep='first', inplace=True)\n"
   ]
  },
  {
   "cell_type": "code",
   "execution_count": 12,
   "metadata": {},
   "outputs": [
    {
     "name": "stdout",
     "output_type": "stream",
     "text": [
      "<class 'pandas.core.frame.DataFrame'>\n",
      "Int64Index: 163 entries, 0 to 203\n",
      "Data columns (total 16 columns):\n",
      " #   Column               Non-Null Count  Dtype  \n",
      "---  ------               --------------  -----  \n",
      " 0   city                 163 non-null    object \n",
      " 1   hotel_name           163 non-null    object \n",
      " 2   hotel_url            163 non-null    object \n",
      " 3   hotel_GPS            163 non-null    object \n",
      " 4   hotel_score          163 non-null    object \n",
      " 5   hotel_voters         163 non-null    object \n",
      " 6   hotel_description    163 non-null    object \n",
      " 7   feels_like           163 non-null    float64\n",
      " 8   humidity             163 non-null    float64\n",
      " 9   wind_speed           163 non-null    float64\n",
      " 10  city_id              163 non-null    float64\n",
      " 11  main_weather         163 non-null    object \n",
      " 12  main_weather_scores  163 non-null    float64\n",
      " 13  final_score          163 non-null    float64\n",
      " 14  lon                  163 non-null    float64\n",
      " 15  lat                  163 non-null    float64\n",
      "dtypes: float64(8), object(8)\n",
      "memory usage: 21.6+ KB\n"
     ]
    }
   ],
   "source": [
    "# Remove lines with missing info\n",
    "df_from_s3=df_from_s3.dropna()\n",
    "df_from_s3.info()\n",
    "# Convert values in hotel_score and hotel_voters in float and integer\n",
    "df_from_s3['hotel_score'] = df_from_s3['hotel_score'].str.replace(',', '.').astype(float)\n",
    "df_from_s3['hotel_voters'] = df_from_s3['hotel_voters'].apply(lambda x: x.split()[0]).astype(int)\n",
    "# Divide hotel_GPS into 2 columns, convert to float\n",
    "df_from_s3[['hotel_lat', 'hotel_lon']] = df_from_s3['hotel_GPS'].str.split(',', expand=True).astype(float)"
   ]
  },
  {
   "cell_type": "code",
   "execution_count": 13,
   "metadata": {},
   "outputs": [
    {
     "name": "stdout",
     "output_type": "stream",
     "text": [
      "We notice that hotel_score of 10 has sometimes only 1 or 2 voters, which might not be sufficient for judgement.\n",
      "Number of hotels:  163\n",
      "Number of hotels with more than 5 voters:  90\n"
     ]
    }
   ],
   "source": [
    "df_from_s3.sort_values(by='hotel_score',ascending=False)\n",
    "print(\"We notice that hotel_score of 10 has sometimes only 1 or 2 voters, which might not be sufficient for judgement.\")\n",
    "print(\"Number of hotels: \",len(df_from_s3))\n",
    "to_keep = (df_from_s3['hotel_voters'] >= 5)\n",
    "df_transformed = df_from_s3.loc[to_keep]\n",
    "print(\"Number of hotels with more than 5 voters: \",len(df_transformed))"
   ]
  },
  {
   "cell_type": "code",
   "execution_count": 14,
   "metadata": {},
   "outputs": [
    {
     "data": {
      "text/plain": [
       "Index(['city', 'hotel_name', 'hotel_url', 'hotel_GPS', 'hotel_score',\n",
       "       'hotel_voters', 'hotel_description', 'feels_like', 'humidity',\n",
       "       'wind_speed', 'city_id', 'main_weather', 'main_weather_scores',\n",
       "       'final_score', 'lon', 'lat', 'hotel_lat', 'hotel_lon'],\n",
       "      dtype='object')"
      ]
     },
     "execution_count": 14,
     "metadata": {},
     "output_type": "execute_result"
    }
   ],
   "source": [
    "df_transformed.columns"
   ]
  },
  {
   "cell_type": "code",
   "execution_count": 15,
   "metadata": {},
   "outputs": [],
   "source": [
    "# Define how should look the final table for managers\n",
    "\n",
    "# Let's instanciate a declarative base to be able to use our python class\n",
    "Base = declarative_base()\n",
    "\n",
    "class Scraping(Base):\n",
    "    # d'abord on doit donner un nom à notre table (obligé d'écrire tablename comme ca)\n",
    "    __tablename__ = \"Hotels\"\n",
    "\n",
    "    # Each parameter corresponds to a column in our DB table\n",
    "    id = Column(Integer, primary_key=True, autoincrement=True)\n",
    "    city = Column(String)\n",
    "    hotel_name = Column(String)\n",
    "    hotel_url = Column(String)\n",
    "    hotel_score = Column(Float)\n",
    "    hotel_voters = Column(Integer)\n",
    "    hotel_description = Column(String)\n",
    "    feels_like = Column(Float)\n",
    "    humidity = Column(Float)\n",
    "    wind_speed = Column(Float)\n",
    "    city_id = Column(Float)\n",
    "    main_weather = Column(String)\n",
    "    main_weather_scores = Column(Float)\n",
    "    final_score = Column(Float)\n",
    "    lon = Column(Float)\n",
    "    lat = Column(Float)\n",
    "    hotel_lat = Column(Float)\n",
    "    hotel_lon = Column(Float)\n",
    "\n",
    "    def __repr__(self):\n",
    "    # obligé de l'écrire comme ca exactement\n",
    "        # return \"<User(name='{}', fullname='{}', nickname='{}')>\".format(self.name, self.fullname, self.nickname)\n",
    "        columns = [column.name for column in Scraping.__table__.columns]\n",
    "        values = [getattr(self, column) for column in columns]\n",
    "        values_str = ', '.join([f'{column}={value}' for column, value in zip(columns, values)])\n",
    "        return f\"<Scraping({values_str})>\""
   ]
  },
  {
   "cell_type": "markdown",
   "metadata": {},
   "source": [
    "### Load"
   ]
  },
  {
   "cell_type": "code",
   "execution_count": 16,
   "metadata": {},
   "outputs": [],
   "source": [
    "# Create a SQLAlchemy engine\n",
    "engine = create_engine(f\"postgresql+psycopg2://{db_user}:{db_pass}@{db_host}:{db_port}/{db_name}\")"
   ]
  },
  {
   "cell_type": "code",
   "execution_count": 17,
   "metadata": {},
   "outputs": [],
   "source": [
    "Base.metadata.create_all(engine)\n",
    "# Creates the database schema based on our SQLAlchemy model definition (so the Base instance with the data \n",
    "# associated, like the table Hotels)\n",
    "\n",
    "# In PGadmin, refresh then go to: project-getaround-db/Databases/postgres/Schema/public/Tables/Hotels\n",
    "# Command QUERY TOOL to code in SQL"
   ]
  },
  {
   "cell_type": "code",
   "execution_count": 18,
   "metadata": {},
   "outputs": [
    {
     "data": {
      "text/plain": [
       "90"
      ]
     },
     "execution_count": 18,
     "metadata": {},
     "output_type": "execute_result"
    }
   ],
   "source": [
    "# Add all the data from the dataset\n",
    "df_transformed.to_sql(\"Hotels\", engine, if_exists=\"replace\", index=False)"
   ]
  },
  {
   "cell_type": "markdown",
   "metadata": {},
   "source": [
    "# Pick up best hotels"
   ]
  },
  {
   "cell_type": "code",
   "execution_count": 19,
   "metadata": {},
   "outputs": [],
   "source": [
    "# Imagine now we are someone else from the company, querying the created SQL database to find out what are\n",
    "# 20 best hotels for a 5 days trip in one of the 5top cities.\n",
    "\n",
    "# The person would first create a new engine and a new session\n",
    "engine = create_engine(f\"postgresql+psycopg2://{db_user}:{db_pass}@{db_host}:{db_port}/{db_name}\")\n",
    "Session = sessionmaker(bind=engine)\n",
    "session = Session()"
   ]
  },
  {
   "cell_type": "code",
   "execution_count": 20,
   "metadata": {},
   "outputs": [
    {
     "data": {
      "text/html": [
       "<div>\n",
       "<style scoped>\n",
       "    .dataframe tbody tr th:only-of-type {\n",
       "        vertical-align: middle;\n",
       "    }\n",
       "\n",
       "    .dataframe tbody tr th {\n",
       "        vertical-align: top;\n",
       "    }\n",
       "\n",
       "    .dataframe thead th {\n",
       "        text-align: right;\n",
       "    }\n",
       "</style>\n",
       "<table border=\"1\" class=\"dataframe\">\n",
       "  <thead>\n",
       "    <tr style=\"text-align: right;\">\n",
       "      <th></th>\n",
       "      <th>city</th>\n",
       "      <th>num_hotel_names</th>\n",
       "    </tr>\n",
       "  </thead>\n",
       "  <tbody>\n",
       "    <tr>\n",
       "      <th>0</th>\n",
       "      <td>Bayonne</td>\n",
       "      <td>14</td>\n",
       "    </tr>\n",
       "    <tr>\n",
       "      <th>1</th>\n",
       "      <td>Biarritz</td>\n",
       "      <td>17</td>\n",
       "    </tr>\n",
       "    <tr>\n",
       "      <th>2</th>\n",
       "      <td>La Rochelle</td>\n",
       "      <td>22</td>\n",
       "    </tr>\n",
       "    <tr>\n",
       "      <th>3</th>\n",
       "      <td>Le Havre</td>\n",
       "      <td>18</td>\n",
       "    </tr>\n",
       "    <tr>\n",
       "      <th>4</th>\n",
       "      <td>Saintes Maries de la mer</td>\n",
       "      <td>19</td>\n",
       "    </tr>\n",
       "  </tbody>\n",
       "</table>\n",
       "</div>"
      ],
      "text/plain": [
       "                       city  num_hotel_names\n",
       "0                   Bayonne               14\n",
       "1                  Biarritz               17\n",
       "2               La Rochelle               22\n",
       "3                  Le Havre               18\n",
       "4  Saintes Maries de la mer               19"
      ]
     },
     "metadata": {},
     "output_type": "display_data"
    },
    {
     "name": "stdout",
     "output_type": "stream",
     "text": [
      "There are quite similar number of hotels for each city.\n"
     ]
    }
   ],
   "source": [
    "# Do we have comparable number of hotels for the 5 cities ?\n",
    "\n",
    "query = \"\"\"\n",
    "SELECT city, COUNT(DISTINCT hotel_name) AS num_hotel_names\n",
    "FROM public.\"Hotels\"\n",
    "GROUP BY city\n",
    "\"\"\"\n",
    "\n",
    "hotels_per_city = pd.read_sql(query, engine)\n",
    "display(hotels_per_city)\n",
    "\n",
    "print(\"There are quite similar number of hotels for each city.\")"
   ]
  },
  {
   "cell_type": "code",
   "execution_count": 21,
   "metadata": {},
   "outputs": [
    {
     "data": {
      "text/html": [
       "<div>\n",
       "<style scoped>\n",
       "    .dataframe tbody tr th:only-of-type {\n",
       "        vertical-align: middle;\n",
       "    }\n",
       "\n",
       "    .dataframe tbody tr th {\n",
       "        vertical-align: top;\n",
       "    }\n",
       "\n",
       "    .dataframe thead th {\n",
       "        text-align: right;\n",
       "    }\n",
       "</style>\n",
       "<table border=\"1\" class=\"dataframe\">\n",
       "  <thead>\n",
       "    <tr style=\"text-align: right;\">\n",
       "      <th></th>\n",
       "      <th>city</th>\n",
       "      <th>hotel_name</th>\n",
       "      <th>hotel_score</th>\n",
       "      <th>hotel_voters</th>\n",
       "      <th>hotel_lat</th>\n",
       "      <th>hotel_lon</th>\n",
       "    </tr>\n",
       "  </thead>\n",
       "  <tbody>\n",
       "    <tr>\n",
       "      <th>0</th>\n",
       "      <td>La Rochelle</td>\n",
       "      <td>Verdun 2</td>\n",
       "      <td>9.8</td>\n",
       "      <td>5</td>\n",
       "      <td>46.163260</td>\n",
       "      <td>-1.152714</td>\n",
       "    </tr>\n",
       "    <tr>\n",
       "      <th>1</th>\n",
       "      <td>Saintes Maries de la mer</td>\n",
       "      <td>Mas du Couvin, maison d'hôtes en Camargue</td>\n",
       "      <td>9.7</td>\n",
       "      <td>80</td>\n",
       "      <td>43.500389</td>\n",
       "      <td>4.427241</td>\n",
       "    </tr>\n",
       "    <tr>\n",
       "      <th>2</th>\n",
       "      <td>Le Havre</td>\n",
       "      <td>Bel appartement centre Le Havre</td>\n",
       "      <td>9.4</td>\n",
       "      <td>13</td>\n",
       "      <td>49.493963</td>\n",
       "      <td>0.118168</td>\n",
       "    </tr>\n",
       "    <tr>\n",
       "      <th>3</th>\n",
       "      <td>La Rochelle</td>\n",
       "      <td>Appartement neuf au cœur de La Rochelle</td>\n",
       "      <td>9.3</td>\n",
       "      <td>11</td>\n",
       "      <td>46.158200</td>\n",
       "      <td>-1.154540</td>\n",
       "    </tr>\n",
       "    <tr>\n",
       "      <th>4</th>\n",
       "      <td>La Rochelle</td>\n",
       "      <td>La Rochelle sur L'eau</td>\n",
       "      <td>9.3</td>\n",
       "      <td>224</td>\n",
       "      <td>46.145605</td>\n",
       "      <td>-1.161307</td>\n",
       "    </tr>\n",
       "    <tr>\n",
       "      <th>5</th>\n",
       "      <td>Bayonne</td>\n",
       "      <td>Villa la Renaissance</td>\n",
       "      <td>9.2</td>\n",
       "      <td>348</td>\n",
       "      <td>43.482321</td>\n",
       "      <td>-1.468164</td>\n",
       "    </tr>\n",
       "    <tr>\n",
       "      <th>6</th>\n",
       "      <td>Biarritz</td>\n",
       "      <td>Hotel Saint Julien</td>\n",
       "      <td>9.1</td>\n",
       "      <td>440</td>\n",
       "      <td>43.479139</td>\n",
       "      <td>-1.562275</td>\n",
       "    </tr>\n",
       "    <tr>\n",
       "      <th>7</th>\n",
       "      <td>Saintes Maries de la mer</td>\n",
       "      <td>Mas le Sauvageon</td>\n",
       "      <td>9.1</td>\n",
       "      <td>225</td>\n",
       "      <td>43.483248</td>\n",
       "      <td>4.390455</td>\n",
       "    </tr>\n",
       "    <tr>\n",
       "      <th>8</th>\n",
       "      <td>Saintes Maries de la mer</td>\n",
       "      <td>Lodge Sainte Helene</td>\n",
       "      <td>9.1</td>\n",
       "      <td>122</td>\n",
       "      <td>43.465756</td>\n",
       "      <td>4.413934</td>\n",
       "    </tr>\n",
       "    <tr>\n",
       "      <th>9</th>\n",
       "      <td>Biarritz</td>\n",
       "      <td>Appartement Halles de Biarritz</td>\n",
       "      <td>9.0</td>\n",
       "      <td>6</td>\n",
       "      <td>43.479954</td>\n",
       "      <td>-1.561656</td>\n",
       "    </tr>\n",
       "    <tr>\n",
       "      <th>10</th>\n",
       "      <td>La Rochelle</td>\n",
       "      <td>Le Kréol - La Rochelle/ île de Ré - Climatisé</td>\n",
       "      <td>8.9</td>\n",
       "      <td>11</td>\n",
       "      <td>46.168302</td>\n",
       "      <td>-1.199016</td>\n",
       "    </tr>\n",
       "    <tr>\n",
       "      <th>11</th>\n",
       "      <td>La Rochelle</td>\n",
       "      <td>Very quiet 2-room apartment - Old Port, Town c...</td>\n",
       "      <td>8.9</td>\n",
       "      <td>5</td>\n",
       "      <td>46.157963</td>\n",
       "      <td>-1.149648</td>\n",
       "    </tr>\n",
       "    <tr>\n",
       "      <th>12</th>\n",
       "      <td>Biarritz</td>\n",
       "      <td>Château du Clair de Lune - Les Collectionneurs</td>\n",
       "      <td>8.9</td>\n",
       "      <td>263</td>\n",
       "      <td>43.450053</td>\n",
       "      <td>-1.545811</td>\n",
       "    </tr>\n",
       "    <tr>\n",
       "      <th>13</th>\n",
       "      <td>Saintes Maries de la mer</td>\n",
       "      <td>Hôtel L' Estelle en Camargue</td>\n",
       "      <td>8.9</td>\n",
       "      <td>136</td>\n",
       "      <td>43.470300</td>\n",
       "      <td>4.395304</td>\n",
       "    </tr>\n",
       "    <tr>\n",
       "      <th>14</th>\n",
       "      <td>Bayonne</td>\n",
       "      <td>Boutique Hôtel Un Appart en Ville</td>\n",
       "      <td>8.9</td>\n",
       "      <td>375</td>\n",
       "      <td>43.490923</td>\n",
       "      <td>-1.477441</td>\n",
       "    </tr>\n",
       "    <tr>\n",
       "      <th>15</th>\n",
       "      <td>Biarritz</td>\n",
       "      <td>Biarritz Surf Lodge Maison d'hôtes</td>\n",
       "      <td>8.7</td>\n",
       "      <td>12</td>\n",
       "      <td>43.467495</td>\n",
       "      <td>-1.568375</td>\n",
       "    </tr>\n",
       "    <tr>\n",
       "      <th>16</th>\n",
       "      <td>Saintes Maries de la mer</td>\n",
       "      <td>Mangio Fango Hotel et Spa</td>\n",
       "      <td>8.7</td>\n",
       "      <td>354</td>\n",
       "      <td>43.459788</td>\n",
       "      <td>4.423285</td>\n",
       "    </tr>\n",
       "    <tr>\n",
       "      <th>17</th>\n",
       "      <td>Le Havre</td>\n",
       "      <td>Odalys City Le Havre Centre Gare</td>\n",
       "      <td>8.7</td>\n",
       "      <td>662</td>\n",
       "      <td>49.491908</td>\n",
       "      <td>0.123162</td>\n",
       "    </tr>\n",
       "    <tr>\n",
       "      <th>18</th>\n",
       "      <td>Biarritz</td>\n",
       "      <td>Mercure Plaza Biarritz Centre</td>\n",
       "      <td>8.7</td>\n",
       "      <td>89</td>\n",
       "      <td>43.482889</td>\n",
       "      <td>-1.558573</td>\n",
       "    </tr>\n",
       "    <tr>\n",
       "      <th>19</th>\n",
       "      <td>La Rochelle</td>\n",
       "      <td>L'Acqua Dolce - La Rochelle - île de Ré - Jacuzzi</td>\n",
       "      <td>8.7</td>\n",
       "      <td>30</td>\n",
       "      <td>46.168302</td>\n",
       "      <td>-1.199016</td>\n",
       "    </tr>\n",
       "  </tbody>\n",
       "</table>\n",
       "</div>"
      ],
      "text/plain": [
       "                        city  \\\n",
       "0                La Rochelle   \n",
       "1   Saintes Maries de la mer   \n",
       "2                   Le Havre   \n",
       "3                La Rochelle   \n",
       "4                La Rochelle   \n",
       "5                    Bayonne   \n",
       "6                   Biarritz   \n",
       "7   Saintes Maries de la mer   \n",
       "8   Saintes Maries de la mer   \n",
       "9                   Biarritz   \n",
       "10               La Rochelle   \n",
       "11               La Rochelle   \n",
       "12                  Biarritz   \n",
       "13  Saintes Maries de la mer   \n",
       "14                   Bayonne   \n",
       "15                  Biarritz   \n",
       "16  Saintes Maries de la mer   \n",
       "17                  Le Havre   \n",
       "18                  Biarritz   \n",
       "19               La Rochelle   \n",
       "\n",
       "                                           hotel_name  hotel_score  \\\n",
       "0                                            Verdun 2          9.8   \n",
       "1           Mas du Couvin, maison d'hôtes en Camargue          9.7   \n",
       "2                     Bel appartement centre Le Havre          9.4   \n",
       "3             Appartement neuf au cœur de La Rochelle          9.3   \n",
       "4                               La Rochelle sur L'eau          9.3   \n",
       "5                                Villa la Renaissance          9.2   \n",
       "6                                  Hotel Saint Julien          9.1   \n",
       "7                                    Mas le Sauvageon          9.1   \n",
       "8                                 Lodge Sainte Helene          9.1   \n",
       "9                      Appartement Halles de Biarritz          9.0   \n",
       "10      Le Kréol - La Rochelle/ île de Ré - Climatisé          8.9   \n",
       "11  Very quiet 2-room apartment - Old Port, Town c...          8.9   \n",
       "12     Château du Clair de Lune - Les Collectionneurs          8.9   \n",
       "13                       Hôtel L' Estelle en Camargue          8.9   \n",
       "14                  Boutique Hôtel Un Appart en Ville          8.9   \n",
       "15                 Biarritz Surf Lodge Maison d'hôtes          8.7   \n",
       "16                          Mangio Fango Hotel et Spa          8.7   \n",
       "17                   Odalys City Le Havre Centre Gare          8.7   \n",
       "18                      Mercure Plaza Biarritz Centre          8.7   \n",
       "19  L'Acqua Dolce - La Rochelle - île de Ré - Jacuzzi          8.7   \n",
       "\n",
       "    hotel_voters  hotel_lat  hotel_lon  \n",
       "0              5  46.163260  -1.152714  \n",
       "1             80  43.500389   4.427241  \n",
       "2             13  49.493963   0.118168  \n",
       "3             11  46.158200  -1.154540  \n",
       "4            224  46.145605  -1.161307  \n",
       "5            348  43.482321  -1.468164  \n",
       "6            440  43.479139  -1.562275  \n",
       "7            225  43.483248   4.390455  \n",
       "8            122  43.465756   4.413934  \n",
       "9              6  43.479954  -1.561656  \n",
       "10            11  46.168302  -1.199016  \n",
       "11             5  46.157963  -1.149648  \n",
       "12           263  43.450053  -1.545811  \n",
       "13           136  43.470300   4.395304  \n",
       "14           375  43.490923  -1.477441  \n",
       "15            12  43.467495  -1.568375  \n",
       "16           354  43.459788   4.423285  \n",
       "17           662  49.491908   0.123162  \n",
       "18            89  43.482889  -1.558573  \n",
       "19            30  46.168302  -1.199016  "
      ]
     },
     "metadata": {},
     "output_type": "display_data"
    }
   ],
   "source": [
    "# Find the 20 best hotels\n",
    "\n",
    "query = \"\"\"\n",
    "SELECT city, hotel_name, hotel_score, hotel_voters, hotel_lat, hotel_lon\n",
    "FROM public.\"Hotels\"\n",
    "ORDER BY hotel_score DESC\n",
    "LIMIT 20\n",
    "\"\"\"\n",
    "\n",
    "# We need quotes for hotel_GPS because of the capital letters creating problem\n",
    "\n",
    "top20_hotels = pd.read_sql(query, engine)\n",
    "display(top20_hotels)"
   ]
  },
  {
   "cell_type": "code",
   "execution_count": 22,
   "metadata": {},
   "outputs": [
    {
     "data": {
      "application/vnd.plotly.v1+json": {
       "config": {
        "plotlyServerURL": "https://plot.ly"
       },
       "data": [
        {
         "customdata": [
          [
           "La Rochelle",
           9.8,
           5
          ],
          [
           "La Rochelle",
           9.3,
           11
          ],
          [
           "La Rochelle",
           9.3,
           224
          ],
          [
           "La Rochelle",
           8.9,
           11
          ],
          [
           "La Rochelle",
           8.9,
           5
          ],
          [
           "La Rochelle",
           8.7,
           30
          ]
         ],
         "hovertemplate": "<b>%{hovertext}</b><br><br>city=%{customdata[0]}<br>hotel_score=%{customdata[1]}<br>hotel_lat=%{lat}<br>hotel_lon=%{lon}<br>hotel_voters=%{customdata[2]}<extra></extra>",
         "hovertext": [
          "Verdun 2",
          "Appartement neuf au cœur de La Rochelle",
          "La Rochelle sur L'eau",
          "Le Kréol - La Rochelle/ île de Ré - Climatisé",
          "Very quiet 2-room apartment - Old Port, Town center",
          "L'Acqua Dolce - La Rochelle - île de Ré - Jacuzzi"
         ],
         "lat": [
          46.1632595,
          46.1582003,
          46.14560524,
          46.1683022,
          46.15796274,
          46.1683022
         ],
         "legendgroup": "La Rochelle",
         "lon": [
          -1.1527144,
          -1.1545399,
          -1.16130704,
          -1.1990156,
          -1.14964824,
          -1.1990156
         ],
         "marker": {
          "color": "#636efa",
          "size": [
           9.8,
           9.3,
           9.3,
           8.9,
           8.9,
           8.7
          ],
          "sizemode": "area",
          "sizeref": 0.0245
         },
         "mode": "markers",
         "name": "La Rochelle",
         "showlegend": true,
         "subplot": "mapbox",
         "type": "scattermapbox"
        },
        {
         "customdata": [
          [
           "Saintes Maries de la mer",
           9.7,
           80
          ],
          [
           "Saintes Maries de la mer",
           9.1,
           225
          ],
          [
           "Saintes Maries de la mer",
           9.1,
           122
          ],
          [
           "Saintes Maries de la mer",
           8.9,
           136
          ],
          [
           "Saintes Maries de la mer",
           8.7,
           354
          ]
         ],
         "hovertemplate": "<b>%{hovertext}</b><br><br>city=%{customdata[0]}<br>hotel_score=%{customdata[1]}<br>hotel_lat=%{lat}<br>hotel_lon=%{lon}<br>hotel_voters=%{customdata[2]}<extra></extra>",
         "hovertext": [
          "Mas du Couvin, maison d'hôtes en Camargue",
          "Mas le Sauvageon",
          "Lodge Sainte Helene",
          "Hôtel L' Estelle en Camargue",
          "Mangio Fango Hotel et Spa"
         ],
         "lat": [
          43.50038852,
          43.48324784,
          43.46575556,
          43.4703003,
          43.45978795
         ],
         "legendgroup": "Saintes Maries de la mer",
         "lon": [
          4.427241,
          4.39045474,
          4.41393435,
          4.39530373,
          4.42328453
         ],
         "marker": {
          "color": "#EF553B",
          "size": [
           9.7,
           9.1,
           9.1,
           8.9,
           8.7
          ],
          "sizemode": "area",
          "sizeref": 0.0245
         },
         "mode": "markers",
         "name": "Saintes Maries de la mer",
         "showlegend": true,
         "subplot": "mapbox",
         "type": "scattermapbox"
        },
        {
         "customdata": [
          [
           "Le Havre",
           9.4,
           13
          ],
          [
           "Le Havre",
           8.7,
           662
          ]
         ],
         "hovertemplate": "<b>%{hovertext}</b><br><br>city=%{customdata[0]}<br>hotel_score=%{customdata[1]}<br>hotel_lat=%{lat}<br>hotel_lon=%{lon}<br>hotel_voters=%{customdata[2]}<extra></extra>",
         "hovertext": [
          "Bel appartement centre Le Havre",
          "Odalys City Le Havre Centre Gare"
         ],
         "lat": [
          49.4939629,
          49.49190808
         ],
         "legendgroup": "Le Havre",
         "lon": [
          0.1181682,
          0.12316179
         ],
         "marker": {
          "color": "#00cc96",
          "size": [
           9.4,
           8.7
          ],
          "sizemode": "area",
          "sizeref": 0.0245
         },
         "mode": "markers",
         "name": "Le Havre",
         "showlegend": true,
         "subplot": "mapbox",
         "type": "scattermapbox"
        },
        {
         "customdata": [
          [
           "Bayonne",
           9.2,
           348
          ],
          [
           "Bayonne",
           8.9,
           375
          ]
         ],
         "hovertemplate": "<b>%{hovertext}</b><br><br>city=%{customdata[0]}<br>hotel_score=%{customdata[1]}<br>hotel_lat=%{lat}<br>hotel_lon=%{lon}<br>hotel_voters=%{customdata[2]}<extra></extra>",
         "hovertext": [
          "Villa la Renaissance",
          "Boutique Hôtel Un Appart en Ville"
         ],
         "lat": [
          43.482321,
          43.4909225
         ],
         "legendgroup": "Bayonne",
         "lon": [
          -1.468164,
          -1.4774412
         ],
         "marker": {
          "color": "#ab63fa",
          "size": [
           9.2,
           8.9
          ],
          "sizemode": "area",
          "sizeref": 0.0245
         },
         "mode": "markers",
         "name": "Bayonne",
         "showlegend": true,
         "subplot": "mapbox",
         "type": "scattermapbox"
        },
        {
         "customdata": [
          [
           "Biarritz",
           9.1,
           440
          ],
          [
           "Biarritz",
           9,
           6
          ],
          [
           "Biarritz",
           8.9,
           263
          ],
          [
           "Biarritz",
           8.7,
           12
          ],
          [
           "Biarritz",
           8.7,
           89
          ]
         ],
         "hovertemplate": "<b>%{hovertext}</b><br><br>city=%{customdata[0]}<br>hotel_score=%{customdata[1]}<br>hotel_lat=%{lat}<br>hotel_lon=%{lon}<br>hotel_voters=%{customdata[2]}<extra></extra>",
         "hovertext": [
          "Hotel Saint Julien",
          "Appartement Halles de Biarritz",
          "Château du Clair de Lune - Les Collectionneurs",
          "Biarritz Surf Lodge Maison d'hôtes",
          "Mercure Plaza Biarritz Centre"
         ],
         "lat": [
          43.479139,
          43.4799542,
          43.45005266,
          43.4674949,
          43.48288936
         ],
         "legendgroup": "Biarritz",
         "lon": [
          -1.56227544,
          -1.5616561,
          -1.5458107,
          -1.5683752,
          -1.55857265
         ],
         "marker": {
          "color": "#FFA15A",
          "size": [
           9.1,
           9,
           8.9,
           8.7,
           8.7
          ],
          "sizemode": "area",
          "sizeref": 0.0245
         },
         "mode": "markers",
         "name": "Biarritz",
         "showlegend": true,
         "subplot": "mapbox",
         "type": "scattermapbox"
        }
       ],
       "layout": {
        "legend": {
         "itemsizing": "constant",
         "title": {
          "text": "city"
         },
         "tracegroupgap": 0
        },
        "mapbox": {
         "center": {
          "lat": 44.8829878475,
          "lon": 0.22665061350000007
         },
         "domain": {
          "x": [
           0,
           1
          ],
          "y": [
           0,
           1
          ]
         },
         "style": "open-street-map",
         "zoom": 5
        },
        "template": {
         "data": {
          "bar": [
           {
            "error_x": {
             "color": "#2a3f5f"
            },
            "error_y": {
             "color": "#2a3f5f"
            },
            "marker": {
             "line": {
              "color": "#E5ECF6",
              "width": 0.5
             },
             "pattern": {
              "fillmode": "overlay",
              "size": 10,
              "solidity": 0.2
             }
            },
            "type": "bar"
           }
          ],
          "barpolar": [
           {
            "marker": {
             "line": {
              "color": "#E5ECF6",
              "width": 0.5
             },
             "pattern": {
              "fillmode": "overlay",
              "size": 10,
              "solidity": 0.2
             }
            },
            "type": "barpolar"
           }
          ],
          "carpet": [
           {
            "aaxis": {
             "endlinecolor": "#2a3f5f",
             "gridcolor": "white",
             "linecolor": "white",
             "minorgridcolor": "white",
             "startlinecolor": "#2a3f5f"
            },
            "baxis": {
             "endlinecolor": "#2a3f5f",
             "gridcolor": "white",
             "linecolor": "white",
             "minorgridcolor": "white",
             "startlinecolor": "#2a3f5f"
            },
            "type": "carpet"
           }
          ],
          "choropleth": [
           {
            "colorbar": {
             "outlinewidth": 0,
             "ticks": ""
            },
            "type": "choropleth"
           }
          ],
          "contour": [
           {
            "colorbar": {
             "outlinewidth": 0,
             "ticks": ""
            },
            "colorscale": [
             [
              0,
              "#0d0887"
             ],
             [
              0.1111111111111111,
              "#46039f"
             ],
             [
              0.2222222222222222,
              "#7201a8"
             ],
             [
              0.3333333333333333,
              "#9c179e"
             ],
             [
              0.4444444444444444,
              "#bd3786"
             ],
             [
              0.5555555555555556,
              "#d8576b"
             ],
             [
              0.6666666666666666,
              "#ed7953"
             ],
             [
              0.7777777777777778,
              "#fb9f3a"
             ],
             [
              0.8888888888888888,
              "#fdca26"
             ],
             [
              1,
              "#f0f921"
             ]
            ],
            "type": "contour"
           }
          ],
          "contourcarpet": [
           {
            "colorbar": {
             "outlinewidth": 0,
             "ticks": ""
            },
            "type": "contourcarpet"
           }
          ],
          "heatmap": [
           {
            "colorbar": {
             "outlinewidth": 0,
             "ticks": ""
            },
            "colorscale": [
             [
              0,
              "#0d0887"
             ],
             [
              0.1111111111111111,
              "#46039f"
             ],
             [
              0.2222222222222222,
              "#7201a8"
             ],
             [
              0.3333333333333333,
              "#9c179e"
             ],
             [
              0.4444444444444444,
              "#bd3786"
             ],
             [
              0.5555555555555556,
              "#d8576b"
             ],
             [
              0.6666666666666666,
              "#ed7953"
             ],
             [
              0.7777777777777778,
              "#fb9f3a"
             ],
             [
              0.8888888888888888,
              "#fdca26"
             ],
             [
              1,
              "#f0f921"
             ]
            ],
            "type": "heatmap"
           }
          ],
          "heatmapgl": [
           {
            "colorbar": {
             "outlinewidth": 0,
             "ticks": ""
            },
            "colorscale": [
             [
              0,
              "#0d0887"
             ],
             [
              0.1111111111111111,
              "#46039f"
             ],
             [
              0.2222222222222222,
              "#7201a8"
             ],
             [
              0.3333333333333333,
              "#9c179e"
             ],
             [
              0.4444444444444444,
              "#bd3786"
             ],
             [
              0.5555555555555556,
              "#d8576b"
             ],
             [
              0.6666666666666666,
              "#ed7953"
             ],
             [
              0.7777777777777778,
              "#fb9f3a"
             ],
             [
              0.8888888888888888,
              "#fdca26"
             ],
             [
              1,
              "#f0f921"
             ]
            ],
            "type": "heatmapgl"
           }
          ],
          "histogram": [
           {
            "marker": {
             "pattern": {
              "fillmode": "overlay",
              "size": 10,
              "solidity": 0.2
             }
            },
            "type": "histogram"
           }
          ],
          "histogram2d": [
           {
            "colorbar": {
             "outlinewidth": 0,
             "ticks": ""
            },
            "colorscale": [
             [
              0,
              "#0d0887"
             ],
             [
              0.1111111111111111,
              "#46039f"
             ],
             [
              0.2222222222222222,
              "#7201a8"
             ],
             [
              0.3333333333333333,
              "#9c179e"
             ],
             [
              0.4444444444444444,
              "#bd3786"
             ],
             [
              0.5555555555555556,
              "#d8576b"
             ],
             [
              0.6666666666666666,
              "#ed7953"
             ],
             [
              0.7777777777777778,
              "#fb9f3a"
             ],
             [
              0.8888888888888888,
              "#fdca26"
             ],
             [
              1,
              "#f0f921"
             ]
            ],
            "type": "histogram2d"
           }
          ],
          "histogram2dcontour": [
           {
            "colorbar": {
             "outlinewidth": 0,
             "ticks": ""
            },
            "colorscale": [
             [
              0,
              "#0d0887"
             ],
             [
              0.1111111111111111,
              "#46039f"
             ],
             [
              0.2222222222222222,
              "#7201a8"
             ],
             [
              0.3333333333333333,
              "#9c179e"
             ],
             [
              0.4444444444444444,
              "#bd3786"
             ],
             [
              0.5555555555555556,
              "#d8576b"
             ],
             [
              0.6666666666666666,
              "#ed7953"
             ],
             [
              0.7777777777777778,
              "#fb9f3a"
             ],
             [
              0.8888888888888888,
              "#fdca26"
             ],
             [
              1,
              "#f0f921"
             ]
            ],
            "type": "histogram2dcontour"
           }
          ],
          "mesh3d": [
           {
            "colorbar": {
             "outlinewidth": 0,
             "ticks": ""
            },
            "type": "mesh3d"
           }
          ],
          "parcoords": [
           {
            "line": {
             "colorbar": {
              "outlinewidth": 0,
              "ticks": ""
             }
            },
            "type": "parcoords"
           }
          ],
          "pie": [
           {
            "automargin": true,
            "type": "pie"
           }
          ],
          "scatter": [
           {
            "fillpattern": {
             "fillmode": "overlay",
             "size": 10,
             "solidity": 0.2
            },
            "type": "scatter"
           }
          ],
          "scatter3d": [
           {
            "line": {
             "colorbar": {
              "outlinewidth": 0,
              "ticks": ""
             }
            },
            "marker": {
             "colorbar": {
              "outlinewidth": 0,
              "ticks": ""
             }
            },
            "type": "scatter3d"
           }
          ],
          "scattercarpet": [
           {
            "marker": {
             "colorbar": {
              "outlinewidth": 0,
              "ticks": ""
             }
            },
            "type": "scattercarpet"
           }
          ],
          "scattergeo": [
           {
            "marker": {
             "colorbar": {
              "outlinewidth": 0,
              "ticks": ""
             }
            },
            "type": "scattergeo"
           }
          ],
          "scattergl": [
           {
            "marker": {
             "colorbar": {
              "outlinewidth": 0,
              "ticks": ""
             }
            },
            "type": "scattergl"
           }
          ],
          "scattermapbox": [
           {
            "marker": {
             "colorbar": {
              "outlinewidth": 0,
              "ticks": ""
             }
            },
            "type": "scattermapbox"
           }
          ],
          "scatterpolar": [
           {
            "marker": {
             "colorbar": {
              "outlinewidth": 0,
              "ticks": ""
             }
            },
            "type": "scatterpolar"
           }
          ],
          "scatterpolargl": [
           {
            "marker": {
             "colorbar": {
              "outlinewidth": 0,
              "ticks": ""
             }
            },
            "type": "scatterpolargl"
           }
          ],
          "scatterternary": [
           {
            "marker": {
             "colorbar": {
              "outlinewidth": 0,
              "ticks": ""
             }
            },
            "type": "scatterternary"
           }
          ],
          "surface": [
           {
            "colorbar": {
             "outlinewidth": 0,
             "ticks": ""
            },
            "colorscale": [
             [
              0,
              "#0d0887"
             ],
             [
              0.1111111111111111,
              "#46039f"
             ],
             [
              0.2222222222222222,
              "#7201a8"
             ],
             [
              0.3333333333333333,
              "#9c179e"
             ],
             [
              0.4444444444444444,
              "#bd3786"
             ],
             [
              0.5555555555555556,
              "#d8576b"
             ],
             [
              0.6666666666666666,
              "#ed7953"
             ],
             [
              0.7777777777777778,
              "#fb9f3a"
             ],
             [
              0.8888888888888888,
              "#fdca26"
             ],
             [
              1,
              "#f0f921"
             ]
            ],
            "type": "surface"
           }
          ],
          "table": [
           {
            "cells": {
             "fill": {
              "color": "#EBF0F8"
             },
             "line": {
              "color": "white"
             }
            },
            "header": {
             "fill": {
              "color": "#C8D4E3"
             },
             "line": {
              "color": "white"
             }
            },
            "type": "table"
           }
          ]
         },
         "layout": {
          "annotationdefaults": {
           "arrowcolor": "#2a3f5f",
           "arrowhead": 0,
           "arrowwidth": 1
          },
          "autotypenumbers": "strict",
          "coloraxis": {
           "colorbar": {
            "outlinewidth": 0,
            "ticks": ""
           }
          },
          "colorscale": {
           "diverging": [
            [
             0,
             "#8e0152"
            ],
            [
             0.1,
             "#c51b7d"
            ],
            [
             0.2,
             "#de77ae"
            ],
            [
             0.3,
             "#f1b6da"
            ],
            [
             0.4,
             "#fde0ef"
            ],
            [
             0.5,
             "#f7f7f7"
            ],
            [
             0.6,
             "#e6f5d0"
            ],
            [
             0.7,
             "#b8e186"
            ],
            [
             0.8,
             "#7fbc41"
            ],
            [
             0.9,
             "#4d9221"
            ],
            [
             1,
             "#276419"
            ]
           ],
           "sequential": [
            [
             0,
             "#0d0887"
            ],
            [
             0.1111111111111111,
             "#46039f"
            ],
            [
             0.2222222222222222,
             "#7201a8"
            ],
            [
             0.3333333333333333,
             "#9c179e"
            ],
            [
             0.4444444444444444,
             "#bd3786"
            ],
            [
             0.5555555555555556,
             "#d8576b"
            ],
            [
             0.6666666666666666,
             "#ed7953"
            ],
            [
             0.7777777777777778,
             "#fb9f3a"
            ],
            [
             0.8888888888888888,
             "#fdca26"
            ],
            [
             1,
             "#f0f921"
            ]
           ],
           "sequentialminus": [
            [
             0,
             "#0d0887"
            ],
            [
             0.1111111111111111,
             "#46039f"
            ],
            [
             0.2222222222222222,
             "#7201a8"
            ],
            [
             0.3333333333333333,
             "#9c179e"
            ],
            [
             0.4444444444444444,
             "#bd3786"
            ],
            [
             0.5555555555555556,
             "#d8576b"
            ],
            [
             0.6666666666666666,
             "#ed7953"
            ],
            [
             0.7777777777777778,
             "#fb9f3a"
            ],
            [
             0.8888888888888888,
             "#fdca26"
            ],
            [
             1,
             "#f0f921"
            ]
           ]
          },
          "colorway": [
           "#636efa",
           "#EF553B",
           "#00cc96",
           "#ab63fa",
           "#FFA15A",
           "#19d3f3",
           "#FF6692",
           "#B6E880",
           "#FF97FF",
           "#FECB52"
          ],
          "font": {
           "color": "#2a3f5f"
          },
          "geo": {
           "bgcolor": "white",
           "lakecolor": "white",
           "landcolor": "#E5ECF6",
           "showlakes": true,
           "showland": true,
           "subunitcolor": "white"
          },
          "hoverlabel": {
           "align": "left"
          },
          "hovermode": "closest",
          "mapbox": {
           "style": "light"
          },
          "paper_bgcolor": "white",
          "plot_bgcolor": "#E5ECF6",
          "polar": {
           "angularaxis": {
            "gridcolor": "white",
            "linecolor": "white",
            "ticks": ""
           },
           "bgcolor": "#E5ECF6",
           "radialaxis": {
            "gridcolor": "white",
            "linecolor": "white",
            "ticks": ""
           }
          },
          "scene": {
           "xaxis": {
            "backgroundcolor": "#E5ECF6",
            "gridcolor": "white",
            "gridwidth": 2,
            "linecolor": "white",
            "showbackground": true,
            "ticks": "",
            "zerolinecolor": "white"
           },
           "yaxis": {
            "backgroundcolor": "#E5ECF6",
            "gridcolor": "white",
            "gridwidth": 2,
            "linecolor": "white",
            "showbackground": true,
            "ticks": "",
            "zerolinecolor": "white"
           },
           "zaxis": {
            "backgroundcolor": "#E5ECF6",
            "gridcolor": "white",
            "gridwidth": 2,
            "linecolor": "white",
            "showbackground": true,
            "ticks": "",
            "zerolinecolor": "white"
           }
          },
          "shapedefaults": {
           "line": {
            "color": "#2a3f5f"
           }
          },
          "ternary": {
           "aaxis": {
            "gridcolor": "white",
            "linecolor": "white",
            "ticks": ""
           },
           "baxis": {
            "gridcolor": "white",
            "linecolor": "white",
            "ticks": ""
           },
           "bgcolor": "#E5ECF6",
           "caxis": {
            "gridcolor": "white",
            "linecolor": "white",
            "ticks": ""
           }
          },
          "title": {
           "x": 0.05
          },
          "xaxis": {
           "automargin": true,
           "gridcolor": "white",
           "linecolor": "white",
           "ticks": "",
           "title": {
            "standoff": 15
           },
           "zerolinecolor": "white",
           "zerolinewidth": 2
          },
          "yaxis": {
           "automargin": true,
           "gridcolor": "white",
           "linecolor": "white",
           "ticks": "",
           "title": {
            "standoff": 15
           },
           "zerolinecolor": "white",
           "zerolinewidth": 2
          }
         }
        },
        "title": {
         "text": "Top 20 hotels for our kite surfing trip"
        }
       }
      }
     },
     "metadata": {},
     "output_type": "display_data"
    }
   ],
   "source": [
    "fig = px.scatter_mapbox(\n",
    "    top20_hotels, \n",
    "    title=\"Top 20 hotels for our kite surfing trip\", \n",
    "    lat=\"hotel_lat\", \n",
    "    lon=\"hotel_lon\", \n",
    "    zoom=5, \n",
    "    mapbox_style=\"open-street-map\",\n",
    "    size=\"hotel_score\",\n",
    "    color = 'city',\n",
    "    hover_name= 'hotel_name',\n",
    "    hover_data = ['city', 'hotel_score','hotel_voters'],\n",
    "\n",
    ")\n",
    "\n",
    "\n",
    "fig.show()\n",
    "fig.write_html(\"final pictures/top_20_hotels_interactive.html\")"
   ]
  },
  {
   "cell_type": "markdown",
   "metadata": {},
   "source": [
    "![alt text](https://raw.githubusercontent.com/elodiesune/PROJECT_Kayak/main/final%20pictures/top20_hotels_picture.jpg)"
   ]
  },
  {
   "cell_type": "code",
   "execution_count": 23,
   "metadata": {},
   "outputs": [],
   "source": [
    "# Close the session\n",
    "session.close()"
   ]
  }
 ],
 "metadata": {
  "kernelspec": {
   "display_name": "base",
   "language": "python",
   "name": "python3"
  },
  "language_info": {
   "codemirror_mode": {
    "name": "ipython",
    "version": 3
   },
   "file_extension": ".py",
   "mimetype": "text/x-python",
   "name": "python",
   "nbconvert_exporter": "python",
   "pygments_lexer": "ipython3",
   "version": "3.9.13"
  },
  "orig_nbformat": 4
 },
 "nbformat": 4,
 "nbformat_minor": 2
}
