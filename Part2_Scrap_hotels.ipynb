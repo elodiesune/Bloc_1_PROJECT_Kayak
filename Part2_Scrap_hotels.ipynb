{
 "cells": [
  {
   "cell_type": "markdown",
   "metadata": {},
   "source": [
    "# Necessary libraries and credentials"
   ]
  },
  {
   "cell_type": "code",
   "execution_count": 1,
   "metadata": {},
   "outputs": [],
   "source": [
    "import os \n",
    "import logging\n",
    "import scrapy\n",
    "from scrapy.crawler import CrawlerProcess\n",
    "from scrapy.selector import Selector\n",
    "import json\n",
    "import boto3\n",
    "import pandas as pd\n",
    "from sqlalchemy import create_engine, text, Column, Integer, String, Float\n",
    "from sqlalchemy.ext.declarative import declarative_base\n",
    "from sqlalchemy.orm import sessionmaker\n",
    "\n",
    "import matplotlib.pyplot as plt\n",
    "import plotly.express as px\n",
    "from PIL import Image\n",
    "\n",
    "import psycopg2"
   ]
  },
  {
   "cell_type": "code",
   "execution_count": 2,
   "metadata": {},
   "outputs": [],
   "source": [
    "# s3 credentials\n",
    "elo_s3_accessKeys = pd.read_csv(\"C:/Users/elodi/Documents/Documents/PYTHON/Jedha/data_science_full_stack/elo_s3_accessKeys.csv\",encoding='utf-8-sig')\n",
    "ACCESS_KEY_ID = elo_s3_accessKeys['Access key ID'].values[0]\n",
    "SECRET_ACCESS_KEY = elo_s3_accessKeys['Secret access key'].values[0]\n",
    "bucket_name = \"bucket-getaround\""
   ]
  },
  {
   "cell_type": "code",
   "execution_count": 3,
   "metadata": {},
   "outputs": [],
   "source": [
    "# RDS database credentials\n",
    "elo_rds_accessKeys = pd.read_csv(\"C:/Users/elodi/Documents/Documents/PYTHON/Jedha/data_science_full_stack/elo_rds_accessKeys.csv\",encoding='utf-8-sig')\n",
    "db_host = elo_rds_accessKeys['db_host'].values[0]\n",
    "db_port = elo_rds_accessKeys['db_port'].values[0]\n",
    "db_name = elo_rds_accessKeys['db_name'].values[0]\n",
    "db_user = elo_rds_accessKeys['db_user'].values[0]\n",
    "db_pass = elo_rds_accessKeys['db_pass'].values[0]"
   ]
  },
  {
   "cell_type": "markdown",
   "metadata": {},
   "source": [
    "# Scraping Booking.com"
   ]
  },
  {
   "cell_type": "code",
   "execution_count": null,
   "metadata": {},
   "outputs": [],
   "source": [
    "class booking_spider(scrapy.Spider):\n",
    "\n",
    "    name = \"booking\"\n",
    "    start_urls = ['https://www.booking.com']\n",
    "    best_cities = ['Saintes Maries de la mer', 'Biarritz', 'Bayonne', 'Collioure', 'St Malo']\n",
    "\n",
    "    # Retrieve the page for each CITY\n",
    "    def start_requests(self):\n",
    "        checkin = \"2023-07-11\"\n",
    "        checkout = \"2023-07-16\"\n",
    "        # warning: url from GoogleChrome (doesnt work for Edge)\n",
    "        # city_url_template = 'https://www.booking.com/searchresults.fr.html?ss={}&label=gen173nr-1BCAEoggI46AdIM1gEaE2IAQGYAQm4ARfIAQzYAQHoAQGIAgGoAgO4AsHWlqIGwAIB0gIkZTU5NjhmNWEtMTk1Yi00OGEyLThmNWYtYzU2ZDNmMDU5MWZm2AIF4AIB&sid=4044a316139dbb224d418fbb7843881c&aid=304142&lang=fr&sb=1&src_elem=sb&src=index&dest_type=city&group_adults=2&no_rooms=1&group_children=0&sb_travel_purpose=leisure'\n",
    "        city_url_template = 'https://www.booking.com/searchresults.fr.html?ss={}&label=gen173nr-1BCAEoggI46AdIM1gEaE2IAQGYAQm4ARfIAQzYAQHoAQGIAgGoAgO4AsHWlqIGwAIB0gIkZTU5NjhmNWEtMTk1Yi00OGEyLThmNWYtYzU2ZDNmMDU5MWZm2AIF4AIB&sid=4044a316139dbb224d418fbb7843881c&aid=304142&lang=fr&sb=1&src_elem=sb&src=index&dest_type=city&checkin={}&checkout={}&group_adults=2&no_rooms=1&group_children=0&sb_travel_purpose=leisure'\n",
    "        headers = {'User-Agent': 'Mozilla/5.0 (Windows NT 10.0; Win64; x64) AppleWebKit/537.36 (KHTML, like Gecko) Chrome/58.0.3029.110 Safari/537.36'}\n",
    "        \n",
    "        for city in self.best_cities:\n",
    "            city_url = city_url_template.format(city,checkin,checkout)\n",
    "            yield scrapy.Request(city_url, headers=headers, callback=self.parse_hotels_with_urls, meta={'city':city, 'city_url': city_url})\n",
    "    \n",
    "    # Retrieve every HOTEL URL for a city\n",
    "    def parse_hotels_with_urls(self, response):\n",
    "        # Box corresponding to the hotel\n",
    "        hotels = response.xpath(\"//h3[@class='a4225678b2']\")\n",
    "        # Inside this box, retrieve name and url\n",
    "        for hotel in hotels:\n",
    "            hotel_name = hotel.xpath(\".//div[contains(@class, 'fcab3ed991 a23c043802')]/text()\").get()\n",
    "            hotel_url = hotel.xpath(\".//@href\").get()\n",
    "            yield response.follow(hotel_url, callback=self.parse_hotels_details, meta={'city': response.meta['city'], 'hotel_name': hotel_name, 'hotel_url': hotel_url})\n",
    "    \n",
    "        # Loop over pages to retrive more hotels (offset set to 25 hotels max per page)\n",
    "        hotel_ou_commencer = 25\n",
    "        while hotel_ou_commencer < 1000:\n",
    "            city_next_page_url = response.meta['city_url'] + f\"&offset={hotel_ou_commencer}\"\n",
    "            yield response.follow(city_next_page_url, callback=self.parse_hotels_with_urls, meta=response.meta)\n",
    "            hotel_ou_commencer += 25\n",
    "\n",
    "    # Retrieve HOTEL INFORMATION from each hotel page\n",
    "    def parse_hotels_details(self, response):\n",
    "         yield {\n",
    "              'city':response.meta['city'],\n",
    "              'hotel_name': response.meta['hotel_name'],\n",
    "              'hotel_url': response.meta['hotel_url'],\n",
    "              'hotel_GPS': response.xpath(\"//@data-atlas-latlng\").get(),\n",
    "              'hotel_score': response.xpath(\"//div[@class='b5cd09854e d10a6220b4']/text()\").get(),\n",
    "              'hotel_voters':response.xpath(\"//div[@class='d8eab2cf7f c90c0a70d3 db63693c62']/text()\").get(),\n",
    "              'hotel_description': Selector(response).css('div.hp_desc_main_content').xpath('string()').get().strip()\n",
    "\n",
    "         }\n",
    "         \n",
    "filename = \"booking_scrap.json\"\n",
    "\n",
    "# If file already exists, remove it before\n",
    "if filename in os.listdir('scrap_results/'):\n",
    "        os.remove('scrap_results/' + filename)\n",
    "\n",
    "process = CrawlerProcess(settings = {\n",
    "    'USER_AGENT': 'Chrome/97.0',\n",
    "    'LOG_LEVEL': logging.INFO,\n",
    "    \"FEEDS\": {\n",
    "        'scrap_results/' + filename : {\"format\": \"json\"},\n",
    "    }\n",
    "})\n",
    "\n",
    "process.crawl(booking_spider)\n",
    "process.start()"
   ]
  },
  {
   "cell_type": "markdown",
   "metadata": {},
   "source": [
    "# Send to s3"
   ]
  },
  {
   "cell_type": "code",
   "execution_count": 5,
   "metadata": {},
   "outputs": [
    {
     "data": {
      "text/html": [
       "<div>\n",
       "<style scoped>\n",
       "    .dataframe tbody tr th:only-of-type {\n",
       "        vertical-align: middle;\n",
       "    }\n",
       "\n",
       "    .dataframe tbody tr th {\n",
       "        vertical-align: top;\n",
       "    }\n",
       "\n",
       "    .dataframe thead th {\n",
       "        text-align: right;\n",
       "    }\n",
       "</style>\n",
       "<table border=\"1\" class=\"dataframe\">\n",
       "  <thead>\n",
       "    <tr style=\"text-align: right;\">\n",
       "      <th></th>\n",
       "      <th>city</th>\n",
       "      <th>hotel_name</th>\n",
       "      <th>hotel_url</th>\n",
       "      <th>hotel_GPS</th>\n",
       "      <th>hotel_score</th>\n",
       "      <th>hotel_voters</th>\n",
       "      <th>hotel_description</th>\n",
       "      <th>feels_like</th>\n",
       "      <th>humidity</th>\n",
       "      <th>wind_speed</th>\n",
       "      <th>city_id</th>\n",
       "      <th>main_weather</th>\n",
       "      <th>main_weather_scores</th>\n",
       "      <th>final_score</th>\n",
       "      <th>lon</th>\n",
       "      <th>lat</th>\n",
       "    </tr>\n",
       "  </thead>\n",
       "  <tbody>\n",
       "    <tr>\n",
       "      <th>0</th>\n",
       "      <td>Bayonne</td>\n",
       "      <td>Baiona Sainte Cath -1-Bat-</td>\n",
       "      <td>https://www.booking.com/hotel/fr/baiona-sainte...</td>\n",
       "      <td>43.49503363,-1.46775819</td>\n",
       "      <td>5,6</td>\n",
       "      <td>18 expériences vécues</td>\n",
       "      <td>Doté d'une connexion Wi-Fi gratuite, le Baiona...</td>\n",
       "      <td>21.218</td>\n",
       "      <td>77.925</td>\n",
       "      <td>2.4935</td>\n",
       "      <td>7.0</td>\n",
       "      <td>clear sky</td>\n",
       "      <td>5.0</td>\n",
       "      <td>624.0</td>\n",
       "      <td>-1.473666</td>\n",
       "      <td>43.494514</td>\n",
       "    </tr>\n",
       "    <tr>\n",
       "      <th>1</th>\n",
       "      <td>Bayonne</td>\n",
       "      <td>Péniche DJEBELLE</td>\n",
       "      <td>https://www.booking.com/hotel/fr/peniche-djebe...</td>\n",
       "      <td>43.49633500,-1.47374900</td>\n",
       "      <td>9,5</td>\n",
       "      <td>227 expériences vécues</td>\n",
       "      <td>Dotée d'un service de prêt de vélos, d'un salo...</td>\n",
       "      <td>21.218</td>\n",
       "      <td>77.925</td>\n",
       "      <td>2.4935</td>\n",
       "      <td>7.0</td>\n",
       "      <td>clear sky</td>\n",
       "      <td>5.0</td>\n",
       "      <td>624.0</td>\n",
       "      <td>-1.473666</td>\n",
       "      <td>43.494514</td>\n",
       "    </tr>\n",
       "    <tr>\n",
       "      <th>2</th>\n",
       "      <td>Bayonne</td>\n",
       "      <td>115 sqm triplex with panoramic terrace close t...</td>\n",
       "      <td>https://www.booking.com/hotel/fr/large-apartme...</td>\n",
       "      <td>43.50806460,-1.48278620</td>\n",
       "      <td>7,0</td>\n",
       "      <td>1 expérience vécue</td>\n",
       "      <td>Situé à Bayonne, à 25 km de la gare de Saint-J...</td>\n",
       "      <td>21.218</td>\n",
       "      <td>77.925</td>\n",
       "      <td>2.4935</td>\n",
       "      <td>7.0</td>\n",
       "      <td>clear sky</td>\n",
       "      <td>5.0</td>\n",
       "      <td>624.0</td>\n",
       "      <td>-1.473666</td>\n",
       "      <td>43.494514</td>\n",
       "    </tr>\n",
       "    <tr>\n",
       "      <th>3</th>\n",
       "      <td>Bayonne</td>\n",
       "      <td>Villa AJNA Bayonne</td>\n",
       "      <td>https://www.booking.com/hotel/fr/chambre-chino...</td>\n",
       "      <td>43.48392100,-1.49821200</td>\n",
       "      <td>8,8</td>\n",
       "      <td>75 expériences vécues</td>\n",
       "      <td>Située à Bayonne, la Villa AJNA Bayonne propos...</td>\n",
       "      <td>21.218</td>\n",
       "      <td>77.925</td>\n",
       "      <td>2.4935</td>\n",
       "      <td>7.0</td>\n",
       "      <td>clear sky</td>\n",
       "      <td>5.0</td>\n",
       "      <td>624.0</td>\n",
       "      <td>-1.473666</td>\n",
       "      <td>43.494514</td>\n",
       "    </tr>\n",
       "    <tr>\n",
       "      <th>4</th>\n",
       "      <td>Bayonne</td>\n",
       "      <td>KATALINA LAU T3 au coeur de Saint Esprit</td>\n",
       "      <td>https://www.booking.com/hotel/fr/katalina-lau-...</td>\n",
       "      <td>43.49549431,-1.46897977</td>\n",
       "      <td>4,3</td>\n",
       "      <td>8 expériences vécues</td>\n",
       "      <td>Le KATALINA LAU T3 au coeur de Saint Esprit es...</td>\n",
       "      <td>21.218</td>\n",
       "      <td>77.925</td>\n",
       "      <td>2.4935</td>\n",
       "      <td>7.0</td>\n",
       "      <td>clear sky</td>\n",
       "      <td>5.0</td>\n",
       "      <td>624.0</td>\n",
       "      <td>-1.473666</td>\n",
       "      <td>43.494514</td>\n",
       "    </tr>\n",
       "  </tbody>\n",
       "</table>\n",
       "</div>"
      ],
      "text/plain": [
       "      city                                         hotel_name  \\\n",
       "0  Bayonne                         Baiona Sainte Cath -1-Bat-   \n",
       "1  Bayonne                                   Péniche DJEBELLE   \n",
       "2  Bayonne  115 sqm triplex with panoramic terrace close t...   \n",
       "3  Bayonne                                 Villa AJNA Bayonne   \n",
       "4  Bayonne           KATALINA LAU T3 au coeur de Saint Esprit   \n",
       "\n",
       "                                           hotel_url                hotel_GPS  \\\n",
       "0  https://www.booking.com/hotel/fr/baiona-sainte...  43.49503363,-1.46775819   \n",
       "1  https://www.booking.com/hotel/fr/peniche-djebe...  43.49633500,-1.47374900   \n",
       "2  https://www.booking.com/hotel/fr/large-apartme...  43.50806460,-1.48278620   \n",
       "3  https://www.booking.com/hotel/fr/chambre-chino...  43.48392100,-1.49821200   \n",
       "4  https://www.booking.com/hotel/fr/katalina-lau-...  43.49549431,-1.46897977   \n",
       "\n",
       "  hotel_score            hotel_voters  \\\n",
       "0         5,6   18 expériences vécues   \n",
       "1         9,5  227 expériences vécues   \n",
       "2         7,0      1 expérience vécue   \n",
       "3         8,8   75 expériences vécues   \n",
       "4         4,3    8 expériences vécues   \n",
       "\n",
       "                                   hotel_description  feels_like  humidity  \\\n",
       "0  Doté d'une connexion Wi-Fi gratuite, le Baiona...      21.218    77.925   \n",
       "1  Dotée d'un service de prêt de vélos, d'un salo...      21.218    77.925   \n",
       "2  Situé à Bayonne, à 25 km de la gare de Saint-J...      21.218    77.925   \n",
       "3  Située à Bayonne, la Villa AJNA Bayonne propos...      21.218    77.925   \n",
       "4  Le KATALINA LAU T3 au coeur de Saint Esprit es...      21.218    77.925   \n",
       "\n",
       "   wind_speed  city_id main_weather  main_weather_scores  final_score  \\\n",
       "0      2.4935      7.0    clear sky                  5.0        624.0   \n",
       "1      2.4935      7.0    clear sky                  5.0        624.0   \n",
       "2      2.4935      7.0    clear sky                  5.0        624.0   \n",
       "3      2.4935      7.0    clear sky                  5.0        624.0   \n",
       "4      2.4935      7.0    clear sky                  5.0        624.0   \n",
       "\n",
       "        lon        lat  \n",
       "0 -1.473666  43.494514  \n",
       "1 -1.473666  43.494514  \n",
       "2 -1.473666  43.494514  \n",
       "3 -1.473666  43.494514  \n",
       "4 -1.473666  43.494514  "
      ]
     },
     "execution_count": 5,
     "metadata": {},
     "output_type": "execute_result"
    }
   ],
   "source": [
    "# Merge API scraping of the weather (only the top5 cities) and hotels for those cities\n",
    "df_booking_scrap = pd.read_json('scrap_results/booking_scrap.json')\n",
    "df_top5cities_weather = pd.read_csv('scrap_results/forecast_weather_top5cities.csv')\n",
    "df_merged = pd.merge(df_booking_scrap, df_top5cities_weather, on='city', how='left')\n",
    "\n",
    "# Send to s3\n",
    "df_merged.to_csv('scrap_results/forecast_weather_top5cities_and_hotels.csv', index=False)\n",
    "df_merged.head()"
   ]
  },
  {
   "cell_type": "code",
   "execution_count": 6,
   "metadata": {},
   "outputs": [],
   "source": [
    "# Create an instance of boto3.Session that connects with my aws account\n",
    "session = boto3.Session(aws_access_key_id=ACCESS_KEY_ID, aws_secret_access_key=SECRET_ACCESS_KEY)\n",
    "\n",
    "# Create a variable s3 that connects my session to the s3 ressource\n",
    "s3 = session.resource(\"s3\")\n",
    "\n",
    "# Create a variable that will connect to my existing bucket bucket-getaround\n",
    "bucket_getaround = s3.Bucket(bucket_name) \n",
    "\n",
    "# Upload file to the s3 bucket\n",
    "bucket_getaround.upload_file(\"scrap_results/forecast_weather_top5cities_and_hotels.csv\",\"forecast_weather_top5cities_and_hotels.csv\")"
   ]
  },
  {
   "cell_type": "markdown",
   "metadata": {},
   "source": [
    "# ETL"
   ]
  },
  {
   "cell_type": "markdown",
   "metadata": {},
   "source": [
    "### Extract"
   ]
  },
  {
   "cell_type": "code",
   "execution_count": 7,
   "metadata": {},
   "outputs": [],
   "source": [
    "# Connect to my s3\n",
    "s3_client = boto3.client('s3' , aws_access_key_id=ACCESS_KEY_ID , aws_secret_access_key=SECRET_ACCESS_KEY)\n",
    "\n",
    "# Retrieve file from s3\n",
    "s3_file_path = 'forecast_weather_top5cities_and_hotels.csv'\n",
    "local_destination = 'data_from_s3/forecast_weather_top5cities_and_hotels.csv'\n",
    "s3_client.download_file(bucket_name, s3_file_path, local_destination)"
   ]
  },
  {
   "cell_type": "markdown",
   "metadata": {},
   "source": [
    "### Transform"
   ]
  },
  {
   "cell_type": "code",
   "execution_count": 8,
   "metadata": {},
   "outputs": [
    {
     "data": {
      "text/html": [
       "<div>\n",
       "<style scoped>\n",
       "    .dataframe tbody tr th:only-of-type {\n",
       "        vertical-align: middle;\n",
       "    }\n",
       "\n",
       "    .dataframe tbody tr th {\n",
       "        vertical-align: top;\n",
       "    }\n",
       "\n",
       "    .dataframe thead th {\n",
       "        text-align: right;\n",
       "    }\n",
       "</style>\n",
       "<table border=\"1\" class=\"dataframe\">\n",
       "  <thead>\n",
       "    <tr style=\"text-align: right;\">\n",
       "      <th></th>\n",
       "      <th>city</th>\n",
       "      <th>hotel_name</th>\n",
       "      <th>hotel_url</th>\n",
       "      <th>hotel_GPS</th>\n",
       "      <th>hotel_score</th>\n",
       "      <th>hotel_voters</th>\n",
       "      <th>hotel_description</th>\n",
       "      <th>feels_like</th>\n",
       "      <th>humidity</th>\n",
       "      <th>wind_speed</th>\n",
       "      <th>city_id</th>\n",
       "      <th>main_weather</th>\n",
       "      <th>main_weather_scores</th>\n",
       "      <th>final_score</th>\n",
       "      <th>lon</th>\n",
       "      <th>lat</th>\n",
       "    </tr>\n",
       "  </thead>\n",
       "  <tbody>\n",
       "    <tr>\n",
       "      <th>count</th>\n",
       "      <td>205</td>\n",
       "      <td>205</td>\n",
       "      <td>205</td>\n",
       "      <td>205</td>\n",
       "      <td>172</td>\n",
       "      <td>176</td>\n",
       "      <td>205</td>\n",
       "      <td>205.000000</td>\n",
       "      <td>205.000000</td>\n",
       "      <td>205.000000</td>\n",
       "      <td>205.000000</td>\n",
       "      <td>205</td>\n",
       "      <td>205.0</td>\n",
       "      <td>205.000000</td>\n",
       "      <td>205.000000</td>\n",
       "      <td>205.000000</td>\n",
       "    </tr>\n",
       "    <tr>\n",
       "      <th>unique</th>\n",
       "      <td>5</td>\n",
       "      <td>139</td>\n",
       "      <td>205</td>\n",
       "      <td>137</td>\n",
       "      <td>43</td>\n",
       "      <td>89</td>\n",
       "      <td>151</td>\n",
       "      <td>NaN</td>\n",
       "      <td>NaN</td>\n",
       "      <td>NaN</td>\n",
       "      <td>NaN</td>\n",
       "      <td>1</td>\n",
       "      <td>NaN</td>\n",
       "      <td>NaN</td>\n",
       "      <td>NaN</td>\n",
       "      <td>NaN</td>\n",
       "    </tr>\n",
       "    <tr>\n",
       "      <th>top</th>\n",
       "      <td>St Malo</td>\n",
       "      <td>Hotel Cote Basque</td>\n",
       "      <td>https://www.booking.com/hotel/fr/baiona-sainte...</td>\n",
       "      <td>43.49618306,-1.46960109</td>\n",
       "      <td>9,0</td>\n",
       "      <td>1 expérience vécue</td>\n",
       "      <td>L'hotelF1 Bayonne propose des hébergements à 7...</td>\n",
       "      <td>NaN</td>\n",
       "      <td>NaN</td>\n",
       "      <td>NaN</td>\n",
       "      <td>NaN</td>\n",
       "      <td>clear sky</td>\n",
       "      <td>NaN</td>\n",
       "      <td>NaN</td>\n",
       "      <td>NaN</td>\n",
       "      <td>NaN</td>\n",
       "    </tr>\n",
       "    <tr>\n",
       "      <th>freq</th>\n",
       "      <td>42</td>\n",
       "      <td>5</td>\n",
       "      <td>1</td>\n",
       "      <td>5</td>\n",
       "      <td>12</td>\n",
       "      <td>21</td>\n",
       "      <td>4</td>\n",
       "      <td>NaN</td>\n",
       "      <td>NaN</td>\n",
       "      <td>NaN</td>\n",
       "      <td>NaN</td>\n",
       "      <td>205</td>\n",
       "      <td>NaN</td>\n",
       "      <td>NaN</td>\n",
       "      <td>NaN</td>\n",
       "      <td>NaN</td>\n",
       "    </tr>\n",
       "    <tr>\n",
       "      <th>mean</th>\n",
       "      <td>NaN</td>\n",
       "      <td>NaN</td>\n",
       "      <td>NaN</td>\n",
       "      <td>NaN</td>\n",
       "      <td>NaN</td>\n",
       "      <td>NaN</td>\n",
       "      <td>NaN</td>\n",
       "      <td>22.629465</td>\n",
       "      <td>72.904512</td>\n",
       "      <td>3.559033</td>\n",
       "      <td>17.921951</td>\n",
       "      <td>NaN</td>\n",
       "      <td>5.0</td>\n",
       "      <td>620.931707</td>\n",
       "      <td>0.487466</td>\n",
       "      <td>44.346014</td>\n",
       "    </tr>\n",
       "    <tr>\n",
       "      <th>std</th>\n",
       "      <td>NaN</td>\n",
       "      <td>NaN</td>\n",
       "      <td>NaN</td>\n",
       "      <td>NaN</td>\n",
       "      <td>NaN</td>\n",
       "      <td>NaN</td>\n",
       "      <td>NaN</td>\n",
       "      <td>3.503871</td>\n",
       "      <td>5.105500</td>\n",
       "      <td>1.045719</td>\n",
       "      <td>9.848049</td>\n",
       "      <td>NaN</td>\n",
       "      <td>0.0</td>\n",
       "      <td>5.788360</td>\n",
       "      <td>2.715603</td>\n",
       "      <td>2.220766</td>\n",
       "    </tr>\n",
       "    <tr>\n",
       "      <th>min</th>\n",
       "      <td>NaN</td>\n",
       "      <td>NaN</td>\n",
       "      <td>NaN</td>\n",
       "      <td>NaN</td>\n",
       "      <td>NaN</td>\n",
       "      <td>NaN</td>\n",
       "      <td>NaN</td>\n",
       "      <td>17.814750</td>\n",
       "      <td>65.150000</td>\n",
       "      <td>2.493500</td>\n",
       "      <td>7.000000</td>\n",
       "      <td>NaN</td>\n",
       "      <td>5.0</td>\n",
       "      <td>610.000000</td>\n",
       "      <td>-2.026041</td>\n",
       "      <td>42.525050</td>\n",
       "    </tr>\n",
       "    <tr>\n",
       "      <th>25%</th>\n",
       "      <td>NaN</td>\n",
       "      <td>NaN</td>\n",
       "      <td>NaN</td>\n",
       "      <td>NaN</td>\n",
       "      <td>NaN</td>\n",
       "      <td>NaN</td>\n",
       "      <td>NaN</td>\n",
       "      <td>21.077750</td>\n",
       "      <td>68.850000</td>\n",
       "      <td>2.612250</td>\n",
       "      <td>9.000000</td>\n",
       "      <td>NaN</td>\n",
       "      <td>5.0</td>\n",
       "      <td>621.000000</td>\n",
       "      <td>-1.559278</td>\n",
       "      <td>43.452277</td>\n",
       "    </tr>\n",
       "    <tr>\n",
       "      <th>50%</th>\n",
       "      <td>NaN</td>\n",
       "      <td>NaN</td>\n",
       "      <td>NaN</td>\n",
       "      <td>NaN</td>\n",
       "      <td>NaN</td>\n",
       "      <td>NaN</td>\n",
       "      <td>NaN</td>\n",
       "      <td>21.218000</td>\n",
       "      <td>74.775000</td>\n",
       "      <td>3.511250</td>\n",
       "      <td>14.000000</td>\n",
       "      <td>NaN</td>\n",
       "      <td>5.0</td>\n",
       "      <td>624.000000</td>\n",
       "      <td>-1.473666</td>\n",
       "      <td>43.483252</td>\n",
       "    </tr>\n",
       "    <tr>\n",
       "      <th>75%</th>\n",
       "      <td>NaN</td>\n",
       "      <td>NaN</td>\n",
       "      <td>NaN</td>\n",
       "      <td>NaN</td>\n",
       "      <td>NaN</td>\n",
       "      <td>NaN</td>\n",
       "      <td>NaN</td>\n",
       "      <td>25.548250</td>\n",
       "      <td>77.900000</td>\n",
       "      <td>3.720000</td>\n",
       "      <td>29.000000</td>\n",
       "      <td>NaN</td>\n",
       "      <td>5.0</td>\n",
       "      <td>624.000000</td>\n",
       "      <td>3.083155</td>\n",
       "      <td>43.494514</td>\n",
       "    </tr>\n",
       "    <tr>\n",
       "      <th>max</th>\n",
       "      <td>NaN</td>\n",
       "      <td>NaN</td>\n",
       "      <td>NaN</td>\n",
       "      <td>NaN</td>\n",
       "      <td>NaN</td>\n",
       "      <td>NaN</td>\n",
       "      <td>NaN</td>\n",
       "      <td>27.575000</td>\n",
       "      <td>77.925000</td>\n",
       "      <td>5.384750</td>\n",
       "      <td>30.000000</td>\n",
       "      <td>NaN</td>\n",
       "      <td>5.0</td>\n",
       "      <td>626.000000</td>\n",
       "      <td>4.428717</td>\n",
       "      <td>48.649518</td>\n",
       "    </tr>\n",
       "  </tbody>\n",
       "</table>\n",
       "</div>"
      ],
      "text/plain": [
       "           city         hotel_name  \\\n",
       "count       205                205   \n",
       "unique        5                139   \n",
       "top     St Malo  Hotel Cote Basque   \n",
       "freq         42                  5   \n",
       "mean        NaN                NaN   \n",
       "std         NaN                NaN   \n",
       "min         NaN                NaN   \n",
       "25%         NaN                NaN   \n",
       "50%         NaN                NaN   \n",
       "75%         NaN                NaN   \n",
       "max         NaN                NaN   \n",
       "\n",
       "                                                hotel_url  \\\n",
       "count                                                 205   \n",
       "unique                                                205   \n",
       "top     https://www.booking.com/hotel/fr/baiona-sainte...   \n",
       "freq                                                    1   \n",
       "mean                                                  NaN   \n",
       "std                                                   NaN   \n",
       "min                                                   NaN   \n",
       "25%                                                   NaN   \n",
       "50%                                                   NaN   \n",
       "75%                                                   NaN   \n",
       "max                                                   NaN   \n",
       "\n",
       "                      hotel_GPS hotel_score        hotel_voters  \\\n",
       "count                       205         172                 176   \n",
       "unique                      137          43                  89   \n",
       "top     43.49618306,-1.46960109         9,0  1 expérience vécue   \n",
       "freq                          5          12                  21   \n",
       "mean                        NaN         NaN                 NaN   \n",
       "std                         NaN         NaN                 NaN   \n",
       "min                         NaN         NaN                 NaN   \n",
       "25%                         NaN         NaN                 NaN   \n",
       "50%                         NaN         NaN                 NaN   \n",
       "75%                         NaN         NaN                 NaN   \n",
       "max                         NaN         NaN                 NaN   \n",
       "\n",
       "                                        hotel_description  feels_like  \\\n",
       "count                                                 205  205.000000   \n",
       "unique                                                151         NaN   \n",
       "top     L'hotelF1 Bayonne propose des hébergements à 7...         NaN   \n",
       "freq                                                    4         NaN   \n",
       "mean                                                  NaN   22.629465   \n",
       "std                                                   NaN    3.503871   \n",
       "min                                                   NaN   17.814750   \n",
       "25%                                                   NaN   21.077750   \n",
       "50%                                                   NaN   21.218000   \n",
       "75%                                                   NaN   25.548250   \n",
       "max                                                   NaN   27.575000   \n",
       "\n",
       "          humidity  wind_speed     city_id main_weather  main_weather_scores  \\\n",
       "count   205.000000  205.000000  205.000000          205                205.0   \n",
       "unique         NaN         NaN         NaN            1                  NaN   \n",
       "top            NaN         NaN         NaN    clear sky                  NaN   \n",
       "freq           NaN         NaN         NaN          205                  NaN   \n",
       "mean     72.904512    3.559033   17.921951          NaN                  5.0   \n",
       "std       5.105500    1.045719    9.848049          NaN                  0.0   \n",
       "min      65.150000    2.493500    7.000000          NaN                  5.0   \n",
       "25%      68.850000    2.612250    9.000000          NaN                  5.0   \n",
       "50%      74.775000    3.511250   14.000000          NaN                  5.0   \n",
       "75%      77.900000    3.720000   29.000000          NaN                  5.0   \n",
       "max      77.925000    5.384750   30.000000          NaN                  5.0   \n",
       "\n",
       "        final_score         lon         lat  \n",
       "count    205.000000  205.000000  205.000000  \n",
       "unique          NaN         NaN         NaN  \n",
       "top             NaN         NaN         NaN  \n",
       "freq            NaN         NaN         NaN  \n",
       "mean     620.931707    0.487466   44.346014  \n",
       "std        5.788360    2.715603    2.220766  \n",
       "min      610.000000   -2.026041   42.525050  \n",
       "25%      621.000000   -1.559278   43.452277  \n",
       "50%      624.000000   -1.473666   43.483252  \n",
       "75%      624.000000    3.083155   43.494514  \n",
       "max      626.000000    4.428717   48.649518  "
      ]
     },
     "execution_count": 8,
     "metadata": {},
     "output_type": "execute_result"
    }
   ],
   "source": [
    "# Clean data (drop lines etc)\n",
    "df_from_s3 = pd.read_csv(local_destination)\n",
    "df_from_s3.describe(include='all')"
   ]
  },
  {
   "cell_type": "code",
   "execution_count": 9,
   "metadata": {},
   "outputs": [
    {
     "name": "stdout",
     "output_type": "stream",
     "text": [
      "<class 'pandas.core.frame.DataFrame'>\n",
      "Int64Index: 170 entries, 0 to 204\n",
      "Data columns (total 16 columns):\n",
      " #   Column               Non-Null Count  Dtype  \n",
      "---  ------               --------------  -----  \n",
      " 0   city                 170 non-null    object \n",
      " 1   hotel_name           170 non-null    object \n",
      " 2   hotel_url            170 non-null    object \n",
      " 3   hotel_GPS            170 non-null    object \n",
      " 4   hotel_score          170 non-null    object \n",
      " 5   hotel_voters         170 non-null    object \n",
      " 6   hotel_description    170 non-null    object \n",
      " 7   feels_like           170 non-null    float64\n",
      " 8   humidity             170 non-null    float64\n",
      " 9   wind_speed           170 non-null    float64\n",
      " 10  city_id              170 non-null    float64\n",
      " 11  main_weather         170 non-null    object \n",
      " 12  main_weather_scores  170 non-null    float64\n",
      " 13  final_score          170 non-null    float64\n",
      " 14  lon                  170 non-null    float64\n",
      " 15  lat                  170 non-null    float64\n",
      "dtypes: float64(8), object(8)\n",
      "memory usage: 22.6+ KB\n"
     ]
    }
   ],
   "source": [
    "# Remove lines with missing info\n",
    "df_from_s3=df_from_s3.dropna()\n",
    "df_from_s3.info()\n",
    "# Convert values in hotel_score and hotel_voters in float and integer\n",
    "df_from_s3['hotel_score'] = df_from_s3['hotel_score'].str.replace(',', '.').astype(float)\n",
    "df_from_s3['hotel_voters'] = df_from_s3['hotel_voters'].apply(lambda x: x.split()[0]).astype(int)\n",
    "# Divide hotel_GPS into 2 columns, convert to float\n",
    "df_from_s3[['hotel_lat', 'hotel_lon']] = df_from_s3['hotel_GPS'].str.split(',', expand=True).astype(float)"
   ]
  },
  {
   "cell_type": "code",
   "execution_count": 10,
   "metadata": {},
   "outputs": [
    {
     "name": "stdout",
     "output_type": "stream",
     "text": [
      "We notice that hotel_score of 10 has sometimes only 1 or 2 voters, which might not be sufficient for judgement.\n",
      "Number of hotels:  170\n",
      "Number of hotels with more than 5 voters:  98\n"
     ]
    }
   ],
   "source": [
    "df_from_s3.sort_values(by='hotel_score',ascending=False)\n",
    "print(\"We notice that hotel_score of 10 has sometimes only 1 or 2 voters, which might not be sufficient for judgement.\")\n",
    "print(\"Number of hotels: \",len(df_from_s3))\n",
    "to_keep = (df_from_s3['hotel_voters'] >= 5)\n",
    "df_transformed = df_from_s3.loc[to_keep]\n",
    "print(\"Number of hotels with more than 5 voters: \",len(df_transformed))"
   ]
  },
  {
   "cell_type": "code",
   "execution_count": 11,
   "metadata": {},
   "outputs": [
    {
     "data": {
      "text/plain": [
       "Index(['city', 'hotel_name', 'hotel_url', 'hotel_GPS', 'hotel_score',\n",
       "       'hotel_voters', 'hotel_description', 'feels_like', 'humidity',\n",
       "       'wind_speed', 'city_id', 'main_weather', 'main_weather_scores',\n",
       "       'final_score', 'lon', 'lat', 'hotel_lat', 'hotel_lon'],\n",
       "      dtype='object')"
      ]
     },
     "execution_count": 11,
     "metadata": {},
     "output_type": "execute_result"
    }
   ],
   "source": [
    "df_transformed.columns"
   ]
  },
  {
   "cell_type": "code",
   "execution_count": 12,
   "metadata": {},
   "outputs": [],
   "source": [
    "# Define how should look the final table for managers\n",
    "\n",
    "# Let's instanciate a declarative base to be able to use our python class\n",
    "Base = declarative_base()\n",
    "\n",
    "class Scraping(Base):\n",
    "    # d'abord on doit donner un nom à notre table (obligé d'écrire tablename comme ca)\n",
    "    __tablename__ = \"Hotels\"\n",
    "\n",
    "    # Each parameter corresponds to a column in our DB table\n",
    "    id = Column(Integer, primary_key=True, autoincrement=True)\n",
    "    city = Column(String)\n",
    "    hotel_name = Column(String)\n",
    "    hotel_url = Column(String)\n",
    "    hotel_score = Column(Float)\n",
    "    hotel_voters = Column(Integer)\n",
    "    hotel_description = Column(String)\n",
    "    feels_like = Column(Float)\n",
    "    humidity = Column(Float)\n",
    "    wind_speed = Column(Float)\n",
    "    city_id = Column(Float)\n",
    "    main_weather = Column(String)\n",
    "    main_weather_scores = Column(Float)\n",
    "    final_score = Column(Float)\n",
    "    lon = Column(Float)\n",
    "    lat = Column(Float)\n",
    "    hotel_lat = Column(Float)\n",
    "    hotel_lon = Column(Float)\n",
    "\n",
    "    def __repr__(self):\n",
    "    # obligé de l'écrire comme ca exactement\n",
    "        # return \"<User(name='{}', fullname='{}', nickname='{}')>\".format(self.name, self.fullname, self.nickname)\n",
    "        columns = [column.name for column in Scraping.__table__.columns]\n",
    "        values = [getattr(self, column) for column in columns]\n",
    "        values_str = ', '.join([f'{column}={value}' for column, value in zip(columns, values)])\n",
    "        return f\"<Scraping({values_str})>\""
   ]
  },
  {
   "cell_type": "markdown",
   "metadata": {},
   "source": [
    "### Load"
   ]
  },
  {
   "cell_type": "code",
   "execution_count": 13,
   "metadata": {},
   "outputs": [],
   "source": [
    "# Create a SQLAlchemy engine\n",
    "engine = create_engine(f\"postgresql+psycopg2://{db_user}:{db_pass}@{db_host}:{db_port}/{db_name}\")"
   ]
  },
  {
   "cell_type": "code",
   "execution_count": 14,
   "metadata": {},
   "outputs": [],
   "source": [
    "Base.metadata.create_all(engine)\n",
    "# Creates the database schema based on our SQLAlchemy model definition (so the Base instance with the data \n",
    "# associated, like the table Hotels)\n",
    "\n",
    "# In PGadmin, refresh then go to: project-getaround-db/Databases/postgres/Schema/public/Tables/Hotels\n",
    "# Command QUERY TOOL to code in SQL"
   ]
  },
  {
   "cell_type": "code",
   "execution_count": 15,
   "metadata": {},
   "outputs": [
    {
     "data": {
      "text/plain": [
       "98"
      ]
     },
     "execution_count": 15,
     "metadata": {},
     "output_type": "execute_result"
    }
   ],
   "source": [
    "# Add all the data from the dataset\n",
    "df_transformed.to_sql(\"Hotels\", engine, if_exists=\"replace\", index=False)"
   ]
  },
  {
   "cell_type": "markdown",
   "metadata": {},
   "source": [
    "# Pick up best hotels"
   ]
  },
  {
   "cell_type": "code",
   "execution_count": 16,
   "metadata": {},
   "outputs": [],
   "source": [
    "# Imagine now we are someone else from the company, querying the created SQL database to find out what are\n",
    "# 20 best hotels for a 5 days trip in one of the 5top cities.\n",
    "\n",
    "# The person would first create a new engine and a new session\n",
    "engine = create_engine(f\"postgresql+psycopg2://{db_user}:{db_pass}@{db_host}:{db_port}/{db_name}\")\n",
    "Session = sessionmaker(bind=engine)\n",
    "session = Session()"
   ]
  },
  {
   "cell_type": "code",
   "execution_count": 17,
   "metadata": {},
   "outputs": [
    {
     "data": {
      "text/html": [
       "<div>\n",
       "<style scoped>\n",
       "    .dataframe tbody tr th:only-of-type {\n",
       "        vertical-align: middle;\n",
       "    }\n",
       "\n",
       "    .dataframe tbody tr th {\n",
       "        vertical-align: top;\n",
       "    }\n",
       "\n",
       "    .dataframe thead th {\n",
       "        text-align: right;\n",
       "    }\n",
       "</style>\n",
       "<table border=\"1\" class=\"dataframe\">\n",
       "  <thead>\n",
       "    <tr style=\"text-align: right;\">\n",
       "      <th></th>\n",
       "      <th>city</th>\n",
       "      <th>num_hotel_names</th>\n",
       "    </tr>\n",
       "  </thead>\n",
       "  <tbody>\n",
       "    <tr>\n",
       "      <th>0</th>\n",
       "      <td>Bayonne</td>\n",
       "      <td>20</td>\n",
       "    </tr>\n",
       "    <tr>\n",
       "      <th>1</th>\n",
       "      <td>Biarritz</td>\n",
       "      <td>19</td>\n",
       "    </tr>\n",
       "    <tr>\n",
       "      <th>2</th>\n",
       "      <td>Collioure</td>\n",
       "      <td>11</td>\n",
       "    </tr>\n",
       "    <tr>\n",
       "      <th>3</th>\n",
       "      <td>Saintes Maries de la mer</td>\n",
       "      <td>31</td>\n",
       "    </tr>\n",
       "    <tr>\n",
       "      <th>4</th>\n",
       "      <td>St Malo</td>\n",
       "      <td>17</td>\n",
       "    </tr>\n",
       "  </tbody>\n",
       "</table>\n",
       "</div>"
      ],
      "text/plain": [
       "                       city  num_hotel_names\n",
       "0                   Bayonne               20\n",
       "1                  Biarritz               19\n",
       "2                 Collioure               11\n",
       "3  Saintes Maries de la mer               31\n",
       "4                   St Malo               17"
      ]
     },
     "metadata": {},
     "output_type": "display_data"
    },
    {
     "name": "stdout",
     "output_type": "stream",
     "text": [
      "There are quite similar number of hotels for each city.\n"
     ]
    }
   ],
   "source": [
    "# Do we have comparable number of hotels for the 5 cities ?\n",
    "\n",
    "query = \"\"\"\n",
    "SELECT city, COUNT(DISTINCT hotel_name) AS num_hotel_names\n",
    "FROM public.\"Hotels\"\n",
    "GROUP BY city\n",
    "\"\"\"\n",
    "\n",
    "hotels_per_city = pd.read_sql(query, engine)\n",
    "display(hotels_per_city)\n",
    "\n",
    "print(\"There are quite similar number of hotels for each city.\")"
   ]
  },
  {
   "cell_type": "code",
   "execution_count": 18,
   "metadata": {},
   "outputs": [
    {
     "data": {
      "text/html": [
       "<div>\n",
       "<style scoped>\n",
       "    .dataframe tbody tr th:only-of-type {\n",
       "        vertical-align: middle;\n",
       "    }\n",
       "\n",
       "    .dataframe tbody tr th {\n",
       "        vertical-align: top;\n",
       "    }\n",
       "\n",
       "    .dataframe thead th {\n",
       "        text-align: right;\n",
       "    }\n",
       "</style>\n",
       "<table border=\"1\" class=\"dataframe\">\n",
       "  <thead>\n",
       "    <tr style=\"text-align: right;\">\n",
       "      <th></th>\n",
       "      <th>city</th>\n",
       "      <th>hotel_name</th>\n",
       "      <th>hotel_score</th>\n",
       "      <th>hotel_voters</th>\n",
       "      <th>hotel_lat</th>\n",
       "      <th>hotel_lon</th>\n",
       "    </tr>\n",
       "  </thead>\n",
       "  <tbody>\n",
       "    <tr>\n",
       "      <th>0</th>\n",
       "      <td>Saintes Maries de la mer</td>\n",
       "      <td>Maison Diderot</td>\n",
       "      <td>9.6</td>\n",
       "      <td>5</td>\n",
       "      <td>43.567637</td>\n",
       "      <td>4.192471</td>\n",
       "    </tr>\n",
       "    <tr>\n",
       "      <th>1</th>\n",
       "      <td>Saintes Maries de la mer</td>\n",
       "      <td>Péniche DJEBELLE</td>\n",
       "      <td>9.5</td>\n",
       "      <td>227</td>\n",
       "      <td>43.496335</td>\n",
       "      <td>-1.473749</td>\n",
       "    </tr>\n",
       "    <tr>\n",
       "      <th>2</th>\n",
       "      <td>Bayonne</td>\n",
       "      <td>Péniche DJEBELLE</td>\n",
       "      <td>9.5</td>\n",
       "      <td>227</td>\n",
       "      <td>43.496335</td>\n",
       "      <td>-1.473749</td>\n",
       "    </tr>\n",
       "    <tr>\n",
       "      <th>3</th>\n",
       "      <td>Saintes Maries de la mer</td>\n",
       "      <td>Appartements 3 étoiles terrasse ou patio intra...</td>\n",
       "      <td>9.4</td>\n",
       "      <td>37</td>\n",
       "      <td>43.565358</td>\n",
       "      <td>4.192750</td>\n",
       "    </tr>\n",
       "    <tr>\n",
       "      <th>4</th>\n",
       "      <td>St Malo</td>\n",
       "      <td>Villa Marlotte by Cocoonr - La Belle de Dinard</td>\n",
       "      <td>9.4</td>\n",
       "      <td>8</td>\n",
       "      <td>48.623214</td>\n",
       "      <td>-2.048115</td>\n",
       "    </tr>\n",
       "    <tr>\n",
       "      <th>5</th>\n",
       "      <td>Biarritz</td>\n",
       "      <td>Villa la Renaissance</td>\n",
       "      <td>9.2</td>\n",
       "      <td>337</td>\n",
       "      <td>43.482321</td>\n",
       "      <td>-1.468164</td>\n",
       "    </tr>\n",
       "    <tr>\n",
       "      <th>6</th>\n",
       "      <td>Bayonne</td>\n",
       "      <td>Villa la Renaissance</td>\n",
       "      <td>9.2</td>\n",
       "      <td>337</td>\n",
       "      <td>43.482321</td>\n",
       "      <td>-1.468164</td>\n",
       "    </tr>\n",
       "    <tr>\n",
       "      <th>7</th>\n",
       "      <td>Saintes Maries de la mer</td>\n",
       "      <td>Pumperhouse</td>\n",
       "      <td>9.1</td>\n",
       "      <td>12</td>\n",
       "      <td>43.642877</td>\n",
       "      <td>4.434104</td>\n",
       "    </tr>\n",
       "    <tr>\n",
       "      <th>8</th>\n",
       "      <td>Saintes Maries de la mer</td>\n",
       "      <td>Lodge Sainte Helene</td>\n",
       "      <td>9.1</td>\n",
       "      <td>121</td>\n",
       "      <td>43.465756</td>\n",
       "      <td>4.413934</td>\n",
       "    </tr>\n",
       "    <tr>\n",
       "      <th>9</th>\n",
       "      <td>Saintes Maries de la mer</td>\n",
       "      <td>Mas le Sauvageon</td>\n",
       "      <td>9.1</td>\n",
       "      <td>219</td>\n",
       "      <td>43.483248</td>\n",
       "      <td>4.390455</td>\n",
       "    </tr>\n",
       "    <tr>\n",
       "      <th>10</th>\n",
       "      <td>Saintes Maries de la mer</td>\n",
       "      <td>La Villa Mazarin</td>\n",
       "      <td>9.1</td>\n",
       "      <td>762</td>\n",
       "      <td>43.564987</td>\n",
       "      <td>4.191752</td>\n",
       "    </tr>\n",
       "    <tr>\n",
       "      <th>11</th>\n",
       "      <td>Biarritz</td>\n",
       "      <td>Hotel Saint Julien</td>\n",
       "      <td>9.1</td>\n",
       "      <td>439</td>\n",
       "      <td>43.479139</td>\n",
       "      <td>-1.562275</td>\n",
       "    </tr>\n",
       "    <tr>\n",
       "      <th>12</th>\n",
       "      <td>St Malo</td>\n",
       "      <td>Apparts'hôtel l'Europe - centre gare-</td>\n",
       "      <td>9.0</td>\n",
       "      <td>176</td>\n",
       "      <td>48.647882</td>\n",
       "      <td>-2.008569</td>\n",
       "    </tr>\n",
       "    <tr>\n",
       "      <th>13</th>\n",
       "      <td>St Malo</td>\n",
       "      <td>Duplex avec vue mer extraordiniare - LIK APPARTS</td>\n",
       "      <td>9.0</td>\n",
       "      <td>13</td>\n",
       "      <td>48.663814</td>\n",
       "      <td>-1.988003</td>\n",
       "    </tr>\n",
       "    <tr>\n",
       "      <th>14</th>\n",
       "      <td>St Malo</td>\n",
       "      <td>Résidence Services Seniors DOMITYS - LA BELLE ...</td>\n",
       "      <td>9.0</td>\n",
       "      <td>26</td>\n",
       "      <td>48.630594</td>\n",
       "      <td>-2.063174</td>\n",
       "    </tr>\n",
       "    <tr>\n",
       "      <th>15</th>\n",
       "      <td>Saintes Maries de la mer</td>\n",
       "      <td>Le Mas de Peaudure au coeur de la Camargue</td>\n",
       "      <td>9.0</td>\n",
       "      <td>8</td>\n",
       "      <td>43.469608</td>\n",
       "      <td>4.705528</td>\n",
       "    </tr>\n",
       "    <tr>\n",
       "      <th>16</th>\n",
       "      <td>Saintes Maries de la mer</td>\n",
       "      <td>Nouveau! Magnifique appartement climatisé</td>\n",
       "      <td>9.0</td>\n",
       "      <td>10</td>\n",
       "      <td>43.565694</td>\n",
       "      <td>4.191511</td>\n",
       "    </tr>\n",
       "    <tr>\n",
       "      <th>17</th>\n",
       "      <td>Saintes Maries de la mer</td>\n",
       "      <td>Appart lumineux historique de Bayonne Saint-Es...</td>\n",
       "      <td>9.0</td>\n",
       "      <td>11</td>\n",
       "      <td>43.495048</td>\n",
       "      <td>-1.469186</td>\n",
       "    </tr>\n",
       "    <tr>\n",
       "      <th>18</th>\n",
       "      <td>Collioure</td>\n",
       "      <td>Appart lumineux historique de Bayonne Saint-Es...</td>\n",
       "      <td>9.0</td>\n",
       "      <td>11</td>\n",
       "      <td>43.495048</td>\n",
       "      <td>-1.469186</td>\n",
       "    </tr>\n",
       "    <tr>\n",
       "      <th>19</th>\n",
       "      <td>Bayonne</td>\n",
       "      <td>Appart lumineux historique de Bayonne Saint-Es...</td>\n",
       "      <td>9.0</td>\n",
       "      <td>11</td>\n",
       "      <td>43.495048</td>\n",
       "      <td>-1.469186</td>\n",
       "    </tr>\n",
       "  </tbody>\n",
       "</table>\n",
       "</div>"
      ],
      "text/plain": [
       "                        city  \\\n",
       "0   Saintes Maries de la mer   \n",
       "1   Saintes Maries de la mer   \n",
       "2                    Bayonne   \n",
       "3   Saintes Maries de la mer   \n",
       "4                    St Malo   \n",
       "5                   Biarritz   \n",
       "6                    Bayonne   \n",
       "7   Saintes Maries de la mer   \n",
       "8   Saintes Maries de la mer   \n",
       "9   Saintes Maries de la mer   \n",
       "10  Saintes Maries de la mer   \n",
       "11                  Biarritz   \n",
       "12                   St Malo   \n",
       "13                   St Malo   \n",
       "14                   St Malo   \n",
       "15  Saintes Maries de la mer   \n",
       "16  Saintes Maries de la mer   \n",
       "17  Saintes Maries de la mer   \n",
       "18                 Collioure   \n",
       "19                   Bayonne   \n",
       "\n",
       "                                           hotel_name  hotel_score  \\\n",
       "0                                      Maison Diderot          9.6   \n",
       "1                                    Péniche DJEBELLE          9.5   \n",
       "2                                    Péniche DJEBELLE          9.5   \n",
       "3   Appartements 3 étoiles terrasse ou patio intra...          9.4   \n",
       "4      Villa Marlotte by Cocoonr - La Belle de Dinard          9.4   \n",
       "5                                Villa la Renaissance          9.2   \n",
       "6                                Villa la Renaissance          9.2   \n",
       "7                                         Pumperhouse          9.1   \n",
       "8                                 Lodge Sainte Helene          9.1   \n",
       "9                                    Mas le Sauvageon          9.1   \n",
       "10                                   La Villa Mazarin          9.1   \n",
       "11                                 Hotel Saint Julien          9.1   \n",
       "12              Apparts'hôtel l'Europe - centre gare-          9.0   \n",
       "13   Duplex avec vue mer extraordiniare - LIK APPARTS          9.0   \n",
       "14  Résidence Services Seniors DOMITYS - LA BELLE ...          9.0   \n",
       "15         Le Mas de Peaudure au coeur de la Camargue          9.0   \n",
       "16          Nouveau! Magnifique appartement climatisé          9.0   \n",
       "17  Appart lumineux historique de Bayonne Saint-Es...          9.0   \n",
       "18  Appart lumineux historique de Bayonne Saint-Es...          9.0   \n",
       "19  Appart lumineux historique de Bayonne Saint-Es...          9.0   \n",
       "\n",
       "    hotel_voters  hotel_lat  hotel_lon  \n",
       "0              5  43.567637   4.192471  \n",
       "1            227  43.496335  -1.473749  \n",
       "2            227  43.496335  -1.473749  \n",
       "3             37  43.565358   4.192750  \n",
       "4              8  48.623214  -2.048115  \n",
       "5            337  43.482321  -1.468164  \n",
       "6            337  43.482321  -1.468164  \n",
       "7             12  43.642877   4.434104  \n",
       "8            121  43.465756   4.413934  \n",
       "9            219  43.483248   4.390455  \n",
       "10           762  43.564987   4.191752  \n",
       "11           439  43.479139  -1.562275  \n",
       "12           176  48.647882  -2.008569  \n",
       "13            13  48.663814  -1.988003  \n",
       "14            26  48.630594  -2.063174  \n",
       "15             8  43.469608   4.705528  \n",
       "16            10  43.565694   4.191511  \n",
       "17            11  43.495048  -1.469186  \n",
       "18            11  43.495048  -1.469186  \n",
       "19            11  43.495048  -1.469186  "
      ]
     },
     "metadata": {},
     "output_type": "display_data"
    }
   ],
   "source": [
    "# Find the 20 best hotels\n",
    "\n",
    "query = \"\"\"\n",
    "SELECT city, hotel_name, hotel_score, hotel_voters, hotel_lat, hotel_lon\n",
    "FROM public.\"Hotels\"\n",
    "ORDER BY hotel_score DESC\n",
    "LIMIT 20\n",
    "\"\"\"\n",
    "\n",
    "# We need quotes for hotel_GPS because of the capital letters creating problem\n",
    "\n",
    "top20_hotels = pd.read_sql(query, engine)\n",
    "display(top20_hotels)"
   ]
  },
  {
   "cell_type": "code",
   "execution_count": 19,
   "metadata": {},
   "outputs": [
    {
     "data": {
      "application/vnd.plotly.v1+json": {
       "config": {
        "plotlyServerURL": "https://plot.ly"
       },
       "data": [
        {
         "customdata": [
          [
           "Saintes Maries de la mer",
           9.6,
           5
          ],
          [
           "Saintes Maries de la mer",
           9.5,
           227
          ],
          [
           "Saintes Maries de la mer",
           9.4,
           37
          ],
          [
           "Saintes Maries de la mer",
           9.1,
           12
          ],
          [
           "Saintes Maries de la mer",
           9.1,
           121
          ],
          [
           "Saintes Maries de la mer",
           9.1,
           219
          ],
          [
           "Saintes Maries de la mer",
           9.1,
           762
          ],
          [
           "Saintes Maries de la mer",
           9,
           8
          ],
          [
           "Saintes Maries de la mer",
           9,
           10
          ],
          [
           "Saintes Maries de la mer",
           9,
           11
          ]
         ],
         "hovertemplate": "<b>%{hovertext}</b><br><br>city=%{customdata[0]}<br>hotel_score=%{customdata[1]}<br>hotel_lat=%{lat}<br>hotel_lon=%{lon}<br>hotel_voters=%{customdata[2]}<extra></extra>",
         "hovertext": [
          "Maison Diderot",
          "Péniche DJEBELLE",
          "Appartements 3 étoiles terrasse ou patio intra-muros",
          "Pumperhouse",
          "Lodge Sainte Helene",
          "Mas le Sauvageon",
          "La Villa Mazarin",
          "Le Mas de Peaudure au coeur de la Camargue",
          "Nouveau! Magnifique appartement climatisé",
          "Appart lumineux historique de Bayonne Saint-Esprit"
         ],
         "lat": [
          43.5676366,
          43.496335,
          43.5653584,
          43.64287749,
          43.46575556,
          43.48324784,
          43.56498662,
          43.469608,
          43.5656945,
          43.4950483
         ],
         "legendgroup": "Saintes Maries de la mer",
         "lon": [
          4.1924715,
          -1.473749,
          4.1927502,
          4.43410442,
          4.41393435,
          4.39045474,
          4.19175196,
          4.705528,
          4.19151132,
          -1.4691859
         ],
         "marker": {
          "color": "#636efa",
          "size": [
           9.6,
           9.5,
           9.4,
           9.1,
           9.1,
           9.1,
           9.1,
           9,
           9,
           9
          ],
          "sizemode": "area",
          "sizeref": 0.024
         },
         "mode": "markers",
         "name": "Saintes Maries de la mer",
         "showlegend": true,
         "subplot": "mapbox",
         "type": "scattermapbox"
        },
        {
         "customdata": [
          [
           "Bayonne",
           9.5,
           227
          ],
          [
           "Bayonne",
           9.2,
           337
          ],
          [
           "Bayonne",
           9,
           11
          ]
         ],
         "hovertemplate": "<b>%{hovertext}</b><br><br>city=%{customdata[0]}<br>hotel_score=%{customdata[1]}<br>hotel_lat=%{lat}<br>hotel_lon=%{lon}<br>hotel_voters=%{customdata[2]}<extra></extra>",
         "hovertext": [
          "Péniche DJEBELLE",
          "Villa la Renaissance",
          "Appart lumineux historique de Bayonne Saint-Esprit"
         ],
         "lat": [
          43.496335,
          43.482321,
          43.4950483
         ],
         "legendgroup": "Bayonne",
         "lon": [
          -1.473749,
          -1.468164,
          -1.4691859
         ],
         "marker": {
          "color": "#EF553B",
          "size": [
           9.5,
           9.2,
           9
          ],
          "sizemode": "area",
          "sizeref": 0.024
         },
         "mode": "markers",
         "name": "Bayonne",
         "showlegend": true,
         "subplot": "mapbox",
         "type": "scattermapbox"
        },
        {
         "customdata": [
          [
           "St Malo",
           9.4,
           8
          ],
          [
           "St Malo",
           9,
           176
          ],
          [
           "St Malo",
           9,
           13
          ],
          [
           "St Malo",
           9,
           26
          ]
         ],
         "hovertemplate": "<b>%{hovertext}</b><br><br>city=%{customdata[0]}<br>hotel_score=%{customdata[1]}<br>hotel_lat=%{lat}<br>hotel_lon=%{lon}<br>hotel_voters=%{customdata[2]}<extra></extra>",
         "hovertext": [
          "Villa Marlotte by Cocoonr - La Belle de Dinard",
          "Apparts'hôtel l'Europe - centre gare-",
          "Duplex avec vue mer extraordiniare - LIK APPARTS",
          "Résidence Services Seniors DOMITYS - LA BELLE EPOQUE"
         ],
         "lat": [
          48.623214,
          48.64788206,
          48.663814,
          48.63059393
         ],
         "legendgroup": "St Malo",
         "lon": [
          -2.0481153,
          -2.00856944,
          -1.988003,
          -2.06317432
         ],
         "marker": {
          "color": "#00cc96",
          "size": [
           9.4,
           9,
           9,
           9
          ],
          "sizemode": "area",
          "sizeref": 0.024
         },
         "mode": "markers",
         "name": "St Malo",
         "showlegend": true,
         "subplot": "mapbox",
         "type": "scattermapbox"
        },
        {
         "customdata": [
          [
           "Biarritz",
           9.2,
           337
          ],
          [
           "Biarritz",
           9.1,
           439
          ]
         ],
         "hovertemplate": "<b>%{hovertext}</b><br><br>city=%{customdata[0]}<br>hotel_score=%{customdata[1]}<br>hotel_lat=%{lat}<br>hotel_lon=%{lon}<br>hotel_voters=%{customdata[2]}<extra></extra>",
         "hovertext": [
          "Villa la Renaissance",
          "Hotel Saint Julien"
         ],
         "lat": [
          43.482321,
          43.479139
         ],
         "legendgroup": "Biarritz",
         "lon": [
          -1.468164,
          -1.56227544
         ],
         "marker": {
          "color": "#ab63fa",
          "size": [
           9.2,
           9.1
          ],
          "sizemode": "area",
          "sizeref": 0.024
         },
         "mode": "markers",
         "name": "Biarritz",
         "showlegend": true,
         "subplot": "mapbox",
         "type": "scattermapbox"
        },
        {
         "customdata": [
          [
           "Collioure",
           9,
           11
          ]
         ],
         "hovertemplate": "<b>%{hovertext}</b><br><br>city=%{customdata[0]}<br>hotel_score=%{customdata[1]}<br>hotel_lat=%{lat}<br>hotel_lon=%{lon}<br>hotel_voters=%{customdata[2]}<extra></extra>",
         "hovertext": [
          "Appart lumineux historique de Bayonne Saint-Esprit"
         ],
         "lat": [
          43.4950483
         ],
         "legendgroup": "Collioure",
         "lon": [
          -1.4691859
         ],
         "marker": {
          "color": "#FFA15A",
          "size": [
           9
          ],
          "sizemode": "area",
          "sizeref": 0.024
         },
         "mode": "markers",
         "name": "Collioure",
         "showlegend": true,
         "subplot": "mapbox",
         "type": "scattermapbox"
        }
       ],
       "layout": {
        "legend": {
         "itemsizing": "constant",
         "title": {
          "text": "city"
         },
         "tracegroupgap": 0
        },
        "mapbox": {
         "center": {
          "lat": 44.540613245,
          "lon": 0.7375492644999999
         },
         "domain": {
          "x": [
           0,
           1
          ],
          "y": [
           0,
           1
          ]
         },
         "style": "open-street-map",
         "zoom": 5
        },
        "template": {
         "data": {
          "bar": [
           {
            "error_x": {
             "color": "#2a3f5f"
            },
            "error_y": {
             "color": "#2a3f5f"
            },
            "marker": {
             "line": {
              "color": "#E5ECF6",
              "width": 0.5
             },
             "pattern": {
              "fillmode": "overlay",
              "size": 10,
              "solidity": 0.2
             }
            },
            "type": "bar"
           }
          ],
          "barpolar": [
           {
            "marker": {
             "line": {
              "color": "#E5ECF6",
              "width": 0.5
             },
             "pattern": {
              "fillmode": "overlay",
              "size": 10,
              "solidity": 0.2
             }
            },
            "type": "barpolar"
           }
          ],
          "carpet": [
           {
            "aaxis": {
             "endlinecolor": "#2a3f5f",
             "gridcolor": "white",
             "linecolor": "white",
             "minorgridcolor": "white",
             "startlinecolor": "#2a3f5f"
            },
            "baxis": {
             "endlinecolor": "#2a3f5f",
             "gridcolor": "white",
             "linecolor": "white",
             "minorgridcolor": "white",
             "startlinecolor": "#2a3f5f"
            },
            "type": "carpet"
           }
          ],
          "choropleth": [
           {
            "colorbar": {
             "outlinewidth": 0,
             "ticks": ""
            },
            "type": "choropleth"
           }
          ],
          "contour": [
           {
            "colorbar": {
             "outlinewidth": 0,
             "ticks": ""
            },
            "colorscale": [
             [
              0,
              "#0d0887"
             ],
             [
              0.1111111111111111,
              "#46039f"
             ],
             [
              0.2222222222222222,
              "#7201a8"
             ],
             [
              0.3333333333333333,
              "#9c179e"
             ],
             [
              0.4444444444444444,
              "#bd3786"
             ],
             [
              0.5555555555555556,
              "#d8576b"
             ],
             [
              0.6666666666666666,
              "#ed7953"
             ],
             [
              0.7777777777777778,
              "#fb9f3a"
             ],
             [
              0.8888888888888888,
              "#fdca26"
             ],
             [
              1,
              "#f0f921"
             ]
            ],
            "type": "contour"
           }
          ],
          "contourcarpet": [
           {
            "colorbar": {
             "outlinewidth": 0,
             "ticks": ""
            },
            "type": "contourcarpet"
           }
          ],
          "heatmap": [
           {
            "colorbar": {
             "outlinewidth": 0,
             "ticks": ""
            },
            "colorscale": [
             [
              0,
              "#0d0887"
             ],
             [
              0.1111111111111111,
              "#46039f"
             ],
             [
              0.2222222222222222,
              "#7201a8"
             ],
             [
              0.3333333333333333,
              "#9c179e"
             ],
             [
              0.4444444444444444,
              "#bd3786"
             ],
             [
              0.5555555555555556,
              "#d8576b"
             ],
             [
              0.6666666666666666,
              "#ed7953"
             ],
             [
              0.7777777777777778,
              "#fb9f3a"
             ],
             [
              0.8888888888888888,
              "#fdca26"
             ],
             [
              1,
              "#f0f921"
             ]
            ],
            "type": "heatmap"
           }
          ],
          "heatmapgl": [
           {
            "colorbar": {
             "outlinewidth": 0,
             "ticks": ""
            },
            "colorscale": [
             [
              0,
              "#0d0887"
             ],
             [
              0.1111111111111111,
              "#46039f"
             ],
             [
              0.2222222222222222,
              "#7201a8"
             ],
             [
              0.3333333333333333,
              "#9c179e"
             ],
             [
              0.4444444444444444,
              "#bd3786"
             ],
             [
              0.5555555555555556,
              "#d8576b"
             ],
             [
              0.6666666666666666,
              "#ed7953"
             ],
             [
              0.7777777777777778,
              "#fb9f3a"
             ],
             [
              0.8888888888888888,
              "#fdca26"
             ],
             [
              1,
              "#f0f921"
             ]
            ],
            "type": "heatmapgl"
           }
          ],
          "histogram": [
           {
            "marker": {
             "pattern": {
              "fillmode": "overlay",
              "size": 10,
              "solidity": 0.2
             }
            },
            "type": "histogram"
           }
          ],
          "histogram2d": [
           {
            "colorbar": {
             "outlinewidth": 0,
             "ticks": ""
            },
            "colorscale": [
             [
              0,
              "#0d0887"
             ],
             [
              0.1111111111111111,
              "#46039f"
             ],
             [
              0.2222222222222222,
              "#7201a8"
             ],
             [
              0.3333333333333333,
              "#9c179e"
             ],
             [
              0.4444444444444444,
              "#bd3786"
             ],
             [
              0.5555555555555556,
              "#d8576b"
             ],
             [
              0.6666666666666666,
              "#ed7953"
             ],
             [
              0.7777777777777778,
              "#fb9f3a"
             ],
             [
              0.8888888888888888,
              "#fdca26"
             ],
             [
              1,
              "#f0f921"
             ]
            ],
            "type": "histogram2d"
           }
          ],
          "histogram2dcontour": [
           {
            "colorbar": {
             "outlinewidth": 0,
             "ticks": ""
            },
            "colorscale": [
             [
              0,
              "#0d0887"
             ],
             [
              0.1111111111111111,
              "#46039f"
             ],
             [
              0.2222222222222222,
              "#7201a8"
             ],
             [
              0.3333333333333333,
              "#9c179e"
             ],
             [
              0.4444444444444444,
              "#bd3786"
             ],
             [
              0.5555555555555556,
              "#d8576b"
             ],
             [
              0.6666666666666666,
              "#ed7953"
             ],
             [
              0.7777777777777778,
              "#fb9f3a"
             ],
             [
              0.8888888888888888,
              "#fdca26"
             ],
             [
              1,
              "#f0f921"
             ]
            ],
            "type": "histogram2dcontour"
           }
          ],
          "mesh3d": [
           {
            "colorbar": {
             "outlinewidth": 0,
             "ticks": ""
            },
            "type": "mesh3d"
           }
          ],
          "parcoords": [
           {
            "line": {
             "colorbar": {
              "outlinewidth": 0,
              "ticks": ""
             }
            },
            "type": "parcoords"
           }
          ],
          "pie": [
           {
            "automargin": true,
            "type": "pie"
           }
          ],
          "scatter": [
           {
            "fillpattern": {
             "fillmode": "overlay",
             "size": 10,
             "solidity": 0.2
            },
            "type": "scatter"
           }
          ],
          "scatter3d": [
           {
            "line": {
             "colorbar": {
              "outlinewidth": 0,
              "ticks": ""
             }
            },
            "marker": {
             "colorbar": {
              "outlinewidth": 0,
              "ticks": ""
             }
            },
            "type": "scatter3d"
           }
          ],
          "scattercarpet": [
           {
            "marker": {
             "colorbar": {
              "outlinewidth": 0,
              "ticks": ""
             }
            },
            "type": "scattercarpet"
           }
          ],
          "scattergeo": [
           {
            "marker": {
             "colorbar": {
              "outlinewidth": 0,
              "ticks": ""
             }
            },
            "type": "scattergeo"
           }
          ],
          "scattergl": [
           {
            "marker": {
             "colorbar": {
              "outlinewidth": 0,
              "ticks": ""
             }
            },
            "type": "scattergl"
           }
          ],
          "scattermapbox": [
           {
            "marker": {
             "colorbar": {
              "outlinewidth": 0,
              "ticks": ""
             }
            },
            "type": "scattermapbox"
           }
          ],
          "scatterpolar": [
           {
            "marker": {
             "colorbar": {
              "outlinewidth": 0,
              "ticks": ""
             }
            },
            "type": "scatterpolar"
           }
          ],
          "scatterpolargl": [
           {
            "marker": {
             "colorbar": {
              "outlinewidth": 0,
              "ticks": ""
             }
            },
            "type": "scatterpolargl"
           }
          ],
          "scatterternary": [
           {
            "marker": {
             "colorbar": {
              "outlinewidth": 0,
              "ticks": ""
             }
            },
            "type": "scatterternary"
           }
          ],
          "surface": [
           {
            "colorbar": {
             "outlinewidth": 0,
             "ticks": ""
            },
            "colorscale": [
             [
              0,
              "#0d0887"
             ],
             [
              0.1111111111111111,
              "#46039f"
             ],
             [
              0.2222222222222222,
              "#7201a8"
             ],
             [
              0.3333333333333333,
              "#9c179e"
             ],
             [
              0.4444444444444444,
              "#bd3786"
             ],
             [
              0.5555555555555556,
              "#d8576b"
             ],
             [
              0.6666666666666666,
              "#ed7953"
             ],
             [
              0.7777777777777778,
              "#fb9f3a"
             ],
             [
              0.8888888888888888,
              "#fdca26"
             ],
             [
              1,
              "#f0f921"
             ]
            ],
            "type": "surface"
           }
          ],
          "table": [
           {
            "cells": {
             "fill": {
              "color": "#EBF0F8"
             },
             "line": {
              "color": "white"
             }
            },
            "header": {
             "fill": {
              "color": "#C8D4E3"
             },
             "line": {
              "color": "white"
             }
            },
            "type": "table"
           }
          ]
         },
         "layout": {
          "annotationdefaults": {
           "arrowcolor": "#2a3f5f",
           "arrowhead": 0,
           "arrowwidth": 1
          },
          "autotypenumbers": "strict",
          "coloraxis": {
           "colorbar": {
            "outlinewidth": 0,
            "ticks": ""
           }
          },
          "colorscale": {
           "diverging": [
            [
             0,
             "#8e0152"
            ],
            [
             0.1,
             "#c51b7d"
            ],
            [
             0.2,
             "#de77ae"
            ],
            [
             0.3,
             "#f1b6da"
            ],
            [
             0.4,
             "#fde0ef"
            ],
            [
             0.5,
             "#f7f7f7"
            ],
            [
             0.6,
             "#e6f5d0"
            ],
            [
             0.7,
             "#b8e186"
            ],
            [
             0.8,
             "#7fbc41"
            ],
            [
             0.9,
             "#4d9221"
            ],
            [
             1,
             "#276419"
            ]
           ],
           "sequential": [
            [
             0,
             "#0d0887"
            ],
            [
             0.1111111111111111,
             "#46039f"
            ],
            [
             0.2222222222222222,
             "#7201a8"
            ],
            [
             0.3333333333333333,
             "#9c179e"
            ],
            [
             0.4444444444444444,
             "#bd3786"
            ],
            [
             0.5555555555555556,
             "#d8576b"
            ],
            [
             0.6666666666666666,
             "#ed7953"
            ],
            [
             0.7777777777777778,
             "#fb9f3a"
            ],
            [
             0.8888888888888888,
             "#fdca26"
            ],
            [
             1,
             "#f0f921"
            ]
           ],
           "sequentialminus": [
            [
             0,
             "#0d0887"
            ],
            [
             0.1111111111111111,
             "#46039f"
            ],
            [
             0.2222222222222222,
             "#7201a8"
            ],
            [
             0.3333333333333333,
             "#9c179e"
            ],
            [
             0.4444444444444444,
             "#bd3786"
            ],
            [
             0.5555555555555556,
             "#d8576b"
            ],
            [
             0.6666666666666666,
             "#ed7953"
            ],
            [
             0.7777777777777778,
             "#fb9f3a"
            ],
            [
             0.8888888888888888,
             "#fdca26"
            ],
            [
             1,
             "#f0f921"
            ]
           ]
          },
          "colorway": [
           "#636efa",
           "#EF553B",
           "#00cc96",
           "#ab63fa",
           "#FFA15A",
           "#19d3f3",
           "#FF6692",
           "#B6E880",
           "#FF97FF",
           "#FECB52"
          ],
          "font": {
           "color": "#2a3f5f"
          },
          "geo": {
           "bgcolor": "white",
           "lakecolor": "white",
           "landcolor": "#E5ECF6",
           "showlakes": true,
           "showland": true,
           "subunitcolor": "white"
          },
          "hoverlabel": {
           "align": "left"
          },
          "hovermode": "closest",
          "mapbox": {
           "style": "light"
          },
          "paper_bgcolor": "white",
          "plot_bgcolor": "#E5ECF6",
          "polar": {
           "angularaxis": {
            "gridcolor": "white",
            "linecolor": "white",
            "ticks": ""
           },
           "bgcolor": "#E5ECF6",
           "radialaxis": {
            "gridcolor": "white",
            "linecolor": "white",
            "ticks": ""
           }
          },
          "scene": {
           "xaxis": {
            "backgroundcolor": "#E5ECF6",
            "gridcolor": "white",
            "gridwidth": 2,
            "linecolor": "white",
            "showbackground": true,
            "ticks": "",
            "zerolinecolor": "white"
           },
           "yaxis": {
            "backgroundcolor": "#E5ECF6",
            "gridcolor": "white",
            "gridwidth": 2,
            "linecolor": "white",
            "showbackground": true,
            "ticks": "",
            "zerolinecolor": "white"
           },
           "zaxis": {
            "backgroundcolor": "#E5ECF6",
            "gridcolor": "white",
            "gridwidth": 2,
            "linecolor": "white",
            "showbackground": true,
            "ticks": "",
            "zerolinecolor": "white"
           }
          },
          "shapedefaults": {
           "line": {
            "color": "#2a3f5f"
           }
          },
          "ternary": {
           "aaxis": {
            "gridcolor": "white",
            "linecolor": "white",
            "ticks": ""
           },
           "baxis": {
            "gridcolor": "white",
            "linecolor": "white",
            "ticks": ""
           },
           "bgcolor": "#E5ECF6",
           "caxis": {
            "gridcolor": "white",
            "linecolor": "white",
            "ticks": ""
           }
          },
          "title": {
           "x": 0.05
          },
          "xaxis": {
           "automargin": true,
           "gridcolor": "white",
           "linecolor": "white",
           "ticks": "",
           "title": {
            "standoff": 15
           },
           "zerolinecolor": "white",
           "zerolinewidth": 2
          },
          "yaxis": {
           "automargin": true,
           "gridcolor": "white",
           "linecolor": "white",
           "ticks": "",
           "title": {
            "standoff": 15
           },
           "zerolinecolor": "white",
           "zerolinewidth": 2
          }
         }
        },
        "title": {
         "text": "Top 20 hotels for our kite surfing trip"
        }
       }
      }
     },
     "metadata": {},
     "output_type": "display_data"
    }
   ],
   "source": [
    "fig = px.scatter_mapbox(\n",
    "    top20_hotels, \n",
    "    title=\"Top 20 hotels for our kite surfing trip\", \n",
    "    lat=\"hotel_lat\", \n",
    "    lon=\"hotel_lon\", \n",
    "    zoom=5, \n",
    "    mapbox_style=\"open-street-map\",\n",
    "    size=\"hotel_score\",\n",
    "    color = 'city',\n",
    "    hover_name= 'hotel_name',\n",
    "    hover_data = ['city', 'hotel_score','hotel_voters'],\n",
    "\n",
    ")\n",
    "\n",
    "\n",
    "fig.show()\n",
    "\n",
    "# To show picture in Github (not interactive)\n",
    "image = Image.open('final pictures/top5_cities_picture.jpg')\n",
    "image.show()"
   ]
  },
  {
   "cell_type": "markdown",
   "metadata": {},
   "source": [
    "![alt text](https://raw.githubusercontent.com/elodiesune/PROJECT_Kayak/main/final%20pictures/top20_hotels_picture.jpg)"
   ]
  },
  {
   "cell_type": "code",
   "execution_count": 20,
   "metadata": {},
   "outputs": [],
   "source": [
    "# Close the session\n",
    "session.close()"
   ]
  }
 ],
 "metadata": {
  "kernelspec": {
   "display_name": "base",
   "language": "python",
   "name": "python3"
  },
  "language_info": {
   "codemirror_mode": {
    "name": "ipython",
    "version": 3
   },
   "file_extension": ".py",
   "mimetype": "text/x-python",
   "name": "python",
   "nbconvert_exporter": "python",
   "pygments_lexer": "ipython3",
   "version": "3.9.13"
  },
  "orig_nbformat": 4
 },
 "nbformat": 4,
 "nbformat_minor": 2
}
